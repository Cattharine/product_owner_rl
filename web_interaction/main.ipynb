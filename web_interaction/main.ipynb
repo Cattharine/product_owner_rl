{
 "cells": [
  {
   "cell_type": "code",
   "execution_count": 1,
   "metadata": {},
   "outputs": [],
   "source": [
    "from selenium.webdriver.common.by import By\n",
    "from selenium.webdriver.remote.webelement import WebElement\n",
    "\n",
    "import cv2\n",
    "import time"
   ]
  },
  {
   "cell_type": "code",
   "execution_count": 2,
   "metadata": {},
   "outputs": [],
   "source": [
    "import sys\n",
    "sys.path.insert(0, '..')\n",
    "\n",
    "from web_interaction.main import open_game, start_game, wait_loading, insert_user_stories_from_image\n",
    "from web_interaction.main import fill_game_main_info_from_image\n",
    "from web_interaction.main import apply_decompose_action, apply_user_story_action\n",
    "from game.game import ProductOwnerGame\n",
    "from environment.backlog_env import BacklogEnv\n",
    "from environment.environment import ProductOwnerEnv\n",
    "from environment.reward_sytem.base_reward_system import BaseRewardSystem\n",
    "from environment.userstory_env import UserstoryEnv\n",
    "\n",
    "from pipeline.study_agent import load_dqn_agent"
   ]
  },
  {
   "cell_type": "code",
   "execution_count": 3,
   "metadata": {},
   "outputs": [],
   "source": [
    "agent = load_dqn_agent('../models/credit_start_model.pt')"
   ]
  },
  {
   "cell_type": "code",
   "execution_count": 4,
   "metadata": {},
   "outputs": [],
   "source": [
    "driver = open_game()\n",
    "\n",
    "iframe = driver.find_element(by=By.ID, value='game_drop')"
   ]
  },
  {
   "cell_type": "code",
   "execution_count": 5,
   "metadata": {},
   "outputs": [],
   "source": [
    "# open full screen\n",
    "fullscreen_button = driver.find_element(by=By.CLASS_NAME, value=\"fullscreen_btn\")\n",
    "fullscreen_button.click()"
   ]
  },
  {
   "cell_type": "code",
   "execution_count": 6,
   "metadata": {},
   "outputs": [],
   "source": [
    "height = iframe.rect[\"height\"]  # 540 or 1028\n",
    "width = iframe.rect[\"width\"]  # 960 or 1920"
   ]
  },
  {
   "cell_type": "code",
   "execution_count": 7,
   "metadata": {},
   "outputs": [],
   "source": [
    "wait_loading(iframe)\n",
    "\n",
    "start_game(driver, iframe)"
   ]
  },
  {
   "cell_type": "code",
   "execution_count": 8,
   "metadata": {},
   "outputs": [],
   "source": [
    "iframe.screenshot('game_state.png')\n",
    "\n",
    "image = cv2.imread('game_state.png')"
   ]
  },
  {
   "cell_type": "code",
   "execution_count": 9,
   "metadata": {},
   "outputs": [],
   "source": [
    "class EmptyColorStorage:\n",
    "    def __init__(self) -> None:\n",
    "        pass\n",
    "\n",
    "    def get_unused_color(self, uc_type):\n",
    "        pass\n",
    "\n",
    "    def release_color(self, us_type, color):\n",
    "        pass"
   ]
  },
  {
   "cell_type": "code",
   "execution_count": 10,
   "metadata": {},
   "outputs": [],
   "source": [
    "game = ProductOwnerGame()\n",
    "context = game.context\n",
    "\n",
    "context.is_new_game = False\n",
    "game.is_first_release = False\n",
    "game.userstories.disable_restrictions()\n",
    "game.office.toggle_purchases(True)\n",
    "\n",
    "available_developers_count = 2\n",
    "current_rooms_counter = 1\n",
    "blank_sprint_counter = 0\n",
    "\n",
    "game.context.color_storage = EmptyColorStorage()"
   ]
  },
  {
   "cell_type": "code",
   "execution_count": 11,
   "metadata": {},
   "outputs": [
    {
     "data": {
      "text/plain": [
       "[S l:0.075 c:3.0]"
      ]
     },
     "execution_count": 11,
     "metadata": {},
     "output_type": "execute_result"
    }
   ],
   "source": [
    "insert_user_stories_from_image(game, image)\n",
    "\n",
    "game.userstories.stories_list"
   ]
  },
  {
   "cell_type": "code",
   "execution_count": 12,
   "metadata": {},
   "outputs": [
    {
     "name": "stdout",
     "output_type": "stream",
     "text": [
      "Sprint 4.0\n",
      "Sprint hours 0\n",
      "Money 33000.0\n",
      "Loyalty 4.0\n",
      "Customers 25.0\n",
      "Credit 273000.0\n"
     ]
    }
   ],
   "source": [
    "fill_game_main_info_from_image(game, image)\n",
    "\n",
    "print('Sprint', game.context.current_sprint)\n",
    "print('Sprint hours', game.context.current_sprint_hours)\n",
    "print('Money', game.context.get_money())\n",
    "print('Loyalty', game.context.get_loyalty())\n",
    "print('Customers', game.context.customers)\n",
    "print('Credit', game.context.credit)"
   ]
  },
  {
   "cell_type": "code",
   "execution_count": 13,
   "metadata": {},
   "outputs": [],
   "source": [
    "userstory_env = UserstoryEnv(4, 0, 0)\n",
    "backlog_env = BacklogEnv(12, 0, 0, 0, 0, 0)\n",
    "reward_system = BaseRewardSystem(config={})\n",
    "env = ProductOwnerEnv(userstory_env, backlog_env, with_info=True, reward_system=reward_system)\n",
    "env.game = game"
   ]
  },
  {
   "cell_type": "code",
   "execution_count": 14,
   "metadata": {},
   "outputs": [],
   "source": [
    "from web_interaction.main import (\n",
    "    apply_start_sprint_action,\n",
    "    apply_release_action,\n",
    "    apply_buy_statistical_research_action,\n",
    "    apply_backlog_card_action\n",
    ")\n",
    "\n",
    "\n",
    "def apply_web_action(action: int, driver, iframe: WebElement, env: ProductOwnerEnv):\n",
    "    if action == 0:  # start sprint\n",
    "\n",
    "        apply_start_sprint_action(driver, iframe, width, height, env)\n",
    "\n",
    "        return\n",
    "\n",
    "    if action == 1:  # decompose\n",
    "\n",
    "        apply_decompose_action(driver, iframe, width, height, env)\n",
    "\n",
    "        return\n",
    "\n",
    "    if action == 2:  # release\n",
    "\n",
    "        apply_release_action(driver, iframe, width, height, env)\n",
    "\n",
    "        return\n",
    "\n",
    "    if action == 5:  # buy statistical research\n",
    "\n",
    "        apply_buy_statistical_research_action(driver, iframe, env)\n",
    "\n",
    "        return\n",
    "\n",
    "    if action >= env.meta_action_dim:\n",
    "\n",
    "        action -= env.meta_action_dim\n",
    "\n",
    "    if action < env.userstory_env.max_action_num:\n",
    "\n",
    "        apply_user_story_action(action, driver, iframe, env)\n",
    "\n",
    "        return\n",
    "\n",
    "    action -= env.userstory_env.max_action_num\n",
    "\n",
    "    if action < env.backlog_env.backlog_max_action_num:\n",
    "\n",
    "        apply_backlog_card_action(action, driver, iframe, env)\n",
    "\n",
    "        return\n",
    "\n",
    "    raise Exception(f\"Unknown action: {action}\")"
   ]
  },
  {
   "cell_type": "code",
   "execution_count": 15,
   "metadata": {},
   "outputs": [
    {
     "name": "stdout",
     "output_type": "stream",
     "text": [
      "Start user story action: 3\n",
      "User story: S l:0.075 c:3.0\n",
      "True\n",
      "Start decomposition\n",
      "frozenset({(0, 23), (2, 247), (1, 150)})\n",
      "16.0\n",
      "7.0\n",
      "8.0\n",
      "6.0\n",
      "1.0\n",
      "Start moving backlog card\n",
      "Selected card Hours: 16.0, Color: frozenset({(0, 23), (2, 247), (1, 150)}), Label: S, Type: UserCardType.S\n",
      "Found at position (1472, 349)\n",
      "Clicked on card\n",
      "Start moving backlog card\n",
      "Selected card Hours: 1.0, Color: frozenset({(0, 23), (2, 247), (1, 150)}), Label: S, Type: UserCardType.S\n",
      "Found at position (1559, 437)\n",
      "Clicked on card\n",
      "Start new sprint\n",
      "Start new sprint\n",
      "Start moving backlog card\n",
      "Selected card Hours: 6.0, Color: frozenset({(0, 23), (2, 247), (1, 150)}), Label: S, Type: UserCardType.S\n",
      "Found at position (1472, 437)\n",
      "Clicked on card\n",
      "Start moving backlog card\n",
      "Selected card Hours: 7.0, Color: frozenset({(0, 23), (2, 247), (1, 150)}), Label: S, Type: UserCardType.S\n",
      "Found at position (1472, 349)\n",
      "Clicked on card\n",
      "Start new sprint\n",
      "Start moving backlog card\n",
      "Selected card Hours: 8.0, Color: frozenset({(0, 23), (2, 247), (1, 150)}), Label: S, Type: UserCardType.S\n",
      "Found at position (1472, 349)\n",
      "Clicked on card\n",
      "Start new sprint\n",
      "Start new sprint\n",
      "Start new sprint\n",
      "Start new sprint\n",
      "Start user story action: 3\n",
      "User story: S l:0.065 c:2.0\n",
      "True\n",
      "Start decomposition\n",
      "frozenset({(0, 115), (1, 188), (2, 30)})\n",
      "14.0\n",
      "7.0\n",
      "14.0\n",
      "3.0\n",
      "Start moving backlog card\n",
      "Selected card Hours: 7.0, Color: frozenset({(0, 115), (1, 188), (2, 30)}), Label: S, Type: UserCardType.S\n",
      "Found at position (1559, 349)\n",
      "Clicked on card\n",
      "Start moving backlog card\n",
      "Selected card Hours: 3.0, Color: frozenset({(0, 115), (1, 188), (2, 30)}), Label: S, Type: UserCardType.S\n",
      "Found at position (1472, 437)\n",
      "Clicked on card\n",
      "Start new sprint\n",
      "Start moving backlog card\n",
      "Selected card Hours: 14.0, Color: frozenset({(0, 115), (1, 188), (2, 30)}), Label: S, Type: UserCardType.S\n",
      "Found at position (1472, 349)\n",
      "Clicked on card\n",
      "Start new sprint\n",
      "Start moving backlog card\n",
      "Selected card Hours: 14.0, Color: frozenset({(0, 115), (1, 188), (2, 30)}), Label: S, Type: UserCardType.S\n",
      "Found at position (1472, 349)\n",
      "Clicked on card\n",
      "Start new sprint\n",
      "Start new sprint\n",
      "Start user story action: 1\n",
      "User story: S l:0.07 c:1.0\n",
      "True\n",
      "Start new sprint\n",
      "Start decomposition\n",
      "frozenset({(0, 43), (2, 249), (1, 194)})\n",
      "10.0\n",
      "18.0\n",
      "10.0\n",
      "Start moving backlog card\n",
      "Selected card Hours: 10.0, Color: frozenset({(0, 43), (2, 249), (1, 194)}), Label: S, Type: UserCardType.S\n",
      "Found at position (1472, 349)\n",
      "Clicked on card\n",
      "Start new sprint\n",
      "Start moving backlog card\n",
      "Selected card Hours: 18.0, Color: frozenset({(0, 43), (2, 249), (1, 194)}), Label: S, Type: UserCardType.S\n",
      "Found at position (1472, 349)\n",
      "Clicked on card\n",
      "Start new sprint\n",
      "Start moving backlog card\n",
      "Selected card Hours: 10.0, Color: frozenset({(0, 43), (2, 249), (1, 194)}), Label: S, Type: UserCardType.S\n",
      "Found at position (1472, 349)\n",
      "Clicked on card\n",
      "Start new sprint\n",
      "Start new sprint\n",
      "Start new sprint\n",
      "Start user story action: 3\n",
      "User story: S l:0.035 c:3.0\n",
      "True\n",
      "Start decomposition\n"
     ]
    },
    {
     "data": {
      "image/png": "[encoded data removed]",
      "text/plain": [
       "<Figure size 640x480 with 1 Axes>"
      ]
     },
     "metadata": {},
     "output_type": "display_data"
    },
    {
     "name": "stdout",
     "output_type": "stream",
     "text": [
      "frozenset({(0, 255), (1, 211), (2, 143)})\n",
      "9.0\n",
      "7.0\n",
      "15.0\n",
      "7.0\n",
      "Start moving backlog card\n",
      "Selected card Hours: 15.0, Color: frozenset({(0, 255), (1, 211), (2, 143)}), Label: S, Type: UserCardType.S\n",
      "Found at position (1472, 437)\n",
      "Clicked on card\n",
      "Start new sprint\n",
      "Start moving backlog card\n",
      "Selected card Hours: 7.0, Color: frozenset({(0, 255), (1, 211), (2, 143)}), Label: S, Type: UserCardType.S\n",
      "Found at position (1559, 349)\n",
      "Clicked on card\n",
      "Start moving backlog card\n",
      "Selected card Hours: 7.0, Color: frozenset({(0, 255), (1, 211), (2, 143)}), Label: S, Type: UserCardType.S\n",
      "Found at position (1559, 349)\n",
      "Clicked on card\n",
      "Start new sprint\n",
      "Start moving backlog card\n",
      "Selected card Hours: 9.0, Color: frozenset({(0, 255), (1, 211), (2, 143)}), Label: S, Type: UserCardType.S\n",
      "Found at position (1472, 349)\n",
      "Clicked on card\n",
      "Start new sprint\n",
      "Start new sprint\n",
      "Start user story action: 1\n",
      "User story: S l:0.025 c:1.0\n",
      "True\n",
      "Start decomposition\n",
      "frozenset({(0, 43), (2, 249), (1, 194)})\n",
      "7.0\n",
      "17.0\n",
      "13.0\n",
      "1.0\n",
      "Start moving backlog card\n",
      "Selected card Hours: 13.0, Color: frozenset({(0, 43), (2, 249), (1, 194)}), Label: S, Type: UserCardType.S\n",
      "Found at position (1472, 437)\n",
      "Clicked on card\n",
      "Start moving backlog card\n",
      "Selected card Hours: 1.0, Color: frozenset({(0, 43), (2, 249), (1, 194)}), Label: S, Type: UserCardType.S\n",
      "Found at position (1472, 437)\n",
      "Clicked on card\n",
      "Start new sprint\n",
      "Start moving backlog card\n",
      "Selected card Hours: 7.0, Color: frozenset({(0, 43), (2, 249), (1, 194)}), Label: S, Type: UserCardType.S\n",
      "Found at position (1472, 349)\n",
      "Clicked on card\n",
      "Start new sprint\n",
      "Start moving backlog card\n",
      "Selected card Hours: 17.0, Color: frozenset({(0, 43), (2, 249), (1, 194)}), Label: S, Type: UserCardType.S\n",
      "Found at position (1472, 349)\n",
      "Clicked on card\n",
      "Start new sprint\n",
      "Start new sprint\n",
      "Start new sprint\n",
      "Start new sprint\n",
      "Start user story action: 1\n",
      "User story: S l:0.03 c:2.0\n",
      "True\n",
      "Start decomposition\n",
      "frozenset({(0, 115), (1, 188), (2, 30)})\n",
      "16.0\n",
      "19.0\n",
      "3.0\n",
      "Start moving backlog card\n",
      "Selected card Hours: 16.0, Color: frozenset({(0, 115), (1, 188), (2, 30)}), Label: S, Type: UserCardType.S\n",
      "Found at position (1472, 349)\n",
      "Clicked on card\n",
      "Start new sprint\n",
      "Start moving backlog card\n",
      "Selected card Hours: 3.0, Color: frozenset({(0, 115), (1, 188), (2, 30)}), Label: S, Type: UserCardType.S\n",
      "Found at position (1559, 349)\n",
      "Clicked on card\n",
      "Start new sprint\n",
      "Start moving backlog card\n",
      "Selected card Hours: 19.0, Color: frozenset({(0, 115), (1, 188), (2, 30)}), Label: S, Type: UserCardType.S\n",
      "Found at position (1472, 349)\n",
      "Clicked on card\n",
      "Start new sprint\n",
      "Start user story action: 0\n",
      "User story: S l:0.025 c:3.0\n",
      "True\n",
      "Start new sprint\n"
     ]
    }
   ],
   "source": [
    "while not game.context.done:\n",
    "    state = env.recalculate_state()\n",
    "    # print(state)\n",
    "\n",
    "    info = env.get_info()\n",
    "    # print(info)\n",
    "\n",
    "    action = agent.get_action(state, info)\n",
    "    # print(action)\n",
    "\n",
    "    time.sleep(1)\n",
    "    apply_web_action(action, driver, iframe, env)\n",
    "\n",
    "    if env.game.context.current_sprint >= 35:\n",
    "        break"
   ]
  },
  {
   "cell_type": "code",
   "execution_count": 16,
   "metadata": {},
   "outputs": [
    {
     "name": "stdout",
     "output_type": "stream",
     "text": [
      "Start new sprint\n",
      "Start new sprint\n",
      "Start new sprint\n",
      "Start new sprint\n",
      "Start new sprint\n",
      "Start new sprint\n",
      "Start new sprint\n",
      "Start new sprint\n",
      "Start new sprint\n",
      "Start new sprint\n",
      "Start new sprint\n",
      "Start new sprint\n",
      "Start new sprint\n",
      "Start new sprint\n",
      "Start new sprint\n",
      "Start new sprint\n"
     ]
    },
    {
     "data": {
      "image/png": "[encoded data removed]",
      "text/plain": [
       "<Figure size 640x480 with 1 Axes>"
      ]
     },
     "metadata": {},
     "output_type": "display_data"
    },
    {
     "ename": "KeyboardInterrupt",
     "evalue": "Interrupted by user",
     "output_type": "error",
     "traceback": [
      "\u001b[1;31m---------------------------------------------------------------------------\u001b[0m",
      "\u001b[1;31mKeyboardInterrupt\u001b[0m                         Traceback (most recent call last)",
      "Cell \u001b[1;32mIn[16], line 3\u001b[0m\n\u001b[0;32m      1\u001b[0m \u001b[38;5;28;01mwhile\u001b[39;00m \u001b[38;5;129;01mnot\u001b[39;00m game\u001b[38;5;241m.\u001b[39mcontext\u001b[38;5;241m.\u001b[39mdone:\n\u001b[0;32m      2\u001b[0m     time\u001b[38;5;241m.\u001b[39msleep(\u001b[38;5;241m1\u001b[39m)\n\u001b[1;32m----> 3\u001b[0m     \u001b[43mapply_web_action\u001b[49m\u001b[43m(\u001b[49m\u001b[38;5;241;43m0\u001b[39;49m\u001b[43m,\u001b[49m\u001b[43m \u001b[49m\u001b[43mdriver\u001b[49m\u001b[43m,\u001b[49m\u001b[43m \u001b[49m\u001b[43miframe\u001b[49m\u001b[43m,\u001b[49m\u001b[43m \u001b[49m\u001b[43menv\u001b[49m\u001b[43m)\u001b[49m\n",
      "Cell \u001b[1;32mIn[14], line 12\u001b[0m, in \u001b[0;36mapply_web_action\u001b[1;34m(action, driver, iframe, env)\u001b[0m\n\u001b[0;32m      9\u001b[0m \u001b[38;5;28;01mdef\u001b[39;00m \u001b[38;5;21mapply_web_action\u001b[39m(action: \u001b[38;5;28mint\u001b[39m, driver, iframe: WebElement, env: ProductOwnerEnv):\n\u001b[0;32m     10\u001b[0m     \u001b[38;5;28;01mif\u001b[39;00m action \u001b[38;5;241m==\u001b[39m \u001b[38;5;241m0\u001b[39m:  \u001b[38;5;66;03m# start sprint\u001b[39;00m\n\u001b[1;32m---> 12\u001b[0m         \u001b[43mapply_start_sprint_action\u001b[49m\u001b[43m(\u001b[49m\u001b[43mdriver\u001b[49m\u001b[43m,\u001b[49m\u001b[43m \u001b[49m\u001b[43miframe\u001b[49m\u001b[43m,\u001b[49m\u001b[43m \u001b[49m\u001b[43mwidth\u001b[49m\u001b[43m,\u001b[49m\u001b[43m \u001b[49m\u001b[43mheight\u001b[49m\u001b[43m,\u001b[49m\u001b[43m \u001b[49m\u001b[43menv\u001b[49m\u001b[43m)\u001b[49m\n\u001b[0;32m     14\u001b[0m         \u001b[38;5;28;01mreturn\u001b[39;00m\n\u001b[0;32m     16\u001b[0m     \u001b[38;5;28;01mif\u001b[39;00m action \u001b[38;5;241m==\u001b[39m \u001b[38;5;241m1\u001b[39m:  \u001b[38;5;66;03m# decompose\u001b[39;00m\n",
      "File \u001b[1;32mc:\\Users\\kruto\\Desktop\\RL_Product\\product_owner_rl\\web_interaction\\..\\web_interaction\\main.py:240\u001b[0m, in \u001b[0;36mapply_start_sprint_action\u001b[1;34m(driver, iframe, width, height, env)\u001b[0m\n\u001b[0;32m    237\u001b[0m game_image \u001b[38;5;241m=\u001b[39m cv2\u001b[38;5;241m.\u001b[39mimread(filename)\n\u001b[0;32m    238\u001b[0m \u001b[38;5;66;03m# os.remove(filename)\u001b[39;00m\n\u001b[1;32m--> 240\u001b[0m \u001b[43mfill_game_main_info_from_image\u001b[49m\u001b[43m(\u001b[49m\u001b[43menv\u001b[49m\u001b[38;5;241;43m.\u001b[39;49m\u001b[43mgame\u001b[49m\u001b[43m,\u001b[49m\u001b[43m \u001b[49m\u001b[43mgame_image\u001b[49m\u001b[43m)\u001b[49m\n",
      "File \u001b[1;32mc:\\Users\\kruto\\Desktop\\RL_Product\\product_owner_rl\\web_interaction\\..\\web_interaction\\main.py:192\u001b[0m, in \u001b[0;36mfill_game_main_info_from_image\u001b[1;34m(game, image)\u001b[0m\n\u001b[0;32m    187\u001b[0m meta_info \u001b[38;5;241m=\u001b[39m image_parser\u001b[38;5;241m.\u001b[39mget_meta_info_image(image)\n\u001b[0;32m    189\u001b[0m \u001b[38;5;66;03m# current_sprint_hours = image_parser.get_current_sprint_hours(image)\u001b[39;00m\n\u001b[0;32m    190\u001b[0m \u001b[38;5;66;03m# context.current_sprint_hours = current_sprint_hours\u001b[39;00m\n\u001b[1;32m--> 192\u001b[0m current_sprint \u001b[38;5;241m=\u001b[39m \u001b[43mimage_parser\u001b[49m\u001b[38;5;241;43m.\u001b[39;49m\u001b[43mget_sprint_number\u001b[49m\u001b[43m(\u001b[49m\u001b[43mmeta_info\u001b[49m\u001b[43m,\u001b[49m\u001b[43m \u001b[49m\u001b[43mimage\u001b[49m\u001b[38;5;241;43m.\u001b[39;49m\u001b[43mshape\u001b[49m\u001b[43m)\u001b[49m\n\u001b[0;32m    193\u001b[0m context\u001b[38;5;241m.\u001b[39mcurrent_sprint \u001b[38;5;241m=\u001b[39m current_sprint\n\u001b[0;32m    195\u001b[0m money \u001b[38;5;241m=\u001b[39m image_parser\u001b[38;5;241m.\u001b[39mget_game_money(meta_info, image\u001b[38;5;241m.\u001b[39mshape)\n",
      "File \u001b[1;32mc:\\Users\\kruto\\Desktop\\RL_Product\\product_owner_rl\\web_interaction\\image_parser.py:316\u001b[0m, in \u001b[0;36mget_sprint_number\u001b[1;34m(meta_info, original_shape)\u001b[0m\n\u001b[0;32m    313\u001b[0m width \u001b[38;5;241m=\u001b[39m position[\u001b[38;5;124m\"\u001b[39m\u001b[38;5;124mwidth\u001b[39m\u001b[38;5;124m\"\u001b[39m]\n\u001b[0;32m    315\u001b[0m sprint \u001b[38;5;241m=\u001b[39m meta_info[y_0:y_1, x_0:x_1]\n\u001b[1;32m--> 316\u001b[0m sprint_n \u001b[38;5;241m=\u001b[39m \u001b[43mget_float\u001b[49m\u001b[43m(\u001b[49m\u001b[43msprint\u001b[49m\u001b[43m,\u001b[49m\u001b[43m \u001b[49m\u001b[43mwidth\u001b[49m\u001b[43m,\u001b[49m\u001b[43m \u001b[49m\u001b[38;5;241;43m5\u001b[39;49m\u001b[43m)\u001b[49m\n\u001b[0;32m    317\u001b[0m \u001b[38;5;28;01mreturn\u001b[39;00m sprint_n\n",
      "File \u001b[1;32mc:\\Users\\kruto\\Desktop\\RL_Product\\product_owner_rl\\web_interaction\\image_parser.py:78\u001b[0m, in \u001b[0;36mget_float\u001b[1;34m(nums, num_width, num_count)\u001b[0m\n\u001b[0;32m     76\u001b[0m plt\u001b[38;5;241m.\u001b[39mimshow(num)\n\u001b[0;32m     77\u001b[0m plt\u001b[38;5;241m.\u001b[39mshow()\n\u001b[1;32m---> 78\u001b[0m filename \u001b[38;5;241m=\u001b[39m \u001b[38;5;28;43minput\u001b[39;49m\u001b[43m(\u001b[49m\u001b[43m)\u001b[49m\n\u001b[0;32m     79\u001b[0m y, x, _ \u001b[38;5;241m=\u001b[39m num\u001b[38;5;241m.\u001b[39mshape\n\u001b[0;32m     80\u001b[0m filename \u001b[38;5;241m+\u001b[39m\u001b[38;5;241m=\u001b[39m \u001b[38;5;124mf\u001b[39m\u001b[38;5;124m\"\u001b[39m\u001b[38;5;124m_\u001b[39m\u001b[38;5;132;01m{\u001b[39;00my\u001b[38;5;132;01m}\u001b[39;00m\u001b[38;5;124mx\u001b[39m\u001b[38;5;132;01m{\u001b[39;00mx\u001b[38;5;132;01m}\u001b[39;00m\u001b[38;5;124m\"\u001b[39m\n",
      "File \u001b[1;32mc:\\Users\\kruto\\Desktop\\RL_Product\\product_owner_rl\\.venv\\lib\\site-packages\\ipykernel\\kernelbase.py:1262\u001b[0m, in \u001b[0;36mKernel.raw_input\u001b[1;34m(self, prompt)\u001b[0m\n\u001b[0;32m   1260\u001b[0m     msg \u001b[38;5;241m=\u001b[39m \u001b[38;5;124m\"\u001b[39m\u001b[38;5;124mraw_input was called, but this frontend does not support input requests.\u001b[39m\u001b[38;5;124m\"\u001b[39m\n\u001b[0;32m   1261\u001b[0m     \u001b[38;5;28;01mraise\u001b[39;00m StdinNotImplementedError(msg)\n\u001b[1;32m-> 1262\u001b[0m \u001b[38;5;28;01mreturn\u001b[39;00m \u001b[38;5;28;43mself\u001b[39;49m\u001b[38;5;241;43m.\u001b[39;49m\u001b[43m_input_request\u001b[49m\u001b[43m(\u001b[49m\n\u001b[0;32m   1263\u001b[0m \u001b[43m    \u001b[49m\u001b[38;5;28;43mstr\u001b[39;49m\u001b[43m(\u001b[49m\u001b[43mprompt\u001b[49m\u001b[43m)\u001b[49m\u001b[43m,\u001b[49m\n\u001b[0;32m   1264\u001b[0m \u001b[43m    \u001b[49m\u001b[38;5;28;43mself\u001b[39;49m\u001b[38;5;241;43m.\u001b[39;49m\u001b[43m_parent_ident\u001b[49m\u001b[43m[\u001b[49m\u001b[38;5;124;43m\"\u001b[39;49m\u001b[38;5;124;43mshell\u001b[39;49m\u001b[38;5;124;43m\"\u001b[39;49m\u001b[43m]\u001b[49m\u001b[43m,\u001b[49m\n\u001b[0;32m   1265\u001b[0m \u001b[43m    \u001b[49m\u001b[38;5;28;43mself\u001b[39;49m\u001b[38;5;241;43m.\u001b[39;49m\u001b[43mget_parent\u001b[49m\u001b[43m(\u001b[49m\u001b[38;5;124;43m\"\u001b[39;49m\u001b[38;5;124;43mshell\u001b[39;49m\u001b[38;5;124;43m\"\u001b[39;49m\u001b[43m)\u001b[49m\u001b[43m,\u001b[49m\n\u001b[0;32m   1266\u001b[0m \u001b[43m    \u001b[49m\u001b[43mpassword\u001b[49m\u001b[38;5;241;43m=\u001b[39;49m\u001b[38;5;28;43;01mFalse\u001b[39;49;00m\u001b[43m,\u001b[49m\n\u001b[0;32m   1267\u001b[0m \u001b[43m\u001b[49m\u001b[43m)\u001b[49m\n",
      "File \u001b[1;32mc:\\Users\\kruto\\Desktop\\RL_Product\\product_owner_rl\\.venv\\lib\\site-packages\\ipykernel\\kernelbase.py:1305\u001b[0m, in \u001b[0;36mKernel._input_request\u001b[1;34m(self, prompt, ident, parent, password)\u001b[0m\n\u001b[0;32m   1302\u001b[0m \u001b[38;5;28;01mexcept\u001b[39;00m \u001b[38;5;167;01mKeyboardInterrupt\u001b[39;00m:\n\u001b[0;32m   1303\u001b[0m     \u001b[38;5;66;03m# re-raise KeyboardInterrupt, to truncate traceback\u001b[39;00m\n\u001b[0;32m   1304\u001b[0m     msg \u001b[38;5;241m=\u001b[39m \u001b[38;5;124m\"\u001b[39m\u001b[38;5;124mInterrupted by user\u001b[39m\u001b[38;5;124m\"\u001b[39m\n\u001b[1;32m-> 1305\u001b[0m     \u001b[38;5;28;01mraise\u001b[39;00m \u001b[38;5;167;01mKeyboardInterrupt\u001b[39;00m(msg) \u001b[38;5;28;01mfrom\u001b[39;00m \u001b[38;5;28;01mNone\u001b[39;00m\n\u001b[0;32m   1306\u001b[0m \u001b[38;5;28;01mexcept\u001b[39;00m \u001b[38;5;167;01mException\u001b[39;00m:\n\u001b[0;32m   1307\u001b[0m     \u001b[38;5;28mself\u001b[39m\u001b[38;5;241m.\u001b[39mlog\u001b[38;5;241m.\u001b[39mwarning(\u001b[38;5;124m\"\u001b[39m\u001b[38;5;124mInvalid Message:\u001b[39m\u001b[38;5;124m\"\u001b[39m, exc_info\u001b[38;5;241m=\u001b[39m\u001b[38;5;28;01mTrue\u001b[39;00m)\n",
      "\u001b[1;31mKeyboardInterrupt\u001b[0m: Interrupted by user"
     ]
    }
   ],
   "source": [
    "while not game.context.done:\n",
    "    time.sleep(1)\n",
    "    apply_web_action(0, driver, iframe, env)"
   ]
  },
  {
   "cell_type": "code",
   "execution_count": null,
   "metadata": {},
   "outputs": [],
   "source": [
    "iframe.rect"
   ]
  },
  {
   "cell_type": "code",
   "execution_count": 17,
   "metadata": {},
   "outputs": [],
   "source": [
    "# driver.quit()"
   ]
  }
 ],
 "metadata": {
  "kernelspec": {
   "display_name": ".venv",
   "language": "python",
   "name": "python3"
  },
  "language_info": {
   "codemirror_mode": {
    "name": "ipython",
    "version": 3
   },
   "file_extension": ".py",
   "mimetype": "text/x-python",
   "name": "python",
   "nbconvert_exporter": "python",
   "pygments_lexer": "ipython3",
   "version": "3.9.13"
  }
 },
 "nbformat": 4,
 "nbformat_minor": 2
}
