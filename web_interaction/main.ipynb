{
 "cells": [
  {
   "cell_type": "code",
   "execution_count": 1,
   "metadata": {},
   "outputs": [],
   "source": [
    "from selenium.webdriver.common.by import By\n",
    "from selenium.webdriver.remote.webelement import WebElement\n",
    "\n",
    "import cv2\n",
    "import logging\n",
    "import time\n",
    "\n",
    "import sys\n",
    "sys.path.insert(0, '..')\n",
    "\n",
    "from web_interaction.main import open_game, start_game, wait_loading\n",
    "from web_interaction.main import fill_game_main_info_from_image\n",
    "from web_interaction.main import apply_decompose_action, apply_user_story_action\n",
    "from game.game import ProductOwnerGame\n",
    "from environment.backlog_env import BacklogEnv\n",
    "from environment.environment import ProductOwnerEnv\n",
    "from environment.reward_sytem.base_reward_system import BaseRewardSystem\n",
    "from environment.userstory_env import UserstoryEnv\n",
    "\n",
    "from pipeline.study_agent import load_dqn_agent\n",
    "\n",
    "from web_interaction import GameImageParser, GameCoordinator, WebController"
   ]
  },
  {
   "cell_type": "code",
   "execution_count": 2,
   "metadata": {},
   "outputs": [],
   "source": [
    "logger = logging.getLogger('WebInteraction')\n",
    "handler = logging.StreamHandler(sys.stdout)\n",
    "handler.setFormatter(logging.Formatter(\"%(asctime)s %(message)s\"))\n",
    "logger.addHandler(handler)\n",
    "logger.setLevel(logging.DEBUG)\n",
    "\n",
    "image_parser = GameImageParser('../web_interaction/templates')\n",
    "game_coordinator = GameCoordinator(image_parser)\n",
    "game = ProductOwnerGame()\n",
    "\n",
    "userstory_env = UserstoryEnv(4, 0, 0)\n",
    "backlog_env = BacklogEnv(12, 0, 0, 0, 0, 0)\n",
    "reward_system = BaseRewardSystem(config={})\n",
    "env = ProductOwnerEnv(userstory_env, backlog_env, with_info=True, reward_system=reward_system)\n",
    "env.game = game\n",
    "\n",
    "web_controller = WebController(game_coordinator, logger)"
   ]
  },
  {
   "cell_type": "code",
   "execution_count": 3,
   "metadata": {},
   "outputs": [
    {
     "name": "stderr",
     "output_type": "stream",
     "text": [
      "c:\\Users\\kruto\\OneDrive\\Рабочий стол\\forks\\product_owner_rl\\web_interaction\\..\\pipeline\\study_agent.py:10: FutureWarning: You are using `torch.load` with `weights_only=False` (the current default value), which uses the default pickle module implicitly. It is possible to construct malicious pickle data which will execute arbitrary code during unpickling (See https://github.com/pytorch/pytorch/blob/main/SECURITY.md#untrusted-models for more details). In a future release, the default value for `weights_only` will be flipped to `True`. This limits the functions that could be executed during unpickling. Arbitrary objects will no longer be allowed to be loaded via this mode unless they are explicitly allowlisted by the user via `torch.serialization.add_safe_globals`. We recommend you start setting `weights_only=True` for any use case where you don't have full control of the loaded file. Please open an issue on GitHub for any issues related to this experimental feature.\n",
      "  agent: DQN = torch.load(path)\n"
     ]
    }
   ],
   "source": [
    "agent = load_dqn_agent('../models/credit_start_model.pt')"
   ]
  },
  {
   "cell_type": "code",
   "execution_count": 4,
   "metadata": {},
   "outputs": [],
   "source": [
    "driver = open_game()\n",
    "\n",
    "iframe = driver.find_element(by=By.ID, value='game_drop')\n",
    "\n",
    "# open full screen\n",
    "fullscreen_button = driver.find_element(by=By.CLASS_NAME, value=\"fullscreen_btn\")\n",
    "fullscreen_button.click()\n",
    "\n",
    "height = iframe.rect[\"height\"]  # 540 or 1028\n",
    "width = iframe.rect[\"width\"]  # 960 or 1920\n",
    "\n",
    "wait_loading(iframe)\n",
    "\n",
    "start_game(driver, iframe)\n",
    "\n",
    "iframe.screenshot('game_state.png')\n",
    "\n",
    "image = cv2.imread('game_state.png')"
   ]
  },
  {
   "cell_type": "code",
   "execution_count": 5,
   "metadata": {},
   "outputs": [
    {
     "data": {
      "text/plain": [
       "[UserStoryCard(S, loyalty=0.03, customers=3.0]"
      ]
     },
     "execution_count": 5,
     "metadata": {},
     "output_type": "execute_result"
    }
   ],
   "source": [
    "game_coordinator.skip_tutorial(game)\n",
    "game_coordinator.insert_user_stories_from_image(game, image)\n",
    "\n",
    "game.userstories.stories_list"
   ]
  },
  {
   "cell_type": "code",
   "execution_count": 6,
   "metadata": {},
   "outputs": [],
   "source": [
    "image_parser.templates = image_parser._load_templates()"
   ]
  },
  {
   "cell_type": "code",
   "execution_count": 7,
   "metadata": {},
   "outputs": [
    {
     "name": "stdout",
     "output_type": "stream",
     "text": [
      "Sprint 4\n",
      "Money 33000.0\n",
      "Loyalty 4.0\n",
      "Customers 25.0\n",
      "Credit 300000\n"
     ]
    }
   ],
   "source": [
    "game_coordinator.update_header_info(game, image)\n",
    "\n",
    "print('Sprint', game.context.current_sprint)\n",
    "print('Money', game.context.get_money())\n",
    "print('Loyalty', game.context.get_loyalty())\n",
    "print('Customers', game.context.customers)\n",
    "print('Credit', game.context.credit)"
   ]
  },
  {
   "cell_type": "code",
   "execution_count": null,
   "metadata": {},
   "outputs": [],
   "source": [
    "from web_interaction.main import (\n",
    "    apply_start_sprint_action,\n",
    "    apply_release_action,\n",
    "    apply_buy_statistical_research_action,\n",
    "    apply_backlog_card_action\n",
    ")\n",
    "\n",
    "\n",
    "def apply_web_action(action: int, driver, iframe: WebElement, env: ProductOwnerEnv):\n",
    "    if action == 0:  # start sprint\n",
    "\n",
    "        apply_start_sprint_action(driver, iframe, width, height, env)\n",
    "\n",
    "        return\n",
    "\n",
    "    if action == 1:  # decompose\n",
    "        web_controller.apply_decompose_action(driver, iframe, width, height, env)\n",
    "        return\n",
    "\n",
    "    if action == 2:  # release\n",
    "\n",
    "        apply_release_action(driver, iframe, width, height, env)\n",
    "\n",
    "        return\n",
    "\n",
    "    if action == 5:  # buy statistical research\n",
    "\n",
    "        apply_buy_statistical_research_action(driver, iframe, env)\n",
    "\n",
    "        return\n",
    "\n",
    "    if action >= env.meta_action_dim:\n",
    "\n",
    "        action -= env.meta_action_dim\n",
    "\n",
    "    if action < env.userstory_env.max_action_num:\n",
    "        web_controller.apply_user_story_action(action, driver, iframe, env)\n",
    "        return\n",
    "\n",
    "    action -= env.userstory_env.max_action_num\n",
    "\n",
    "    if action < env.backlog_env.backlog_max_action_num:\n",
    "\n",
    "        apply_backlog_card_action(action, driver, iframe, env)\n",
    "\n",
    "        return\n",
    "\n",
    "    raise Exception(f\"Unknown action: {action}\")"
   ]
  },
  {
   "cell_type": "code",
   "execution_count": 9,
   "metadata": {},
   "outputs": [
    {
     "name": "stdout",
     "output_type": "stream",
     "text": [
      "2024-11-01 21:36:05,927 Start user story action: 0\n",
      "2024-11-01 21:36:05,927 User story: UserStoryCard(S, loyalty=0.03, customers=3.0\n",
      "2024-11-01 21:36:05,928 Found at position: (1557, 384)\n",
      "2024-11-01 21:36:07,948 Reward: True\n",
      "Start decomposition\n"
     ]
    },
    {
     "data": {
      "image/png": "[encoded data removed]",
      "text/plain": [
       "<Figure size 640x480 with 1 Axes>"
      ]
     },
     "metadata": {},
     "output_type": "display_data"
    },
    {
     "data": {
      "image/png": "[encoded data removed]",
      "text/plain": [
       "<Figure size 640x480 with 1 Axes>"
      ]
     },
     "metadata": {},
     "output_type": "display_data"
    },
    {
     "ename": "ValueError",
     "evalue": "could not convert string to float: '__'",
     "output_type": "error",
     "traceback": [
      "\u001b[1;31m---------------------------------------------------------------------------\u001b[0m",
      "\u001b[1;31mValueError\u001b[0m                                Traceback (most recent call last)",
      "Cell \u001b[1;32mIn[9], line 12\u001b[0m\n\u001b[0;32m      9\u001b[0m \u001b[38;5;66;03m# print(action)\u001b[39;00m\n\u001b[0;32m     11\u001b[0m time\u001b[38;5;241m.\u001b[39msleep(\u001b[38;5;241m1\u001b[39m)\n\u001b[1;32m---> 12\u001b[0m \u001b[43mapply_web_action\u001b[49m\u001b[43m(\u001b[49m\u001b[43maction\u001b[49m\u001b[43m,\u001b[49m\u001b[43m \u001b[49m\u001b[43mdriver\u001b[49m\u001b[43m,\u001b[49m\u001b[43m \u001b[49m\u001b[43miframe\u001b[49m\u001b[43m,\u001b[49m\u001b[43m \u001b[49m\u001b[43menv\u001b[49m\u001b[43m)\u001b[49m\n\u001b[0;32m     14\u001b[0m \u001b[38;5;28;01mif\u001b[39;00m env\u001b[38;5;241m.\u001b[39mgame\u001b[38;5;241m.\u001b[39mcontext\u001b[38;5;241m.\u001b[39mcurrent_sprint \u001b[38;5;241m>\u001b[39m\u001b[38;5;241m=\u001b[39m \u001b[38;5;241m35\u001b[39m:\n\u001b[0;32m     15\u001b[0m     \u001b[38;5;28;01mbreak\u001b[39;00m\n",
      "Cell \u001b[1;32mIn[8], line 18\u001b[0m, in \u001b[0;36mapply_web_action\u001b[1;34m(action, driver, iframe, env)\u001b[0m\n\u001b[0;32m     14\u001b[0m     \u001b[38;5;28;01mreturn\u001b[39;00m\n\u001b[0;32m     16\u001b[0m \u001b[38;5;28;01mif\u001b[39;00m action \u001b[38;5;241m==\u001b[39m \u001b[38;5;241m1\u001b[39m:  \u001b[38;5;66;03m# decompose\u001b[39;00m\n\u001b[0;32m     17\u001b[0m     \u001b[38;5;66;03m# raise Exception('Not checked')\u001b[39;00m\n\u001b[1;32m---> 18\u001b[0m     \u001b[43mapply_decompose_action\u001b[49m\u001b[43m(\u001b[49m\u001b[43mdriver\u001b[49m\u001b[43m,\u001b[49m\u001b[43m \u001b[49m\u001b[43miframe\u001b[49m\u001b[43m,\u001b[49m\u001b[43m \u001b[49m\u001b[43mwidth\u001b[49m\u001b[43m,\u001b[49m\u001b[43m \u001b[49m\u001b[43mheight\u001b[49m\u001b[43m,\u001b[49m\u001b[43m \u001b[49m\u001b[43menv\u001b[49m\u001b[43m)\u001b[49m\n\u001b[0;32m     20\u001b[0m     \u001b[38;5;28;01mreturn\u001b[39;00m\n\u001b[0;32m     22\u001b[0m \u001b[38;5;28;01mif\u001b[39;00m action \u001b[38;5;241m==\u001b[39m \u001b[38;5;241m2\u001b[39m:  \u001b[38;5;66;03m# release\u001b[39;00m\n",
      "File \u001b[1;32mc:\\Users\\kruto\\OneDrive\\Рабочий стол\\forks\\product_owner_rl\\web_interaction\\..\\web_interaction\\main.py:263\u001b[0m, in \u001b[0;36mapply_decompose_action\u001b[1;34m(driver, iframe, width, height, env)\u001b[0m\n\u001b[0;32m    260\u001b[0m image \u001b[38;5;241m=\u001b[39m cv2\u001b[38;5;241m.\u001b[39mimread(filename)\n\u001b[0;32m    261\u001b[0m \u001b[38;5;66;03m# os.remove(filename)\u001b[39;00m\n\u001b[1;32m--> 263\u001b[0m \u001b[43minsert_backlog_cards_from_image\u001b[49m\u001b[43m(\u001b[49m\u001b[43menv\u001b[49m\u001b[38;5;241;43m.\u001b[39;49m\u001b[43mgame\u001b[49m\u001b[43m,\u001b[49m\u001b[43m \u001b[49m\u001b[43mimage\u001b[49m\u001b[43m)\u001b[49m\n\u001b[0;32m    265\u001b[0m env\u001b[38;5;241m.\u001b[39m_perform_decomposition()\n",
      "File \u001b[1;32mc:\\Users\\kruto\\OneDrive\\Рабочий стол\\forks\\product_owner_rl\\web_interaction\\..\\web_interaction\\main.py:158\u001b[0m, in \u001b[0;36minsert_backlog_cards_from_image\u001b[1;34m(game, image)\u001b[0m\n\u001b[0;32m    157\u001b[0m \u001b[38;5;28;01mdef\u001b[39;00m \u001b[38;5;21minsert_backlog_cards_from_image\u001b[39m(game: ProductOwnerGame, image: cv2\u001b[38;5;241m.\u001b[39mtyping\u001b[38;5;241m.\u001b[39mMatLike):\n\u001b[1;32m--> 158\u001b[0m     backlog_cards \u001b[38;5;241m=\u001b[39m \u001b[43mimage_parser\u001b[49m\u001b[38;5;241;43m.\u001b[39;49m\u001b[43mget_backlog\u001b[49m\u001b[43m(\u001b[49m\u001b[43mimage\u001b[49m\u001b[43m)\u001b[49m\n\u001b[0;32m    160\u001b[0m     backlog_cards_by_color \u001b[38;5;241m=\u001b[39m {}\n\u001b[0;32m    161\u001b[0m     \u001b[38;5;28;01mfor\u001b[39;00m key, group \u001b[38;5;129;01min\u001b[39;00m groupby(backlog_cards, itemgetter(\u001b[38;5;241m0\u001b[39m)):\n",
      "File \u001b[1;32mc:\\Users\\kruto\\OneDrive\\Рабочий стол\\forks\\product_owner_rl\\web_interaction\\..\\web_interaction\\image_parser.py:713\u001b[0m, in \u001b[0;36mget_backlog\u001b[1;34m(image)\u001b[0m\n\u001b[0;32m    710\u001b[0m cards, positions \u001b[38;5;241m=\u001b[39m get_backlog_card_images(image)\n\u001b[0;32m    712\u001b[0m \u001b[38;5;28;01mfor\u001b[39;00m card, position \u001b[38;5;129;01min\u001b[39;00m \u001b[38;5;28mzip\u001b[39m(cards, positions):\n\u001b[1;32m--> 713\u001b[0m     card_descripton \u001b[38;5;241m=\u001b[39m \u001b[43mget_backlog_card_descripton\u001b[49m\u001b[43m(\u001b[49m\u001b[43mcard\u001b[49m\u001b[43m,\u001b[49m\u001b[43m \u001b[49m\u001b[43mposition\u001b[49m\u001b[43m,\u001b[49m\u001b[43m \u001b[49m\u001b[43mimage\u001b[49m\u001b[38;5;241;43m.\u001b[39;49m\u001b[43mshape\u001b[49m\u001b[43m)\u001b[49m\n\u001b[0;32m    714\u001b[0m     backlog_cards\u001b[38;5;241m.\u001b[39mappend(card_descripton)\n\u001b[0;32m    716\u001b[0m \u001b[38;5;28;01mreturn\u001b[39;00m backlog_cards\n",
      "File \u001b[1;32mc:\\Users\\kruto\\OneDrive\\Рабочий стол\\forks\\product_owner_rl\\web_interaction\\..\\web_interaction\\image_parser.py:687\u001b[0m, in \u001b[0;36mget_backlog_card_descripton\u001b[1;34m(card_image, position, original_shape)\u001b[0m\n\u001b[0;32m    683\u001b[0m y_1 \u001b[38;5;241m=\u001b[39m hours_position[\u001b[38;5;124m\"\u001b[39m\u001b[38;5;124my_1\u001b[39m\u001b[38;5;124m\"\u001b[39m]\n\u001b[0;32m    685\u001b[0m hours \u001b[38;5;241m=\u001b[39m card_image[y_0:y_1, x_0:x_1]\n\u001b[1;32m--> 687\u001b[0m hours_value \u001b[38;5;241m=\u001b[39m \u001b[43mget_backlog_float\u001b[49m\u001b[43m(\u001b[49m\u001b[43mhours\u001b[49m\u001b[43m,\u001b[49m\u001b[43m \u001b[49m\u001b[43moriginal_shape\u001b[49m\u001b[43m)\u001b[49m\n\u001b[0;32m    689\u001b[0m color \u001b[38;5;241m=\u001b[39m \u001b[38;5;28mfrozenset\u001b[39m(\u001b[38;5;28menumerate\u001b[39m(color))\n\u001b[0;32m    691\u001b[0m \u001b[38;5;28;01mreturn\u001b[39;00m color, hours_value, position\n",
      "File \u001b[1;32mc:\\Users\\kruto\\OneDrive\\Рабочий стол\\forks\\product_owner_rl\\web_interaction\\..\\web_interaction\\image_parser.py:529\u001b[0m, in \u001b[0;36mget_backlog_float\u001b[1;34m(nums, original_shape)\u001b[0m\n\u001b[0;32m    527\u001b[0m \u001b[38;5;28;01mdef\u001b[39;00m \u001b[38;5;21mget_backlog_float\u001b[39m(nums: cv2\u001b[38;5;241m.\u001b[39mtyping\u001b[38;5;241m.\u001b[39mMatLike, original_shape: Tuple[\u001b[38;5;28mint\u001b[39m, \u001b[38;5;28mint\u001b[39m, \u001b[38;5;28mint\u001b[39m]):\n\u001b[0;32m    528\u001b[0m     num_width \u001b[38;5;241m=\u001b[39m backlog_num_width[original_shape]\n\u001b[1;32m--> 529\u001b[0m     \u001b[38;5;28;01mreturn\u001b[39;00m \u001b[43mget_float\u001b[49m\u001b[43m(\u001b[49m\u001b[43mnums\u001b[49m\u001b[43m,\u001b[49m\u001b[43m \u001b[49m\u001b[43mnum_width\u001b[49m\u001b[43m,\u001b[49m\u001b[43m \u001b[49m\u001b[38;5;241;43m2\u001b[39;49m\u001b[43m)\u001b[49m\n",
      "File \u001b[1;32mc:\\Users\\kruto\\OneDrive\\Рабочий стол\\forks\\product_owner_rl\\web_interaction\\..\\web_interaction\\image_parser.py:505\u001b[0m, in \u001b[0;36mget_float\u001b[1;34m(nums, num_width, num_count)\u001b[0m\n\u001b[0;32m    503\u001b[0m         digit \u001b[38;5;241m=\u001b[39m filename[\u001b[38;5;241m0\u001b[39m]\n\u001b[0;32m    504\u001b[0m     value \u001b[38;5;241m+\u001b[39m\u001b[38;5;241m=\u001b[39m \u001b[38;5;28mstr\u001b[39m(digit)\n\u001b[1;32m--> 505\u001b[0m \u001b[38;5;28;01mreturn\u001b[39;00m \u001b[38;5;28;43mfloat\u001b[39;49m\u001b[43m(\u001b[49m\u001b[43mvalue\u001b[49m\u001b[43m)\u001b[49m\n",
      "\u001b[1;31mValueError\u001b[0m: could not convert string to float: '__'"
     ]
    }
   ],
   "source": [
    "while not game.context.done:\n",
    "    state = env.recalculate_state()\n",
    "    # print(state)\n",
    "\n",
    "    info = env.get_info()\n",
    "    # print(info)\n",
    "\n",
    "    action = agent.get_action(state, info)\n",
    "    # print(action)\n",
    "\n",
    "    time.sleep(1)\n",
    "    apply_web_action(action, driver, iframe, env)\n",
    "\n",
    "    if env.game.context.current_sprint >= 35:\n",
    "        break"
   ]
  },
  {
   "cell_type": "code",
   "execution_count": null,
   "metadata": {},
   "outputs": [],
   "source": [
    "while not game.context.done:\n",
    "    time.sleep(1)\n",
    "    apply_web_action(0, driver, iframe, env)"
   ]
  },
  {
   "cell_type": "code",
   "execution_count": null,
   "metadata": {},
   "outputs": [],
   "source": [
    "iframe.rect"
   ]
  },
  {
   "cell_type": "code",
   "execution_count": null,
   "metadata": {},
   "outputs": [],
   "source": [
    "raise Exception('Break before web driver exit')"
   ]
  },
  {
   "cell_type": "code",
   "execution_count": 10,
   "metadata": {},
   "outputs": [],
   "source": [
    "driver.quit()"
   ]
  }
 ],
 "metadata": {
  "kernelspec": {
   "display_name": "Python 3",
   "language": "python",
   "name": "python3"
  },
  "language_info": {
   "codemirror_mode": {
    "name": "ipython",
    "version": 3
   },
   "file_extension": ".py",
   "mimetype": "text/x-python",
   "name": "python",
   "nbconvert_exporter": "python",
   "pygments_lexer": "ipython3",
   "version": "3.11.9"
  }
 },
 "nbformat": 4,
 "nbformat_minor": 2
}
