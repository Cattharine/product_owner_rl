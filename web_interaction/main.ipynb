{
 "cells": [
  {
   "cell_type": "code",
   "execution_count": null,
   "metadata": {},
   "outputs": [],
   "source": [
    "from selenium import webdriver\n",
    "from selenium.webdriver import ActionChains\n",
    "from selenium.webdriver.common.by import By\n",
    "from selenium.webdriver.remote.webelement import WebElement\n",
    "\n",
    "import cv2\n",
    "import os\n",
    "import time\n",
    "\n",
    "import numpy as np\n",
    "import matplotlib.pyplot as plt"
   ]
  },
  {
   "cell_type": "code",
   "execution_count": null,
   "metadata": {},
   "outputs": [],
   "source": [
    "import sys\n",
    "sys.path.insert(0, '..')\n",
    "\n",
    "from web_interaction.main import open_game, start_game, wait_loading, insert_user_stories_from_image\n",
    "from web_interaction.main import fill_game_main_info_from_image\n",
    "from web_interaction.main import apply_decompose_action, apply_user_story_action\n",
    "from game.game import ProductOwnerGame\n",
    "from game.userstory_card.userstory_card_info import UserStoryCardInfo\n",
    "from environment.backlog_env import BacklogEnv\n",
    "from environment.environment import ProductOwnerEnv\n",
    "from environment.reward_sytem.base_reward_system import BaseRewardSystem\n",
    "from environment.userstory_env import UserstoryEnv\n",
    "import image_parser\n",
    "\n",
    "from pipeline.study_agent import load_dqn_agent\n",
    "from single_color_storage import SingleColorStorage"
   ]
  },
  {
   "cell_type": "code",
   "execution_count": null,
   "metadata": {},
   "outputs": [],
   "source": [
    "driver = open_game()\n",
    "\n",
    "iframe = driver.find_element(by=By.ID, value='game_drop')\n",
    "height = iframe.rect[\"height\"]  # 540\n",
    "width = iframe.rect[\"width\"]  # 960\n",
    "\n",
    "wait_loading(iframe)\n",
    "\n",
    "start_game(driver, iframe)"
   ]
  },
  {
   "cell_type": "code",
   "execution_count": null,
   "metadata": {},
   "outputs": [],
   "source": [
    "iframe.screenshot('iframe.png')\n",
    "\n",
    "image = cv2.imread('iframe.png')"
   ]
  },
  {
   "cell_type": "code",
   "execution_count": null,
   "metadata": {},
   "outputs": [],
   "source": [
    "class EmptyColorStorage:\n",
    "    def __init__(self) -> None:\n",
    "        pass\n",
    "\n",
    "    def get_unused_color(self, uc_type):\n",
    "        pass\n",
    "\n",
    "    def release_color(self, us_type, color):\n",
    "        pass"
   ]
  },
  {
   "cell_type": "code",
   "execution_count": null,
   "metadata": {},
   "outputs": [],
   "source": [
    "game = ProductOwnerGame()\n",
    "context = game.context\n",
    "\n",
    "context.is_new_game = False\n",
    "game.is_first_release = False\n",
    "game.userstories.disable_restrictions()\n",
    "game.office.toggle_purchases(True)\n",
    "\n",
    "available_developers_count = 2\n",
    "current_rooms_counter = 1\n",
    "blank_sprint_counter = 0\n",
    "\n",
    "game.context.color_storage = EmptyColorStorage()"
   ]
  },
  {
   "cell_type": "code",
   "execution_count": null,
   "metadata": {},
   "outputs": [],
   "source": [
    "insert_user_stories_from_image(game, image)\n",
    "\n",
    "game.userstories.stories_list"
   ]
  },
  {
   "cell_type": "code",
   "execution_count": null,
   "metadata": {},
   "outputs": [],
   "source": [
    "fill_game_main_info_from_image(game, image)\n",
    "\n",
    "print('Sprint', game.context.current_sprint)\n",
    "print('Sprint hours', game.context.current_sprint_hours)\n",
    "print('Money', game.context.get_money())\n",
    "print('Loyalty', game.context.get_loyalty())\n",
    "print('Customers', game.context.customers)\n",
    "print('Credit', game.context.credit)"
   ]
  },
  {
   "cell_type": "code",
   "execution_count": null,
   "metadata": {},
   "outputs": [],
   "source": [
    "userstory_env = UserstoryEnv(2, 0, 0)\n",
    "backlog_env = BacklogEnv(6, 0, 0, 0, 0, 0)\n",
    "reward_system = BaseRewardSystem(config={})\n",
    "env = ProductOwnerEnv(userstory_env, backlog_env, with_info=True, reward_system=reward_system)\n",
    "env.game = game"
   ]
  },
  {
   "cell_type": "code",
   "execution_count": null,
   "metadata": {},
   "outputs": [],
   "source": [
    "agent = load_dqn_agent('../models/credit_start_model.pt')"
   ]
  },
  {
   "cell_type": "code",
   "execution_count": null,
   "metadata": {},
   "outputs": [],
   "source": [
    "from game.backlog_card.backlog_card import Card\n",
    "from game.backlog_card.card_info import CardInfo\n",
    "from web_interaction.main import (\n",
    "    click_on_element,\n",
    "    select_backlog_board,\n",
    "    click_board_button,\n",
    "    apply_start_sprint_action,\n",
    "    select_user_story_board,\n",
    ")\n",
    "\n",
    "\n",
    "def find_backlog_card_position(card: Card, image: cv2.typing.MatLike):\n",
    "    card: CardInfo = card.info\n",
    "    backlog_cards = image_parser.get_backlog(image)\n",
    "    for color, hours, position in backlog_cards:\n",
    "        if color != card.color:\n",
    "            continue\n",
    "        if hours != card.hours:\n",
    "            continue\n",
    "        return position\n",
    "\n",
    "\n",
    "def apply_backlog_card_action(\n",
    "    action: int, driver, iframe: WebElement, env: ProductOwnerEnv\n",
    "):\n",
    "    print(\"Start moving backlog card\")\n",
    "    select_backlog_board(driver, iframe, width, height)\n",
    "\n",
    "    time.sleep(2)\n",
    "\n",
    "    filename = \"backlog_board.png\"\n",
    "    iframe.screenshot(filename)\n",
    "    backlog_board_image = cv2.imread(filename)\n",
    "    # os.remove(filename)\n",
    "\n",
    "    card = env.backlog_env.get_card(action)\n",
    "    print(\"Selected card\", card)\n",
    "    position = find_backlog_card_position(card, backlog_board_image)\n",
    "    print(\"Found at position\", position)\n",
    "\n",
    "    click_on_element(driver, iframe, *position)\n",
    "\n",
    "    print(\"Clicked on card\")\n",
    "\n",
    "    env._perform_action_backlog_card(action)\n",
    "\n",
    "\n",
    "def apply_release_action(\n",
    "    driver, iframe: WebElement, width: int, height: int, env: ProductOwnerEnv\n",
    "):\n",
    "    click_on_element(driver, iframe, 115, 455)\n",
    "\n",
    "    time.sleep(1)\n",
    "\n",
    "    filename = \"game_state.png\"\n",
    "    iframe.screenshot(filename)\n",
    "    game_image = cv2.imread(filename)\n",
    "    # os.remove(filename)\n",
    "\n",
    "    fill_game_main_info_from_image(env.game, game_image)\n",
    "\n",
    "    env._perform_release()\n",
    "\n",
    "\n",
    "def apply_buy_statistical_research_action(\n",
    "    driver, iframe: WebElement, env: ProductOwnerEnv\n",
    "):\n",
    "    select_user_story_board(driver, iframe, width, height)\n",
    "    time.sleep(2)\n",
    "\n",
    "    click_on_element(driver, iframe, 765, 115)\n",
    "    time.sleep(2)\n",
    "\n",
    "    env._perform_statistical_research()\n",
    "\n",
    "    filename = \"user_stroy.png\"\n",
    "    iframe.screenshot(filename)\n",
    "    userstory_image = cv2.imread(filename)\n",
    "    # os.remove(filename)\n",
    "\n",
    "    insert_user_stories_from_image(game, userstory_image)\n",
    "\n",
    "\n",
    "def apply_web_action(action: int, driver, iframe: WebElement, env: ProductOwnerEnv):\n",
    "    if action == 0:  # start sprint\n",
    "\n",
    "        apply_start_sprint_action(driver, iframe, width, height, env)\n",
    "\n",
    "        return\n",
    "\n",
    "    if action == 1:  # decompose\n",
    "\n",
    "        apply_decompose_action(driver, iframe, width, height, env)\n",
    "\n",
    "        return\n",
    "\n",
    "    if action == 2:  # release\n",
    "\n",
    "        apply_release_action(driver, iframe, width, height, env)\n",
    "\n",
    "        return\n",
    "\n",
    "    if action == 5:  # buy statistical research\n",
    "\n",
    "        apply_buy_statistical_research_action(driver, iframe, env)\n",
    "\n",
    "        return\n",
    "\n",
    "    if action >= env.meta_action_dim:\n",
    "\n",
    "        action -= env.meta_action_dim\n",
    "\n",
    "    if action < env.userstory_env.max_action_num:\n",
    "\n",
    "        apply_user_story_action(action, driver, iframe, env)\n",
    "\n",
    "        return\n",
    "\n",
    "    action -= env.userstory_env.max_action_num\n",
    "\n",
    "    if action < env.backlog_env.backlog_max_action_num:\n",
    "\n",
    "        apply_backlog_card_action(action, driver, iframe, env)\n",
    "\n",
    "        return\n",
    "\n",
    "    raise Exception(f\"Unknown action: {action}\")"
   ]
  },
  {
   "cell_type": "code",
   "execution_count": null,
   "metadata": {},
   "outputs": [],
   "source": [
    "state = env._get_state()\n",
    "print(state)\n",
    "\n",
    "info = env.get_info()\n",
    "print(info)\n",
    "\n",
    "action = agent.get_action(state, info)\n",
    "print(action)"
   ]
  },
  {
   "cell_type": "code",
   "execution_count": null,
   "metadata": {},
   "outputs": [],
   "source": [
    "apply_web_action(action, driver, iframe, env)"
   ]
  },
  {
   "cell_type": "code",
   "execution_count": null,
   "metadata": {},
   "outputs": [],
   "source": [
    "iframe.rect"
   ]
  },
  {
   "cell_type": "code",
   "execution_count": null,
   "metadata": {},
   "outputs": [],
   "source": [
    "driver.quit()"
   ]
  }
 ],
 "metadata": {
  "kernelspec": {
   "display_name": ".venv",
   "language": "python",
   "name": "python3"
  },
  "language_info": {
   "codemirror_mode": {
    "name": "ipython",
    "version": 3
   },
   "file_extension": ".py",
   "mimetype": "text/x-python",
   "name": "python",
   "nbconvert_exporter": "python",
   "pygments_lexer": "ipython3",
   "version": "3.9.13"
  }
 },
 "nbformat": 4,
 "nbformat_minor": 2
}
