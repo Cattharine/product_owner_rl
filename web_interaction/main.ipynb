{
 "cells": [
  {
   "cell_type": "code",
   "execution_count": 5,
   "metadata": {},
   "outputs": [],
   "source": [
    "from selenium import webdriver\n",
    "from selenium.webdriver import ActionChains\n",
    "from selenium.webdriver.common.by import By\n",
    "\n",
    "import cv2\n",
    "\n",
    "import time"
   ]
  },
  {
   "cell_type": "code",
   "execution_count": 7,
   "metadata": {},
   "outputs": [],
   "source": [
    "from web_interaction.main import open_game\n",
    "from game.game import ProductOwnerGame\n",
    "import image_parser"
   ]
  },
  {
   "cell_type": "code",
   "execution_count": 3,
   "metadata": {},
   "outputs": [],
   "source": [
    "driver = open_game()"
   ]
  },
  {
   "cell_type": "code",
   "execution_count": null,
   "metadata": {},
   "outputs": [],
   "source": [
    "time.sleep(10)"
   ]
  },
  {
   "cell_type": "code",
   "execution_count": 4,
   "metadata": {},
   "outputs": [],
   "source": [
    "iframe = driver.find_element(by=By.ID, value='game_drop')\n",
    "height = iframe.rect[\"height\"]  # 540\n",
    "width = iframe.rect[\"width\"]  # 960"
   ]
  },
  {
   "cell_type": "code",
   "execution_count": 5,
   "metadata": {},
   "outputs": [],
   "source": [
    "iframe.click()\n",
    "iframe.click()"
   ]
  },
  {
   "cell_type": "code",
   "execution_count": 6,
   "metadata": {},
   "outputs": [],
   "source": [
    "# type name\n",
    "ActionChains(driver).move_to_element_with_offset(\n",
    "    iframe, 0, int(0.1 * height)\n",
    ").click().send_keys(\"selenium\").perform()"
   ]
  },
  {
   "cell_type": "code",
   "execution_count": 7,
   "metadata": {},
   "outputs": [],
   "source": [
    "# start game\n",
    "ActionChains(driver).move_to_element_with_offset(\n",
    "    iframe, 0, int(0.2 * height)\n",
    ").click().perform()"
   ]
  },
  {
   "cell_type": "code",
   "execution_count": 8,
   "metadata": {},
   "outputs": [],
   "source": [
    "# skip tutorial\n",
    "ActionChains(driver).move_to_element_with_offset(\n",
    "    iframe, -int(0.35 * width), int(0.4 * height)\n",
    ").click().perform()"
   ]
  },
  {
   "cell_type": "code",
   "execution_count": 9,
   "metadata": {},
   "outputs": [],
   "source": [
    "# turn off sprint animation\n",
    "ActionChains(driver).move_to_element_with_offset(\n",
    "    iframe, -int(0.45 * width), -int(0.42 * height)  # move to settings icon\n",
    ").click().move_to_element_with_offset(\n",
    "    iframe, int(0.1 * width), int(0.07 * height)  # move to animation checkbox\n",
    ").click().move_to_element_with_offset(\n",
    "    iframe, -int(0.45 * width), -int(0.42 * height)  # move to settings icon\n",
    ").click().perform()"
   ]
  },
  {
   "cell_type": "code",
   "execution_count": 10,
   "metadata": {},
   "outputs": [],
   "source": [
    "# buy research\n",
    "ActionChains(driver).move_to_element_with_offset(\n",
    "    iframe, int(0.3 * width), -int(0.3 * height)\n",
    ").click().perform()"
   ]
  },
  {
   "cell_type": "code",
   "execution_count": 10,
   "metadata": {},
   "outputs": [
    {
     "data": {
      "text/plain": [
       "True"
      ]
     },
     "execution_count": 10,
     "metadata": {},
     "output_type": "execute_result"
    }
   ],
   "source": [
    "iframe.screenshot('iframe.png')"
   ]
  },
  {
   "cell_type": "code",
   "execution_count": 8,
   "metadata": {},
   "outputs": [],
   "source": [
    "image = cv2.imread('iframe.png')\n",
    "meta_info = image[7:83, 57:932]"
   ]
  },
  {
   "cell_type": "code",
   "execution_count": 9,
   "metadata": {},
   "outputs": [],
   "source": [
    "game = ProductOwnerGame()\n",
    "context = game.context"
   ]
  },
  {
   "cell_type": "code",
   "execution_count": 23,
   "metadata": {},
   "outputs": [],
   "source": [
    "context.is_new_game = False"
   ]
  },
  {
   "cell_type": "code",
   "execution_count": 10,
   "metadata": {},
   "outputs": [
    {
     "data": {
      "text/plain": [
       "4.0"
      ]
     },
     "execution_count": 10,
     "metadata": {},
     "output_type": "execute_result"
    }
   ],
   "source": [
    "current_sprint = image_parser.get_sprint_number(meta_info)\n",
    "context.current_sprint = current_sprint\n",
    "current_sprint"
   ]
  },
  {
   "cell_type": "code",
   "execution_count": 15,
   "metadata": {},
   "outputs": [],
   "source": [
    "available_developers_count = 2\n",
    "current_rooms_counter = 1\n",
    "blank_sprint_counter = 0"
   ]
  },
  {
   "cell_type": "code",
   "execution_count": 16,
   "metadata": {},
   "outputs": [
    {
     "data": {
      "text/plain": [
       "0.0"
      ]
     },
     "execution_count": 16,
     "metadata": {},
     "output_type": "execute_result"
    }
   ],
   "source": [
    "current_sprint_hours = image_parser.get_current_sprint_hours(image)\n",
    "current_sprint_hours"
   ]
  },
  {
   "cell_type": "code",
   "execution_count": 17,
   "metadata": {},
   "outputs": [
    {
     "data": {
      "text/plain": [
       "[(array([115, 188,  30], dtype=uint8), 0.055, 2.0)]"
      ]
     },
     "execution_count": 17,
     "metadata": {},
     "output_type": "execute_result"
    }
   ],
   "source": [
    "user_stories = image_parser.get_user_stories(image)\n",
    "user_stories"
   ]
  },
  {
   "cell_type": "code",
   "execution_count": 18,
   "metadata": {},
   "outputs": [],
   "source": [
    "import sys\n",
    "sys.path.insert(0, '..')\n",
    "from game.game_colors import ColorStorage\n",
    "\n",
    "\n",
    "class SingleColorStorage(ColorStorage):\n",
    "    def __init__(self, color):\n",
    "        self.color = color\n",
    "    \n",
    "    def get_unused_color(self, uc_type):\n",
    "        return self.color"
   ]
  },
  {
   "cell_type": "code",
   "execution_count": 21,
   "metadata": {},
   "outputs": [],
   "source": [
    "from game.userstory_card.userstory_card_info import UserStoryCardInfo\n",
    "\n",
    "for user_story in user_stories:\n",
    "    color, loyalty, customers = user_story\n",
    "    color_storage = SingleColorStorage(color)\n",
    "    game_user_story = UserStoryCardInfo('S', current_sprint, color_storage)\n",
    "    game_user_story.loyalty = loyalty\n",
    "    game_user_story.customers_to_bring = customers\n",
    "\n",
    "    game.userstories.add_us(game_user_story)"
   ]
  },
  {
   "cell_type": "code",
   "execution_count": 22,
   "metadata": {},
   "outputs": [],
   "source": [
    "money = image_parser.get_game_money(meta_info)\n",
    "context.set_money(money)"
   ]
  },
  {
   "cell_type": "code",
   "execution_count": 24,
   "metadata": {},
   "outputs": [],
   "source": [
    "loyalty = image_parser.get_loyalty(meta_info)\n",
    "context.set_loyalty(loyalty)"
   ]
  },
  {
   "cell_type": "code",
   "execution_count": 25,
   "metadata": {},
   "outputs": [],
   "source": [
    "context.customers = image_parser.get_customers(meta_info)"
   ]
  },
  {
   "cell_type": "code",
   "execution_count": null,
   "metadata": {},
   "outputs": [],
   "source": [
    "credit = max(300_000 - (current_sprint - 1) * 9_000, 0)\n",
    "context.credit = credit\n",
    "credit"
   ]
  },
  {
   "cell_type": "code",
   "execution_count": 13,
   "metadata": {},
   "outputs": [
    {
     "data": {
      "text/plain": [
       "{'height': 540, 'width': 960, 'x': 29.600000381469727, 'y': 20}"
      ]
     },
     "execution_count": 13,
     "metadata": {},
     "output_type": "execute_result"
    }
   ],
   "source": [
    "iframe.rect"
   ]
  },
  {
   "cell_type": "code",
   "execution_count": 25,
   "metadata": {},
   "outputs": [],
   "source": [
    "driver.quit()"
   ]
  }
 ],
 "metadata": {
  "kernelspec": {
   "display_name": ".venv",
   "language": "python",
   "name": "python3"
  },
  "language_info": {
   "codemirror_mode": {
    "name": "ipython",
    "version": 3
   },
   "file_extension": ".py",
   "mimetype": "text/x-python",
   "name": "python",
   "nbconvert_exporter": "python",
   "pygments_lexer": "ipython3",
   "version": "3.9.13"
  }
 },
 "nbformat": 4,
 "nbformat_minor": 2
}
