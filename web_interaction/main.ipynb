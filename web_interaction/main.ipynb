{
 "cells": [
  {
   "cell_type": "code",
   "execution_count": 1,
   "metadata": {},
   "outputs": [],
   "source": [
    "from selenium import webdriver\n",
    "from selenium.webdriver import ActionChains\n",
    "from selenium.webdriver.common.by import By\n",
    "from selenium.webdriver.remote.webelement import WebElement\n",
    "\n",
    "import cv2\n",
    "import os\n",
    "import time\n",
    "\n",
    "import numpy as np\n",
    "import matplotlib.pyplot as plt"
   ]
  },
  {
   "cell_type": "code",
   "execution_count": 2,
   "metadata": {},
   "outputs": [],
   "source": [
    "import sys\n",
    "sys.path.insert(0, '..')\n",
    "\n",
    "from web_interaction.main import open_game, start_game, wait_loading, insert_user_stories_from_image\n",
    "from web_interaction.main import fill_game_main_info_from_image\n",
    "from web_interaction.main import apply_decompose_action, apply_user_story_action\n",
    "from game.game import ProductOwnerGame\n",
    "from game.userstory_card.userstory_card_info import UserStoryCardInfo\n",
    "from environment.backlog_env import BacklogEnv\n",
    "from environment.environment import ProductOwnerEnv\n",
    "from environment.reward_sytem.base_reward_system import BaseRewardSystem\n",
    "from environment.userstory_env import UserstoryEnv\n",
    "import image_parser\n",
    "\n",
    "from pipeline.study_agent import load_dqn_agent\n",
    "from single_color_storage import SingleColorStorage"
   ]
  },
  {
   "cell_type": "code",
   "execution_count": 17,
   "metadata": {},
   "outputs": [],
   "source": [
    "driver = open_game()\n",
    "\n",
    "iframe = driver.find_element(by=By.ID, value='game_drop')\n",
    "height = iframe.rect[\"height\"]  # 540\n",
    "width = iframe.rect[\"width\"]  # 960\n",
    "\n",
    "wait_loading(iframe)\n",
    "\n",
    "start_game(driver, iframe)"
   ]
  },
  {
   "cell_type": "code",
   "execution_count": 18,
   "metadata": {},
   "outputs": [],
   "source": [
    "iframe.screenshot('iframe.png')\n",
    "\n",
    "image = cv2.imread('iframe.png')"
   ]
  },
  {
   "cell_type": "code",
   "execution_count": 19,
   "metadata": {},
   "outputs": [],
   "source": [
    "game = ProductOwnerGame()\n",
    "context = game.context\n",
    "\n",
    "context.is_new_game = False\n",
    "\n",
    "available_developers_count = 2\n",
    "current_rooms_counter = 1\n",
    "blank_sprint_counter = 0"
   ]
  },
  {
   "cell_type": "code",
   "execution_count": 20,
   "metadata": {},
   "outputs": [
    {
     "data": {
      "text/plain": [
       "[S l:0.035 c:2.0]"
      ]
     },
     "execution_count": 20,
     "metadata": {},
     "output_type": "execute_result"
    }
   ],
   "source": [
    "insert_user_stories_from_image(game, image)\n",
    "\n",
    "game.userstories.stories_list"
   ]
  },
  {
   "cell_type": "code",
   "execution_count": 21,
   "metadata": {},
   "outputs": [
    {
     "name": "stdout",
     "output_type": "stream",
     "text": [
      "Sprint 4.0\n",
      "Sprint hours 0.0\n",
      "Money 33000.0\n",
      "Loyalty 4.0\n",
      "Customers 25.0\n",
      "Credit 273000.0\n"
     ]
    }
   ],
   "source": [
    "fill_game_main_info_from_image(game, image)\n",
    "\n",
    "print('Sprint', game.context.current_sprint)\n",
    "print('Sprint hours', game.context.current_sprint_hours)\n",
    "print('Money', game.context.get_money())\n",
    "print('Loyalty', game.context.get_loyalty())\n",
    "print('Customers', game.context.customers)\n",
    "print('Credit', game.context.credit)"
   ]
  },
  {
   "cell_type": "code",
   "execution_count": 22,
   "metadata": {},
   "outputs": [],
   "source": [
    "userstory_env = UserstoryEnv(2, 0, 0)\n",
    "backlog_env = BacklogEnv(6, 0, 0, 6, 0, 0)\n",
    "reward_system = BaseRewardSystem(config={})\n",
    "env = ProductOwnerEnv(userstory_env, backlog_env, with_info=True, reward_system=reward_system)\n",
    "env.game = game"
   ]
  },
  {
   "cell_type": "code",
   "execution_count": 23,
   "metadata": {},
   "outputs": [],
   "source": [
    "agent = load_dqn_agent('../models/credit_start_model.pt')"
   ]
  },
  {
   "cell_type": "code",
   "execution_count": 24,
   "metadata": {},
   "outputs": [],
   "source": [
    "def apply_web_action(action: int, driver, iframe: WebElement, env: ProductOwnerEnv):\n",
    "    if action == 1:  # decompose\n",
    "        apply_decompose_action(driver, iframe, width, height, env)\n",
    "        return\n",
    "\n",
    "    if action >= env.meta_action_dim:\n",
    "        action -= env.meta_action_dim\n",
    "\n",
    "    if action < env.userstory_env.max_action_num:\n",
    "        apply_user_story_action(action, driver, iframe, env)\n",
    "        return\n",
    "\n",
    "    raise Exception(f\"Unknown action: {action}\")"
   ]
  },
  {
   "cell_type": "code",
   "execution_count": 27,
   "metadata": {},
   "outputs": [
    {
     "data": {
      "image/png": "[encoded data removed]",
      "text/plain": [
       "<Figure size 640x480 with 1 Axes>"
      ]
     },
     "metadata": {},
     "output_type": "display_data"
    },
    {
     "ename": "ValueError",
     "evalue": "could not convert string to float: ''",
     "output_type": "error",
     "traceback": [
      "\u001b[1;31m---------------------------------------------------------------------------\u001b[0m",
      "\u001b[1;31mValueError\u001b[0m                                Traceback (most recent call last)",
      "Cell \u001b[1;32mIn[27], line 3\u001b[0m\n\u001b[0;32m      1\u001b[0m backlog_image \u001b[38;5;241m=\u001b[39m cv2\u001b[38;5;241m.\u001b[39mimread(\u001b[38;5;124m'\u001b[39m\u001b[38;5;124miframe.png\u001b[39m\u001b[38;5;124m'\u001b[39m)\n\u001b[1;32m----> 3\u001b[0m backlog_cards \u001b[38;5;241m=\u001b[39m \u001b[43mimage_parser\u001b[49m\u001b[38;5;241;43m.\u001b[39;49m\u001b[43mget_backlog\u001b[49m\u001b[43m(\u001b[49m\u001b[43mbacklog_image\u001b[49m\u001b[43m)\u001b[49m\n\u001b[0;32m      4\u001b[0m backlog_cards\n",
      "File \u001b[1;32mc:\\Users\\krutovskii\\Desktop\\PetProject\\product_owner_rl\\web_interaction\\image_parser.py:185\u001b[0m, in \u001b[0;36mget_backlog\u001b[1;34m(image)\u001b[0m\n\u001b[0;32m    182\u001b[0m cards \u001b[38;5;241m=\u001b[39m get_backlog_card_images(image)\n\u001b[0;32m    184\u001b[0m \u001b[38;5;28;01mfor\u001b[39;00m card \u001b[38;5;129;01min\u001b[39;00m cards:\n\u001b[1;32m--> 185\u001b[0m     card_descripton \u001b[38;5;241m=\u001b[39m \u001b[43mget_backlog_card_descripton\u001b[49m\u001b[43m(\u001b[49m\u001b[43mcard\u001b[49m\u001b[43m)\u001b[49m\n\u001b[0;32m    186\u001b[0m     backlog_cards\u001b[38;5;241m.\u001b[39mappend(card_descripton)\n\u001b[0;32m    188\u001b[0m \u001b[38;5;28;01mreturn\u001b[39;00m backlog_cards\n",
      "File \u001b[1;32mc:\\Users\\krutovskii\\Desktop\\PetProject\\product_owner_rl\\web_interaction\\image_parser.py:161\u001b[0m, in \u001b[0;36mget_backlog_card_descripton\u001b[1;34m(card_image)\u001b[0m\n\u001b[0;32m    158\u001b[0m card_image \u001b[38;5;241m=\u001b[39m get_black_white_image(card_image, color)\n\u001b[0;32m    160\u001b[0m hours \u001b[38;5;241m=\u001b[39m card_image[\u001b[38;5;241m9\u001b[39m:\u001b[38;5;241m24\u001b[39m, \u001b[38;5;241m3\u001b[39m:\u001b[38;5;241m25\u001b[39m]\n\u001b[1;32m--> 161\u001b[0m hours_value \u001b[38;5;241m=\u001b[39m \u001b[43mget_backlog_float\u001b[49m\u001b[43m(\u001b[49m\u001b[43mhours\u001b[49m\u001b[43m)\u001b[49m\n\u001b[0;32m    163\u001b[0m color \u001b[38;5;241m=\u001b[39m \u001b[38;5;28mfrozenset\u001b[39m(\u001b[38;5;28menumerate\u001b[39m(color))\n\u001b[0;32m    165\u001b[0m \u001b[38;5;28;01mreturn\u001b[39;00m color, hours_value\n",
      "File \u001b[1;32mc:\\Users\\krutovskii\\Desktop\\PetProject\\product_owner_rl\\web_interaction\\image_parser.py:86\u001b[0m, in \u001b[0;36mget_backlog_float\u001b[1;34m(nums)\u001b[0m\n\u001b[0;32m     84\u001b[0m \u001b[38;5;28;01mdef\u001b[39;00m \u001b[38;5;21mget_backlog_float\u001b[39m(nums):\n\u001b[0;32m     85\u001b[0m     num_width \u001b[38;5;241m=\u001b[39m \u001b[38;5;241m11\u001b[39m\n\u001b[1;32m---> 86\u001b[0m     \u001b[38;5;28;01mreturn\u001b[39;00m \u001b[43mget_float\u001b[49m\u001b[43m(\u001b[49m\u001b[43mnums\u001b[49m\u001b[43m,\u001b[49m\u001b[43m \u001b[49m\u001b[43mnum_width\u001b[49m\u001b[43m,\u001b[49m\u001b[43m \u001b[49m\u001b[38;5;241;43m2\u001b[39;49m\u001b[43m)\u001b[49m\n",
      "File \u001b[1;32mc:\\Users\\krutovskii\\Desktop\\PetProject\\product_owner_rl\\web_interaction\\image_parser.py:76\u001b[0m, in \u001b[0;36mget_float\u001b[1;34m(nums, num_width, num_count)\u001b[0m\n\u001b[0;32m     74\u001b[0m         \u001b[38;5;28;01mbreak\u001b[39;00m\n\u001b[0;32m     75\u001b[0m     value \u001b[38;5;241m+\u001b[39m\u001b[38;5;241m=\u001b[39m \u001b[38;5;28mstr\u001b[39m(digit)\n\u001b[1;32m---> 76\u001b[0m \u001b[38;5;28;01mreturn\u001b[39;00m \u001b[38;5;28;43mfloat\u001b[39;49m\u001b[43m(\u001b[49m\u001b[43mvalue\u001b[49m\u001b[43m)\u001b[49m\n",
      "\u001b[1;31mValueError\u001b[0m: could not convert string to float: ''"
     ]
    }
   ],
   "source": [
    "backlog_image = cv2.imread('iframe.png')\n",
    "\n",
    "backlog_cards = image_parser.get_backlog(backlog_image)\n",
    "backlog_cards"
   ]
  },
  {
   "cell_type": "code",
   "execution_count": 31,
   "metadata": {},
   "outputs": [
    {
     "name": "stdout",
     "output_type": "stream",
     "text": [
      "[ 4.     0.33  25.     4.     2.73   2.     1.     2.     2.     0.\n",
      "  1.     0.     0.     1.     0.     0.     0.     0.     0.     0.\n",
      "  0.     0.     0.     0.     0.     0.     0.     9.     9.     1.\n",
      "  0.     0.035  2.     3.    10.    10.     1.     0.     0.035  2.\n",
      "  3.     9.     9.     1.     0.     0.035  2.     3.    11.    11.\n",
      "  1.     0.     0.035  2.     3.    11.    11.     1.     0.     0.035\n",
      "  2.     3.    11.    11.     1.     0.     0.035  2.     3.     0.\n",
      "  0.     0.     0.     0.     0.     0.     0.     0.     0.     0.\n",
      "  0.     0.     0.     0.     0.     0.     0.     0.     0.     0.\n",
      "  0.     0.     0.     0.     0.     0.     0.     0.     0.     0.\n",
      "  0.     0.     0.     0.     0.     0.     0.     0.     0.     0.\n",
      "  0.   ]\n",
      "{'actions': [0, 9, 10, 11, 12, 13, 14]}\n",
      "13\n"
     ]
    }
   ],
   "source": [
    "state = env._get_state()\n",
    "print(state)\n",
    "\n",
    "info = env.get_info()\n",
    "print(info)\n",
    "\n",
    "action = agent.get_action(state, info)\n",
    "print(action)"
   ]
  },
  {
   "cell_type": "code",
   "execution_count": 30,
   "metadata": {},
   "outputs": [
    {
     "name": "stdout",
     "output_type": "stream",
     "text": [
      "Start decomposition\n"
     ]
    },
    {
     "data": {
      "image/png": "[encoded data removed]",
      "text/plain": [
       "<Figure size 640x480 with 1 Axes>"
      ]
     },
     "metadata": {},
     "output_type": "display_data"
    },
    {
     "data": {
      "image/png": "[encoded data removed]",
      "text/plain": [
       "<Figure size 640x480 with 1 Axes>"
      ]
     },
     "metadata": {},
     "output_type": "display_data"
    },
    {
     "name": "stdout",
     "output_type": "stream",
     "text": [
      "frozenset({(0, 115), (1, 188), (2, 30)})\n",
      "9.0\n",
      "11.0\n",
      "8.0\n",
      "10.0\n"
     ]
    }
   ],
   "source": [
    "time.sleep(5)\n",
    "apply_web_action(action, driver, iframe, env)"
   ]
  },
  {
   "cell_type": "code",
   "execution_count": 13,
   "metadata": {},
   "outputs": [
    {
     "data": {
      "text/plain": [
       "{'height': 540, 'width': 960, 'x': 29.600000381469727, 'y': 20}"
      ]
     },
     "execution_count": 13,
     "metadata": {},
     "output_type": "execute_result"
    }
   ],
   "source": [
    "iframe.rect"
   ]
  },
  {
   "cell_type": "code",
   "execution_count": 16,
   "metadata": {},
   "outputs": [],
   "source": [
    "driver.quit()"
   ]
  }
 ],
 "metadata": {
  "kernelspec": {
   "display_name": ".venv",
   "language": "python",
   "name": "python3"
  },
  "language_info": {
   "codemirror_mode": {
    "name": "ipython",
    "version": 3
   },
   "file_extension": ".py",
   "mimetype": "text/x-python",
   "name": "python",
   "nbconvert_exporter": "python",
   "pygments_lexer": "ipython3",
   "version": "3.10.6"
  }
 },
 "nbformat": 4,
 "nbformat_minor": 2
}
