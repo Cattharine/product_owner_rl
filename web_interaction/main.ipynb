{
 "cells": [
  {
   "cell_type": "code",
   "execution_count": 1,
   "metadata": {},
   "outputs": [],
   "source": [
    "from selenium.webdriver.common.by import By\n",
    "from selenium.webdriver.remote.webelement import WebElement\n",
    "\n",
    "import cv2\n",
    "import logging\n",
    "import time\n",
    "\n",
    "import sys\n",
    "sys.path.insert(0, '..')\n",
    "\n",
    "from web_interaction.main import open_game, start_game, wait_loading\n",
    "from game.game import ProductOwnerGame\n",
    "from environment.backlog_env import BacklogEnv\n",
    "from environment.environment import ProductOwnerEnv\n",
    "from environment.reward_sytem.base_reward_system import BaseRewardSystem\n",
    "from environment.userstory_env import UserstoryEnv\n",
    "\n",
    "from pipeline.study_agent import load_dqn_agent\n",
    "\n",
    "from web_interaction import GameImageParser, GameCoordinator, WebController"
   ]
  },
  {
   "cell_type": "code",
   "execution_count": 2,
   "metadata": {},
   "outputs": [],
   "source": [
    "logger = logging.getLogger('WebInteraction')\n",
    "handler = logging.StreamHandler(sys.stdout)\n",
    "handler.setFormatter(logging.Formatter(\"%(asctime)s %(message)s\"))\n",
    "logger.addHandler(handler)\n",
    "logger.setLevel(logging.DEBUG)\n",
    "\n",
    "image_parser = GameImageParser('../web_interaction/templates')\n",
    "game_coordinator = GameCoordinator(image_parser)\n",
    "game = ProductOwnerGame()\n",
    "\n",
    "userstory_env = UserstoryEnv(4, 0, 0)\n",
    "backlog_env = BacklogEnv(12, 0, 0, 0, 0, 0)\n",
    "reward_system = BaseRewardSystem(config={})\n",
    "env = ProductOwnerEnv(userstory_env, backlog_env, with_info=True, reward_system=reward_system)\n",
    "env.game = game\n",
    "\n",
    "web_controller = WebController(game_coordinator, logger)"
   ]
  },
  {
   "cell_type": "code",
   "execution_count": 3,
   "metadata": {},
   "outputs": [
    {
     "name": "stderr",
     "output_type": "stream",
     "text": [
      "c:\\Users\\kruto\\OneDrive\\Рабочий стол\\forks\\product_owner_rl\\web_interaction\\..\\pipeline\\study_agent.py:10: FutureWarning: You are using `torch.load` with `weights_only=False` (the current default value), which uses the default pickle module implicitly. It is possible to construct malicious pickle data which will execute arbitrary code during unpickling (See https://github.com/pytorch/pytorch/blob/main/SECURITY.md#untrusted-models for more details). In a future release, the default value for `weights_only` will be flipped to `True`. This limits the functions that could be executed during unpickling. Arbitrary objects will no longer be allowed to be loaded via this mode unless they are explicitly allowlisted by the user via `torch.serialization.add_safe_globals`. We recommend you start setting `weights_only=True` for any use case where you don't have full control of the loaded file. Please open an issue on GitHub for any issues related to this experimental feature.\n",
      "  agent: DQN = torch.load(path)\n"
     ]
    }
   ],
   "source": [
    "agent = load_dqn_agent('../models/credit_start_model.pt')"
   ]
  },
  {
   "cell_type": "code",
   "execution_count": 4,
   "metadata": {},
   "outputs": [],
   "source": [
    "driver = open_game()\n",
    "\n",
    "iframe = driver.find_element(by=By.ID, value='game_drop')\n",
    "\n",
    "# open full screen\n",
    "fullscreen_button = driver.find_element(by=By.CLASS_NAME, value=\"fullscreen_btn\")\n",
    "fullscreen_button.click()\n",
    "\n",
    "height = iframe.rect[\"height\"]  # 540 or 1028\n",
    "width = iframe.rect[\"width\"]  # 960 or 1920\n",
    "\n",
    "wait_loading(iframe)\n",
    "\n",
    "start_game(driver, iframe)\n",
    "\n",
    "iframe.screenshot('game_state.png')\n",
    "\n",
    "image = cv2.imread('game_state.png')"
   ]
  },
  {
   "cell_type": "code",
   "execution_count": 5,
   "metadata": {},
   "outputs": [
    {
     "data": {
      "text/plain": [
       "[UserStoryCard(S, loyalty=0.055, customers=1.0]"
      ]
     },
     "execution_count": 5,
     "metadata": {},
     "output_type": "execute_result"
    }
   ],
   "source": [
    "game_coordinator.skip_tutorial(game)\n",
    "game_coordinator.insert_user_stories_from_image(game, image)\n",
    "\n",
    "game.userstories.stories_list"
   ]
  },
  {
   "cell_type": "code",
   "execution_count": 6,
   "metadata": {},
   "outputs": [
    {
     "name": "stdout",
     "output_type": "stream",
     "text": [
      "Sprint 4\n",
      "Money 33000.0\n",
      "Loyalty 4.0\n",
      "Customers 25.0\n",
      "Credit 300000\n"
     ]
    }
   ],
   "source": [
    "game_coordinator.update_header_info(game, image)\n",
    "\n",
    "print('Sprint', game.context.current_sprint)\n",
    "print('Money', game.context.get_money())\n",
    "print('Loyalty', game.context.get_loyalty())\n",
    "print('Customers', game.context.customers)\n",
    "print('Credit', game.context.credit)"
   ]
  },
  {
   "cell_type": "code",
   "execution_count": 7,
   "metadata": {},
   "outputs": [],
   "source": [
    "def apply_web_action(action: int, driver, iframe: WebElement, env: ProductOwnerEnv):\n",
    "    if action == 0:  # start sprint\n",
    "        web_controller.start_sprint(driver, iframe, env)\n",
    "        return\n",
    "\n",
    "    if action == 1:  # decompose\n",
    "        web_controller.apply_decompose_action(driver, iframe, env)\n",
    "        return\n",
    "\n",
    "    if action == 2:  # release\n",
    "        web_controller.release_tasks(driver, iframe, env)\n",
    "        return\n",
    "\n",
    "    if action == 5:  # buy statistical research\n",
    "        web_controller.buy_statistical_research(driver, iframe, env)\n",
    "        return\n",
    "\n",
    "    if action >= env.meta_action_dim:\n",
    "\n",
    "        action -= env.meta_action_dim\n",
    "\n",
    "    if action < env.userstory_env.max_action_num:\n",
    "        web_controller.apply_user_story_action(action, driver, iframe, env)\n",
    "        return\n",
    "\n",
    "    action -= env.userstory_env.max_action_num\n",
    "\n",
    "    if action < env.backlog_env.backlog_max_action_num:\n",
    "        web_controller.apply_backlog_card_action(action, driver, iframe, env)\n",
    "        return\n",
    "\n",
    "    raise Exception(f\"Unknown action: {action}\")"
   ]
  },
  {
   "cell_type": "code",
   "execution_count": 8,
   "metadata": {},
   "outputs": [
    {
     "name": "stdout",
     "output_type": "stream",
     "text": [
      "2024-11-04 13:55:24,216 Action id: 7\n",
      "2024-11-04 13:55:25,219 Start user story action: 0\n",
      "2024-11-04 13:55:25,221 User story: UserStoryCard(S, loyalty=0.055, customers=1.0\n",
      "2024-11-04 13:55:25,225 Found at position: (1556, 384)\n",
      "2024-11-04 13:55:27,318 Reward: True\n",
      "2024-11-04 13:55:27,320 Action id: 1\n",
      "2024-11-04 13:55:28,321 Start decomposition\n",
      "2024-11-04 13:55:31,274 Action id: 16\n",
      "2024-11-04 13:55:32,275 Start moving backlog card\n",
      "2024-11-04 13:55:33,614 Selected card Card(CardInfo(15, (120, 79, 240), 1293219769552, S, UserCardType.S))\n",
      "2024-11-04 13:55:33,616 Found at position (1516, 471)\n",
      "2024-11-04 13:55:33,928 Clicked on card\n",
      "2024-11-04 13:55:33,935 Action id: 17\n",
      "2024-11-04 13:55:34,937 Start moving backlog card\n",
      "2024-11-04 13:55:36,308 Selected card Card(CardInfo(1, (120, 79, 240), 1293219769552, S, UserCardType.S))\n",
      "2024-11-04 13:55:36,312 Found at position (1516, 471)\n",
      "2024-11-04 13:55:36,667 Clicked on card\n",
      "2024-11-04 13:55:36,676 Action id: 0\n",
      "2024-11-04 13:55:37,682 Start new sprint\n",
      "2024-11-04 13:55:41,784 Action id: 18\n",
      "2024-11-04 13:55:42,786 Start moving backlog card\n",
      "2024-11-04 13:55:44,162 Selected card Card(CardInfo(10, (120, 79, 240), 1293219769552, S, UserCardType.S))\n",
      "2024-11-04 13:55:44,163 Found at position (1516, 384)\n",
      "2024-11-04 13:55:44,514 Clicked on card\n",
      "2024-11-04 13:55:44,521 Action id: 0\n",
      "2024-11-04 13:55:45,527 Start new sprint\n",
      "2024-11-04 13:55:49,723 Action id: 18\n",
      "2024-11-04 13:55:50,725 Start moving backlog card\n",
      "2024-11-04 13:55:52,093 Selected card Card(CardInfo(12, (120, 79, 240), 1293219769552, S, UserCardType.S))\n",
      "2024-11-04 13:55:52,095 Found at position (1516, 384)\n",
      "2024-11-04 13:55:52,435 Clicked on card\n",
      "2024-11-04 13:55:52,440 Action id: 0\n",
      "2024-11-04 13:55:53,443 Start new sprint\n",
      "2024-11-04 13:55:57,573 Action id: 2\n",
      "2024-11-04 13:55:58,611 Release tasks\n",
      "2024-11-04 13:56:00,264 Action id: 0\n",
      "2024-11-04 13:56:01,265 Start new sprint\n",
      "2024-11-04 13:56:05,189 Action id: 0\n",
      "2024-11-04 13:56:06,191 Start new sprint\n",
      "2024-11-04 13:56:10,213 Action id: 0\n",
      "2024-11-04 13:56:11,214 Start new sprint\n",
      "2024-11-04 13:56:15,207 Action id: 5\n",
      "2024-11-04 13:56:16,209 Buy statistical research\n",
      "2024-11-04 13:56:18,192 User stories appeared: [UserStoryImageInfo((120, 79, 240), 0.05, 2.0, (1556, 384)), UserStoryImageInfo((54, 79, 234), 0.04, 1.0, (1556, 471))]\n",
      "2024-11-04 13:56:18,196 Action id: 9\n",
      "2024-11-04 13:56:19,198 Start user story action: 2\n",
      "2024-11-04 13:56:19,199 User story: UserStoryCard(S, loyalty=0.04, customers=1.0\n",
      "2024-11-04 13:56:19,201 Found at position: (1556, 471)\n",
      "2024-11-04 13:56:21,159 Reward: True\n",
      "2024-11-04 13:56:21,163 Action id: 9\n",
      "2024-11-04 13:56:22,165 Start user story action: 2\n",
      "2024-11-04 13:56:22,166 User story: UserStoryCard(S, loyalty=0.05, customers=2.0\n",
      "2024-11-04 13:56:22,167 Found at position: (1556, 384)\n",
      "2024-11-04 13:56:24,087 Reward: True\n",
      "2024-11-04 13:56:24,088 Action id: 1\n",
      "2024-11-04 13:56:25,090 Start decomposition\n",
      "2024-11-04 13:56:28,247 Action id: 20\n",
      "2024-11-04 13:56:29,248 Start moving backlog card\n",
      "2024-11-04 13:56:30,658 Selected card Card(CardInfo(11, (120, 79, 240), 1294178327952, S, UserCardType.S))\n",
      "2024-11-04 13:56:30,660 Found at position (1516, 646)\n",
      "2024-11-04 13:56:31,006 Clicked on card\n",
      "2024-11-04 13:56:31,016 Action id: 15\n",
      "2024-11-04 13:56:32,019 Start moving backlog card\n",
      "2024-11-04 13:56:33,396 Selected card Card(CardInfo(1, (54, 79, 234), 1293219515472, S, UserCardType.S))\n",
      "2024-11-04 13:56:33,399 Found at position (1597, 471)\n",
      "2024-11-04 13:56:33,721 Clicked on card\n",
      "2024-11-04 13:56:33,731 Action id: 0\n",
      "2024-11-04 13:56:34,734 Start new sprint\n"
     ]
    }
   ],
   "source": [
    "while not game.context.done:\n",
    "    state = env.recalculate_state()\n",
    "    # print(state)\n",
    "\n",
    "    info = env.get_info()\n",
    "    # print(info)\n",
    "\n",
    "    action = agent.get_action(state, info)\n",
    "    logger.info(f'Action id: {action}')\n",
    "\n",
    "    time.sleep(1)\n",
    "    apply_web_action(action, driver, iframe, env)\n",
    "\n",
    "    if env.game.context.current_sprint >= 35:\n",
    "        logger.warn(\"Reached credit end!\")\n",
    "        break"
   ]
  },
  {
   "cell_type": "code",
   "execution_count": null,
   "metadata": {},
   "outputs": [],
   "source": [
    "raise Exception('Break before empty sprinst')"
   ]
  },
  {
   "cell_type": "code",
   "execution_count": 9,
   "metadata": {},
   "outputs": [],
   "source": [
    "while not game.context.done:\n",
    "    time.sleep(1)\n",
    "    apply_web_action(0, driver, iframe, env)"
   ]
  },
  {
   "cell_type": "code",
   "execution_count": 10,
   "metadata": {},
   "outputs": [
    {
     "data": {
      "text/plain": [
       "{'height': 1028, 'width': 1920, 'x': 0, 'y': 0}"
      ]
     },
     "execution_count": 10,
     "metadata": {},
     "output_type": "execute_result"
    }
   ],
   "source": [
    "iframe.rect"
   ]
  },
  {
   "cell_type": "code",
   "execution_count": 11,
   "metadata": {},
   "outputs": [
    {
     "ename": "Exception",
     "evalue": "Break before web driver exit",
     "output_type": "error",
     "traceback": [
      "\u001b[1;31m---------------------------------------------------------------------------\u001b[0m",
      "\u001b[1;31mException\u001b[0m                                 Traceback (most recent call last)",
      "Cell \u001b[1;32mIn[11], line 1\u001b[0m\n\u001b[1;32m----> 1\u001b[0m \u001b[38;5;28;01mraise\u001b[39;00m \u001b[38;5;167;01mException\u001b[39;00m(\u001b[38;5;124m'\u001b[39m\u001b[38;5;124mBreak before web driver exit\u001b[39m\u001b[38;5;124m'\u001b[39m)\n",
      "\u001b[1;31mException\u001b[0m: Break before web driver exit"
     ]
    }
   ],
   "source": [
    "raise Exception('Break before web driver exit')"
   ]
  },
  {
   "cell_type": "code",
   "execution_count": null,
   "metadata": {},
   "outputs": [
    {
     "data": {
      "text/plain": [
       "[BacklogCardImageInfo((54, 79, 234), 17, (1517, 384)),\n",
       " BacklogCardImageInfo((54, 79, 234), 9, (1598, 384)),\n",
       " BacklogCardImageInfo((54, 79, 234), 7, (1517, 471)),\n",
       " BacklogCardImageInfo((54, 79, 234), 5, (1598, 471)),\n",
       " BacklogCardImageInfo((84, 36, 195), 15, (1517, 558)),\n",
       " BacklogCardImageInfo((84, 36, 195), 11, (1598, 558)),\n",
       " BacklogCardImageInfo((84, 36, 195), 8, (1517, 645)),\n",
       " BacklogCardImageInfo((84, 36, 195), 4, (1598, 645))]"
      ]
     },
     "execution_count": 13,
     "metadata": {},
     "output_type": "execute_result"
    }
   ],
   "source": [
    "game_coordinator.backlog_cards"
   ]
  },
  {
   "cell_type": "code",
   "execution_count": null,
   "metadata": {},
   "outputs": [
    {
     "data": {
      "text/plain": [
       "[UserStoryCard(S, loyalty=0.065, customers=1.0,\n",
       " UserStoryCard(S, loyalty=0.06, customers=1.0]"
      ]
     },
     "execution_count": 14,
     "metadata": {},
     "output_type": "execute_result"
    }
   ],
   "source": [
    "game.userstories.release"
   ]
  },
  {
   "cell_type": "code",
   "execution_count": null,
   "metadata": {},
   "outputs": [
    {
     "name": "stdout",
     "output_type": "stream",
     "text": [
      "(54, 79, 234)\n",
      "(120, 79, 240)\n"
     ]
    }
   ],
   "source": [
    "for us in game.userstories.release:\n",
    "    print(us.info.color)"
   ]
  },
  {
   "cell_type": "code",
   "execution_count": null,
   "metadata": {},
   "outputs": [
    {
     "data": {
      "text/plain": [
       "[UserStoryImageInfo((120, 79, 240), 0.05, 2.0, (1556, 384)),\n",
       " UserStoryImageInfo((255, 211, 143), 0.06, 2.0, (1556, 471))]"
      ]
     },
     "execution_count": 9,
     "metadata": {},
     "output_type": "execute_result"
    }
   ],
   "source": [
    "game_coordinator.user_stories"
   ]
  },
  {
   "cell_type": "code",
   "execution_count": null,
   "metadata": {},
   "outputs": [],
   "source": [
    "image_parser.templates = image_parser._load_templates()"
   ]
  },
  {
   "cell_type": "code",
   "execution_count": null,
   "metadata": {},
   "outputs": [],
   "source": [
    "image = cv2.imread('game_state.png')\n",
    "\n",
    "game_coordinator.update_header_info(game, image)"
   ]
  },
  {
   "cell_type": "code",
   "execution_count": null,
   "metadata": {},
   "outputs": [
    {
     "data": {
      "text/plain": [
       "{'actions': [0, 3, 4, 5, 6, 7, 8, 9, 10]}"
      ]
     },
     "execution_count": 11,
     "metadata": {},
     "output_type": "execute_result"
    }
   ],
   "source": [
    "info"
   ]
  },
  {
   "cell_type": "code",
   "execution_count": null,
   "metadata": {},
   "outputs": [
    {
     "data": {
      "text/plain": [
       "array([3.40e+01, 3.79e+00, 1.54e-02, 2.82e+00, 3.00e-01, 2.00e+00,\n",
       "       1.00e+00, 0.00e+00, 0.00e+00, 1.30e+01, 1.00e+00, 0.00e+00,\n",
       "       0.00e+00, 1.00e+00, 1.00e+00, 0.00e+00, 0.00e+00, 0.00e+00,\n",
       "       0.00e+00, 0.00e+00, 0.00e+00, 0.00e+00, 0.00e+00, 0.00e+00,\n",
       "       0.00e+00, 0.00e+00, 0.00e+00, 0.00e+00, 0.00e+00, 0.00e+00,\n",
       "       0.00e+00, 0.00e+00, 0.00e+00, 0.00e+00, 0.00e+00, 0.00e+00,\n",
       "       0.00e+00, 0.00e+00, 0.00e+00, 0.00e+00, 0.00e+00, 0.00e+00,\n",
       "       0.00e+00, 0.00e+00, 0.00e+00, 0.00e+00, 0.00e+00, 0.00e+00,\n",
       "       0.00e+00, 0.00e+00, 0.00e+00, 0.00e+00, 0.00e+00, 0.00e+00,\n",
       "       0.00e+00, 0.00e+00, 0.00e+00, 0.00e+00, 0.00e+00, 0.00e+00,\n",
       "       0.00e+00, 0.00e+00, 0.00e+00, 0.00e+00, 0.00e+00, 0.00e+00,\n",
       "       0.00e+00, 0.00e+00, 0.00e+00, 0.00e+00, 0.00e+00, 0.00e+00,\n",
       "       0.00e+00, 0.00e+00, 0.00e+00, 0.00e+00, 0.00e+00, 0.00e+00,\n",
       "       0.00e+00, 0.00e+00, 0.00e+00, 0.00e+00, 0.00e+00, 0.00e+00,\n",
       "       0.00e+00, 0.00e+00, 0.00e+00, 0.00e+00, 0.00e+00, 0.00e+00,\n",
       "       0.00e+00, 0.00e+00, 0.00e+00, 0.00e+00, 0.00e+00, 0.00e+00,\n",
       "       0.00e+00, 0.00e+00, 0.00e+00, 0.00e+00, 0.00e+00, 0.00e+00,\n",
       "       0.00e+00, 0.00e+00, 0.00e+00, 0.00e+00, 0.00e+00, 0.00e+00,\n",
       "       0.00e+00, 0.00e+00, 0.00e+00, 0.00e+00, 0.00e+00, 0.00e+00,\n",
       "       0.00e+00, 0.00e+00, 0.00e+00, 0.00e+00, 0.00e+00], dtype=float32)"
      ]
     },
     "execution_count": 33,
     "metadata": {},
     "output_type": "execute_result"
    }
   ],
   "source": [
    "state"
   ]
  },
  {
   "cell_type": "code",
   "execution_count": null,
   "metadata": {},
   "outputs": [
    {
     "data": {
      "text/plain": [
       "11"
      ]
     },
     "execution_count": 25,
     "metadata": {},
     "output_type": "execute_result"
    }
   ],
   "source": [
    "env.game.context.current_sprint"
   ]
  },
  {
   "cell_type": "code",
   "execution_count": null,
   "metadata": {},
   "outputs": [],
   "source": [
    "driver.quit()"
   ]
  }
 ],
 "metadata": {
  "kernelspec": {
   "display_name": "Python 3",
   "language": "python",
   "name": "python3"
  },
  "language_info": {
   "codemirror_mode": {
    "name": "ipython",
    "version": 3
   },
   "file_extension": ".py",
   "mimetype": "text/x-python",
   "name": "python",
   "nbconvert_exporter": "python",
   "pygments_lexer": "ipython3",
   "version": "3.11.9"
  }
 },
 "nbformat": 4,
 "nbformat_minor": 2
}
