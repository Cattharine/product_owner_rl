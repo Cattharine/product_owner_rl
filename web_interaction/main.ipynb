{
 "cells": [
  {
   "cell_type": "code",
   "execution_count": 1,
   "metadata": {},
   "outputs": [],
   "source": [
    "from selenium import webdriver\n",
    "from selenium.webdriver import ActionChains\n",
    "from selenium.webdriver.common.by import By\n",
    "\n",
    "import cv2\n",
    "\n",
    "import time\n",
    "\n",
    "import numpy as np\n",
    "import matplotlib.pyplot as plt"
   ]
  },
  {
   "cell_type": "code",
   "execution_count": 2,
   "metadata": {},
   "outputs": [],
   "source": [
    "import sys\n",
    "sys.path.insert(0, '..')\n",
    "\n",
    "from web_interaction.main import open_game, start_game\n",
    "from game.game import ProductOwnerGame\n",
    "from game.userstory_card.userstory_card_info import UserStoryCardInfo\n",
    "from environment.backlog_env import BacklogEnv\n",
    "from environment.environment import ProductOwnerEnv\n",
    "from environment.reward_sytem.base_reward_system import BaseRewardSystem\n",
    "from environment.userstory_env import UserstoryEnv\n",
    "import image_parser\n",
    "\n",
    "from pipeline.study_agent import load_dqn_agent\n",
    "from single_color_storage import SingleColorStorage"
   ]
  },
  {
   "cell_type": "code",
   "execution_count": 3,
   "metadata": {},
   "outputs": [],
   "source": [
    "driver = open_game()"
   ]
  },
  {
   "cell_type": "code",
   "execution_count": 4,
   "metadata": {},
   "outputs": [],
   "source": [
    "time.sleep(10)"
   ]
  },
  {
   "cell_type": "code",
   "execution_count": 5,
   "metadata": {},
   "outputs": [],
   "source": [
    "iframe = driver.find_element(by=By.ID, value='game_drop')\n",
    "height = iframe.rect[\"height\"]  # 540\n",
    "width = iframe.rect[\"width\"]  # 960"
   ]
  },
  {
   "cell_type": "code",
   "execution_count": 6,
   "metadata": {},
   "outputs": [],
   "source": [
    "start_game(driver, iframe)"
   ]
  },
  {
   "cell_type": "code",
   "execution_count": 10,
   "metadata": {},
   "outputs": [],
   "source": [
    "# buy research\n",
    "ActionChains(driver).move_to_element_with_offset(\n",
    "    iframe, int(0.3 * width), -int(0.3 * height)\n",
    ").click().perform()"
   ]
  },
  {
   "cell_type": "code",
   "execution_count": 31,
   "metadata": {},
   "outputs": [
    {
     "data": {
      "text/plain": [
       "True"
      ]
     },
     "execution_count": 31,
     "metadata": {},
     "output_type": "execute_result"
    }
   ],
   "source": [
    "iframe.screenshot('iframe.png')"
   ]
  },
  {
   "cell_type": "code",
   "execution_count": 10,
   "metadata": {},
   "outputs": [],
   "source": [
    "image = cv2.imread('iframe.png')\n",
    "meta_info = image[7:83, 57:932]"
   ]
  },
  {
   "cell_type": "code",
   "execution_count": 4,
   "metadata": {},
   "outputs": [],
   "source": [
    "game = ProductOwnerGame()\n",
    "context = game.context\n",
    "\n",
    "context.is_new_game = False"
   ]
  },
  {
   "cell_type": "code",
   "execution_count": 5,
   "metadata": {},
   "outputs": [
    {
     "data": {
      "text/plain": [
       "4.0"
      ]
     },
     "execution_count": 5,
     "metadata": {},
     "output_type": "execute_result"
    }
   ],
   "source": [
    "current_sprint = image_parser.get_sprint_number(meta_info)\n",
    "context.current_sprint = current_sprint\n",
    "current_sprint"
   ]
  },
  {
   "cell_type": "code",
   "execution_count": 6,
   "metadata": {},
   "outputs": [],
   "source": [
    "available_developers_count = 2\n",
    "current_rooms_counter = 1\n",
    "blank_sprint_counter = 0"
   ]
  },
  {
   "cell_type": "code",
   "execution_count": 7,
   "metadata": {},
   "outputs": [
    {
     "data": {
      "text/plain": [
       "2.0"
      ]
     },
     "execution_count": 7,
     "metadata": {},
     "output_type": "execute_result"
    }
   ],
   "source": [
    "current_sprint_hours = image_parser.get_current_sprint_hours(image)\n",
    "current_sprint_hours"
   ]
  },
  {
   "cell_type": "code",
   "execution_count": 8,
   "metadata": {},
   "outputs": [
    {
     "data": {
      "image/png": "[encoded data removed]",
      "text/plain": [
       "<Figure size 640x480 with 1 Axes>"
      ]
     },
     "metadata": {},
     "output_type": "display_data"
    },
    {
     "ename": "ValueError",
     "evalue": "could not convert string to float: ''",
     "output_type": "error",
     "traceback": [
      "\u001b[1;31m---------------------------------------------------------------------------\u001b[0m",
      "\u001b[1;31mValueError\u001b[0m                                Traceback (most recent call last)",
      "Cell \u001b[1;32mIn[8], line 1\u001b[0m\n\u001b[1;32m----> 1\u001b[0m user_stories, positions \u001b[38;5;241m=\u001b[39m \u001b[43mimage_parser\u001b[49m\u001b[38;5;241;43m.\u001b[39;49m\u001b[43mget_user_stories\u001b[49m\u001b[43m(\u001b[49m\u001b[43mimage\u001b[49m\u001b[43m)\u001b[49m\n\u001b[0;32m      2\u001b[0m user_stories, positions\n",
      "File \u001b[1;32mc:\\Users\\kruto\\Desktop\\RL_Product\\product_owner_rl\\web_interaction\\image_parser.py:132\u001b[0m, in \u001b[0;36mget_user_stories\u001b[1;34m(frame)\u001b[0m\n\u001b[0;32m    130\u001b[0m user_stories_cards \u001b[38;5;241m=\u001b[39m get_rows(user_stories_board)\n\u001b[0;32m    131\u001b[0m \u001b[38;5;28;01mfor\u001b[39;00m user_story, position \u001b[38;5;129;01min\u001b[39;00m user_stories_cards:\n\u001b[1;32m--> 132\u001b[0m     description \u001b[38;5;241m=\u001b[39m \u001b[43mget_user_story_description\u001b[49m\u001b[43m(\u001b[49m\u001b[43muser_story\u001b[49m\u001b[43m)\u001b[49m\n\u001b[0;32m    133\u001b[0m     user_stories\u001b[38;5;241m.\u001b[39mappend(description)\n\u001b[0;32m    134\u001b[0m     positions\u001b[38;5;241m.\u001b[39mappend(position)\n",
      "File \u001b[1;32mc:\\Users\\kruto\\Desktop\\RL_Product\\product_owner_rl\\web_interaction\\image_parser.py:98\u001b[0m, in \u001b[0;36mget_user_story_description\u001b[1;34m(user_story)\u001b[0m\n\u001b[0;32m     95\u001b[0m color \u001b[38;5;241m=\u001b[39m np\u001b[38;5;241m.\u001b[39marray(user_story[\u001b[38;5;241m0\u001b[39m, \u001b[38;5;241m0\u001b[39m])\n\u001b[0;32m     96\u001b[0m user_story_bw \u001b[38;5;241m=\u001b[39m get_black_white_image(user_story, color)\n\u001b[1;32m---> 98\u001b[0m loyalty_value \u001b[38;5;241m=\u001b[39m \u001b[43mget_user_story_loyalty\u001b[49m\u001b[43m(\u001b[49m\u001b[43muser_story_bw\u001b[49m\u001b[43m)\u001b[49m\n\u001b[0;32m     99\u001b[0m customers_value \u001b[38;5;241m=\u001b[39m get_user_story_customers(user_story_bw)\n\u001b[0;32m    101\u001b[0m \u001b[38;5;28;01mreturn\u001b[39;00m color, loyalty_value, customers_value\n",
      "File \u001b[1;32mc:\\Users\\kruto\\Desktop\\RL_Product\\product_owner_rl\\web_interaction\\image_parser.py:84\u001b[0m, in \u001b[0;36mget_user_story_loyalty\u001b[1;34m(user_story)\u001b[0m\n\u001b[0;32m     82\u001b[0m \u001b[38;5;28;01mdef\u001b[39;00m \u001b[38;5;21mget_user_story_loyalty\u001b[39m(user_story):\n\u001b[0;32m     83\u001b[0m     loyalty_nums \u001b[38;5;241m=\u001b[39m user_story[\u001b[38;5;241m7\u001b[39m:\u001b[38;5;241m15\u001b[39m, \u001b[38;5;241m55\u001b[39m:]\n\u001b[1;32m---> 84\u001b[0m     loyalty_value \u001b[38;5;241m=\u001b[39m \u001b[43mget_user_story_float\u001b[49m\u001b[43m(\u001b[49m\u001b[43mloyalty_nums\u001b[49m\u001b[43m)\u001b[49m\n\u001b[0;32m     85\u001b[0m     \u001b[38;5;28;01mreturn\u001b[39;00m loyalty_value\n",
      "File \u001b[1;32mc:\\Users\\kruto\\Desktop\\RL_Product\\product_owner_rl\\web_interaction\\image_parser.py:74\u001b[0m, in \u001b[0;36mget_user_story_float\u001b[1;34m(nums)\u001b[0m\n\u001b[0;32m     72\u001b[0m \u001b[38;5;28;01mdef\u001b[39;00m \u001b[38;5;21mget_user_story_float\u001b[39m(nums):\n\u001b[0;32m     73\u001b[0m     num_width \u001b[38;5;241m=\u001b[39m \u001b[38;5;241m6\u001b[39m\n\u001b[1;32m---> 74\u001b[0m     \u001b[38;5;28;01mreturn\u001b[39;00m \u001b[43mget_float\u001b[49m\u001b[43m(\u001b[49m\u001b[43mnums\u001b[49m\u001b[43m,\u001b[49m\u001b[43m \u001b[49m\u001b[43mnum_width\u001b[49m\u001b[43m,\u001b[49m\u001b[43m \u001b[49m\u001b[38;5;241;43m5\u001b[39;49m\u001b[43m)\u001b[49m\n",
      "File \u001b[1;32mc:\\Users\\kruto\\Desktop\\RL_Product\\product_owner_rl\\web_interaction\\image_parser.py:69\u001b[0m, in \u001b[0;36mget_float\u001b[1;34m(nums, num_width, num_count)\u001b[0m\n\u001b[0;32m     67\u001b[0m         \u001b[38;5;28;01mbreak\u001b[39;00m\n\u001b[0;32m     68\u001b[0m     value \u001b[38;5;241m+\u001b[39m\u001b[38;5;241m=\u001b[39m \u001b[38;5;28mstr\u001b[39m(digit)\n\u001b[1;32m---> 69\u001b[0m \u001b[38;5;28;01mreturn\u001b[39;00m \u001b[38;5;28;43mfloat\u001b[39;49m\u001b[43m(\u001b[49m\u001b[43mvalue\u001b[49m\u001b[43m)\u001b[49m\n",
      "\u001b[1;31mValueError\u001b[0m: could not convert string to float: ''"
     ]
    }
   ],
   "source": [
    "user_stories, positions = image_parser.get_user_stories(image)\n",
    "user_stories, positions"
   ]
  },
  {
   "cell_type": "code",
   "execution_count": 14,
   "metadata": {},
   "outputs": [],
   "source": [
    "for user_story, position in zip(user_stories, positions):\n",
    "    color, loyalty, customers = user_story\n",
    "    color_storage = SingleColorStorage(color)\n",
    "    game_user_story = UserStoryCardInfo('S', current_sprint, color_storage)\n",
    "    game_user_story.loyalty = loyalty\n",
    "    game_user_story.customers_to_bring = customers\n",
    "    game_user_story.position = position\n",
    "\n",
    "    game.userstories.add_us(game_user_story)"
   ]
  },
  {
   "cell_type": "code",
   "execution_count": 39,
   "metadata": {},
   "outputs": [],
   "source": [
    "money = image_parser.get_game_money(meta_info)\n",
    "context.set_money(money)\n",
    "\n",
    "loyalty = image_parser.get_loyalty(meta_info)\n",
    "context.set_loyalty(loyalty)\n",
    "\n",
    "context.customers = image_parser.get_customers(meta_info)"
   ]
  },
  {
   "cell_type": "code",
   "execution_count": 40,
   "metadata": {},
   "outputs": [
    {
     "data": {
      "text/plain": [
       "273000.0"
      ]
     },
     "execution_count": 40,
     "metadata": {},
     "output_type": "execute_result"
    }
   ],
   "source": [
    "credit = max(300_000 - (current_sprint - 1) * 9_000, 0)\n",
    "context.credit = credit\n",
    "credit"
   ]
  },
  {
   "cell_type": "code",
   "execution_count": 11,
   "metadata": {},
   "outputs": [
    {
     "data": {
      "text/plain": [
       "[(array([120,  79, 240], dtype=uint8), 17.0),\n",
       " (array([120,  79, 240], dtype=uint8), 8.0),\n",
       " (array([120,  79, 240], dtype=uint8), 8.0),\n",
       " (array([120,  79, 240], dtype=uint8), 5.0)]"
      ]
     },
     "execution_count": 11,
     "metadata": {},
     "output_type": "execute_result"
    }
   ],
   "source": [
    "backlog_cards = image_parser.get_backlog(image)\n",
    "backlog_cards"
   ]
  },
  {
   "cell_type": "code",
   "execution_count": null,
   "metadata": {},
   "outputs": [],
   "source": [
    "# gruop cards by color\n",
    "# find user story card\n",
    "# clear user story related cards\n",
    "# fill user story with new related cards"
   ]
  },
  {
   "cell_type": "code",
   "execution_count": 17,
   "metadata": {},
   "outputs": [
    {
     "name": "stdout",
     "output_type": "stream",
     "text": [
      "frozenset({(1, 79), (0, 120), (2, 240)}) <itertools._grouper object at 0x000001ED7646B310>\n",
      "(array([120,  79, 240], dtype=uint8), 17.0)\n",
      "(array([120,  79, 240], dtype=uint8), 8.0)\n",
      "(array([120,  79, 240], dtype=uint8), 8.0)\n",
      "(array([120,  79, 240], dtype=uint8), 5.0)\n"
     ]
    }
   ],
   "source": [
    "from operator import itemgetter\n",
    "from itertools import groupby\n",
    "from typing import Tuple, Sequence, FrozenSet\n",
    "\n",
    "from game.backlog_card.card_info import CardInfo\n",
    "from game.userstory_card.userstory_card import UserStoryCard\n",
    "\n",
    "def key_func(card: Tuple[list, float]):\n",
    "    return frozenset(enumerate(card[0]))\n",
    "\n",
    "def find_user_story_by_color(user_stories: Sequence[UserStoryCard], color: FrozenSet[Tuple[int, int]]):\n",
    "    for user_story in user_stories:\n",
    "        if frozenset(enumerate(user_story.info.color)) == color:\n",
    "            return user_story\n",
    "\n",
    "for key, group in groupby(backlog_cards, key_func):\n",
    "    print(key, group)\n",
    "    # user_story: UserStoryCard = find_user_story_by_color()\n",
    "    # if user_story is None:\n",
    "    #     continue\n",
    "    # user_story.info.related_cards.clear()\n",
    "    for image_card in group:\n",
    "        color, hours = image_card\n",
    "        print(image_card)\n",
    "        card_info = CardInfo(hours_val=hours, color_val=key, us_id_val=None, label_val=None, card_type_val=None)"
   ]
  },
  {
   "cell_type": "code",
   "execution_count": 17,
   "metadata": {},
   "outputs": [],
   "source": [
    "userstory_env = UserstoryEnv(2, 0, 0)\n",
    "backlog_env = BacklogEnv(6, 0, 0, 6, 0, 0)\n",
    "reward_system = BaseRewardSystem(config={})\n",
    "env = ProductOwnerEnv(userstory_env, backlog_env, with_info=True, reward_system=reward_system)\n",
    "env.game = game"
   ]
  },
  {
   "cell_type": "code",
   "execution_count": 27,
   "metadata": {},
   "outputs": [
    {
     "data": {
      "text/plain": [
       "array([ 4.  ,  0.33, 25.  ,  4.  ,  2.73,  2.  ,  1.  ,  0.  ,  0.  ,\n",
       "        0.  ,  1.  ,  0.  ,  1.  ,  1.  ,  0.  ,  0.  ,  0.  ,  0.  ,\n",
       "        0.  ,  0.  ,  0.  ,  0.  ,  0.  ,  0.  ,  0.  ,  0.  ,  0.  ,\n",
       "        0.  ,  0.  ,  0.  ,  0.  ,  0.  ,  0.  ,  0.  ,  0.  ,  0.  ,\n",
       "        0.  ,  0.  ,  0.  ,  0.  ,  0.  ,  0.  ,  0.  ,  0.  ,  0.  ,\n",
       "        0.  ,  0.  ,  0.  ,  0.  ,  0.  ,  0.  ,  0.  ,  0.  ,  0.  ,\n",
       "        0.  ,  0.  ,  0.  ,  0.  ,  0.  ,  0.  ,  0.  ,  0.  ,  0.  ,\n",
       "        0.  ,  0.  ,  0.  ,  0.  ,  0.  ,  0.  ,  0.  ,  0.  ,  0.  ,\n",
       "        0.  ,  0.  ,  0.  ,  0.  ,  0.  ,  0.  ,  0.  ,  0.  ,  0.  ,\n",
       "        0.  ,  0.  ,  0.  ,  0.  ,  0.  ,  0.  ,  0.  ,  0.  ,  0.  ,\n",
       "        0.  ,  0.  ,  0.  ,  0.  ,  0.  ,  0.  ,  0.  ,  0.  ,  0.  ,\n",
       "        0.  ,  0.  ,  0.  ,  0.  ,  0.  ,  0.  ,  0.  ,  0.  ,  0.  ,\n",
       "        0.  ,  0.  ,  0.  ], dtype=float32)"
      ]
     },
     "execution_count": 27,
     "metadata": {},
     "output_type": "execute_result"
    }
   ],
   "source": [
    "state = env._get_state()\n",
    "state"
   ]
  },
  {
   "cell_type": "code",
   "execution_count": 28,
   "metadata": {},
   "outputs": [
    {
     "data": {
      "text/plain": [
       "{'actions': [0, 1]}"
      ]
     },
     "execution_count": 28,
     "metadata": {},
     "output_type": "execute_result"
    }
   ],
   "source": [
    "info = env.get_info()\n",
    "info"
   ]
  },
  {
   "cell_type": "code",
   "execution_count": 20,
   "metadata": {},
   "outputs": [],
   "source": [
    "agent = load_dqn_agent('../models/credit_start_model.pt')"
   ]
  },
  {
   "cell_type": "code",
   "execution_count": 29,
   "metadata": {},
   "outputs": [
    {
     "data": {
      "text/plain": [
       "1"
      ]
     },
     "execution_count": 29,
     "metadata": {},
     "output_type": "execute_result"
    }
   ],
   "source": [
    "action = agent.get_action(state, info)\n",
    "action"
   ]
  },
  {
   "cell_type": "code",
   "execution_count": 23,
   "metadata": {},
   "outputs": [
    {
     "data": {
      "text/plain": [
       "array([120,  79, 240], dtype=uint8)"
      ]
     },
     "execution_count": 23,
     "metadata": {},
     "output_type": "execute_result"
    }
   ],
   "source": [
    "card_info = userstory_env.userstories_common[action - 7].info\n",
    "card_info.color"
   ]
  },
  {
   "cell_type": "code",
   "execution_count": 24,
   "metadata": {},
   "outputs": [
    {
     "data": {
      "text/plain": [
       "(725, 183)"
      ]
     },
     "execution_count": 24,
     "metadata": {},
     "output_type": "execute_result"
    }
   ],
   "source": [
    "card_info.position"
   ]
  },
  {
   "cell_type": "code",
   "execution_count": 25,
   "metadata": {},
   "outputs": [],
   "source": [
    "time.sleep(5)\n",
    "# move user story\n",
    "x, y = card_info.position\n",
    "ActionChains(driver).move_to_element_with_offset(\n",
    "    iframe, x - width // 2 + 10, y - height // 2 + 5\n",
    ").click().perform()"
   ]
  },
  {
   "cell_type": "code",
   "execution_count": 26,
   "metadata": {},
   "outputs": [
    {
     "data": {
      "text/plain": [
       "array([ 4.  ,  0.33, 25.  ,  4.  ,  2.73,  2.  ,  1.  ,  0.  ,  0.  ,\n",
       "        0.  ,  1.  ,  0.  ,  1.  ,  1.  ,  0.  ,  0.  ,  0.  ,  0.  ,\n",
       "        0.  ,  0.  ,  0.  ,  0.  ,  0.  ,  0.  ,  0.  ,  0.  ,  0.  ,\n",
       "        0.  ,  0.  ,  0.  ,  0.  ,  0.  ,  0.  ,  0.  ,  0.  ,  0.  ,\n",
       "        0.  ,  0.  ,  0.  ,  0.  ,  0.  ,  0.  ,  0.  ,  0.  ,  0.  ,\n",
       "        0.  ,  0.  ,  0.  ,  0.  ,  0.  ,  0.  ,  0.  ,  0.  ,  0.  ,\n",
       "        0.  ,  0.  ,  0.  ,  0.  ,  0.  ,  0.  ,  0.  ,  0.  ,  0.  ,\n",
       "        0.  ,  0.  ,  0.  ,  0.  ,  0.  ,  0.  ,  0.  ,  0.  ,  0.  ,\n",
       "        0.  ,  0.  ,  0.  ,  0.  ,  0.  ,  0.  ,  0.  ,  0.  ,  0.  ,\n",
       "        0.  ,  0.  ,  0.  ,  0.  ,  0.  ,  0.  ,  0.  ,  0.  ,  0.  ,\n",
       "        0.  ,  0.  ,  0.  ,  0.  ,  0.  ,  0.  ,  0.  ,  0.  ,  0.  ,\n",
       "        0.  ,  0.  ,  0.  ,  0.  ,  0.  ,  0.  ,  0.  ,  0.  ,  0.  ,\n",
       "        0.  ,  0.  ,  0.  ], dtype=float32)"
      ]
     },
     "execution_count": 26,
     "metadata": {},
     "output_type": "execute_result"
    }
   ],
   "source": [
    "env._perform_action(action)\n",
    "env._get_state()"
   ]
  },
  {
   "cell_type": "code",
   "execution_count": 30,
   "metadata": {},
   "outputs": [],
   "source": [
    "time.sleep(5)\n",
    "# decompose\n",
    "ActionChains(driver).move_to_element_with_offset(\n",
    "    iframe, 817 - width // 2, 480 - height // 2\n",
    ").click().perform()"
   ]
  },
  {
   "cell_type": "code",
   "execution_count": 13,
   "metadata": {},
   "outputs": [
    {
     "data": {
      "text/plain": [
       "{'height': 540, 'width': 960, 'x': 29.600000381469727, 'y': 20}"
      ]
     },
     "execution_count": 13,
     "metadata": {},
     "output_type": "execute_result"
    }
   ],
   "source": [
    "iframe.rect"
   ]
  },
  {
   "cell_type": "code",
   "execution_count": 25,
   "metadata": {},
   "outputs": [],
   "source": [
    "driver.quit()"
   ]
  }
 ],
 "metadata": {
  "kernelspec": {
   "display_name": ".venv",
   "language": "python",
   "name": "python3"
  },
  "language_info": {
   "codemirror_mode": {
    "name": "ipython",
    "version": 3
   },
   "file_extension": ".py",
   "mimetype": "text/x-python",
   "name": "python",
   "nbconvert_exporter": "python",
   "pygments_lexer": "ipython3",
   "version": "3.9.13"
  }
 },
 "nbformat": 4,
 "nbformat_minor": 2
}
