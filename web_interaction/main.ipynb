{
 "cells": [
  {
   "cell_type": "code",
   "execution_count": 1,
   "metadata": {},
   "outputs": [],
   "source": [
    "from selenium.webdriver.common.by import By\n",
    "from selenium.webdriver.remote.webelement import WebElement\n",
    "\n",
    "import cv2\n",
    "import time\n",
    "\n",
    "import sys\n",
    "sys.path.insert(0, '..')\n",
    "\n",
    "from web_interaction.main import open_game, start_game, wait_loading\n",
    "from game.game import ProductOwnerGame\n",
    "from environment.backlog_env import BacklogEnv\n",
    "from environment.environment import ProductOwnerEnv\n",
    "from environment.reward_sytem.base_reward_system import BaseRewardSystem\n",
    "from environment.userstory_env import UserstoryEnv\n",
    "\n",
    "from pipeline.study_agent import load_dqn_agent\n",
    "\n",
    "from web_interaction import GameImageParser, GameCoordinator, WebController\n",
    "\n",
    "from pet_logging import get_logger\n",
    "\n",
    "from logging import Logger"
   ]
  },
  {
   "cell_type": "code",
   "execution_count": 2,
   "metadata": {},
   "outputs": [],
   "source": [
    "def log_game_state(game: ProductOwnerGame, logger: Logger):\n",
    "    logger.info(f'Sprint {game.context.current_sprint}')\n",
    "    logger.info(f'Money {game.context.get_money()}')\n",
    "    logger.info(f'Loyalty {game.context.get_loyalty()}')\n",
    "    logger.info(f'Customers {game.context.customers}')\n",
    "    logger.info(f'Credit {game.context.credit}')"
   ]
  },
  {
   "cell_type": "code",
   "execution_count": 3,
   "metadata": {},
   "outputs": [],
   "source": [
    "logger = get_logger('WebInteraction')\n",
    "\n",
    "image_parser = GameImageParser('../web_interaction/templates')\n",
    "game_coordinator = GameCoordinator(image_parser)\n",
    "game = ProductOwnerGame()\n",
    "\n",
    "userstory_env = UserstoryEnv(4, 0, 0)\n",
    "backlog_env = BacklogEnv(12, 0, 0, 0, 0, 0)\n",
    "reward_system = BaseRewardSystem(config={})\n",
    "env = ProductOwnerEnv(userstory_env, backlog_env, with_info=True, reward_system=reward_system)\n",
    "env.game = game\n",
    "\n",
    "web_controller = WebController(game, game_coordinator, logger)"
   ]
  },
  {
   "cell_type": "code",
   "execution_count": 4,
   "metadata": {},
   "outputs": [
    {
     "name": "stderr",
     "output_type": "stream",
     "text": [
      "c:\\Users\\kruto\\OneDrive\\Рабочий стол\\forks\\product_owner_rl\\web_interaction\\..\\pipeline\\study_agent.py:10: FutureWarning: You are using `torch.load` with `weights_only=False` (the current default value), which uses the default pickle module implicitly. It is possible to construct malicious pickle data which will execute arbitrary code during unpickling (See https://github.com/pytorch/pytorch/blob/main/SECURITY.md#untrusted-models for more details). In a future release, the default value for `weights_only` will be flipped to `True`. This limits the functions that could be executed during unpickling. Arbitrary objects will no longer be allowed to be loaded via this mode unless they are explicitly allowlisted by the user via `torch.serialization.add_safe_globals`. We recommend you start setting `weights_only=True` for any use case where you don't have full control of the loaded file. Please open an issue on GitHub for any issues related to this experimental feature.\n",
      "  agent: DQN = torch.load(path)\n"
     ]
    }
   ],
   "source": [
    "agent = load_dqn_agent('../models/credit_start_model.pt')"
   ]
  },
  {
   "cell_type": "code",
   "execution_count": null,
   "metadata": {},
   "outputs": [],
   "source": [
    "driver = web_controller.open_game()\n",
    "iframe = web_controller.find_game(driver)\n",
    "web_controller.open_full_sceen(driver)\n",
    "web_controller.wait_loading(iframe)\n",
    "web_controller.start_game(driver, iframe)\n",
    "image = web_controller.take_screenshot(iframe)"
   ]
  },
  {
   "cell_type": "code",
   "execution_count": 6,
   "metadata": {},
   "outputs": [
    {
     "data": {
      "text/plain": [
       "[UserStoryCard(S, loyalty=0.06, customers=3.0]"
      ]
     },
     "execution_count": 6,
     "metadata": {},
     "output_type": "execute_result"
    }
   ],
   "source": [
    "game_coordinator.skip_tutorial(game)\n",
    "game_coordinator.insert_user_stories_from_image(game, image)\n",
    "\n",
    "game.userstories.stories_list"
   ]
  },
  {
   "cell_type": "code",
   "execution_count": 7,
   "metadata": {},
   "outputs": [
    {
     "name": "stdout",
     "output_type": "stream",
     "text": [
      "2024-11-04 15:53:51,993 Sprint 4\n",
      "2024-11-04 15:53:51,994 Money 33000.0\n",
      "2024-11-04 15:53:51,995 Loyalty 4.0\n",
      "2024-11-04 15:53:51,996 Customers 25.0\n",
      "2024-11-04 15:53:51,996 Credit 300000\n"
     ]
    }
   ],
   "source": [
    "game_coordinator.update_header_info(game, image)\n",
    "\n",
    "log_game_state(game, logger)"
   ]
  },
  {
   "cell_type": "code",
   "execution_count": 8,
   "metadata": {},
   "outputs": [
    {
     "name": "stdout",
     "output_type": "stream",
     "text": [
      "2024-11-04 15:53:52,018 Action id: 7\n",
      "2024-11-04 15:53:53,020 Start user story action: 0\n",
      "2024-11-04 15:53:53,022 User story: UserStoryCard(S, loyalty=0.06, customers=3.0\n",
      "2024-11-04 15:53:53,023 Found at position: (1556, 384)\n",
      "2024-11-04 15:53:55,074 Reward: True\n",
      "2024-11-04 15:53:55,077 Action id: 1\n",
      "2024-11-04 15:53:56,079 Start decomposition\n",
      "2024-11-04 15:53:59,039 Action id: 11\n",
      "2024-11-04 15:54:00,041 Start moving backlog card\n",
      "2024-11-04 15:54:01,523 Selected card Card(CardInfo(6, (243, 132, 168), 2463583764816, S, UserCardType.S))\n",
      "2024-11-04 15:54:01,907 Found at position (1516, 384)\n",
      "2024-11-04 15:54:02,209 Clicked on card\n",
      "2024-11-04 15:54:02,211 Action id: 17\n",
      "2024-11-04 15:54:03,212 Start moving backlog card\n",
      "2024-11-04 15:54:04,549 Selected card Card(CardInfo(9, (243, 132, 168), 2463583764816, S, UserCardType.S))\n",
      "2024-11-04 15:54:04,851 Found at position (1516, 471)\n",
      "2024-11-04 15:54:05,153 Clicked on card\n",
      "2024-11-04 15:54:05,155 Action id: 0\n",
      "2024-11-04 15:54:06,156 Start new sprint\n",
      "2024-11-04 15:54:10,087 Action id: 18\n",
      "2024-11-04 15:54:11,089 Start moving backlog card\n",
      "2024-11-04 15:54:12,457 Selected card Card(CardInfo(6, (243, 132, 168), 2463583764816, S, UserCardType.S))\n",
      "2024-11-04 15:54:12,745 Found at position (1516, 384)\n",
      "2024-11-04 15:54:13,043 Clicked on card\n",
      "2024-11-04 15:54:13,048 Action id: 18\n",
      "2024-11-04 15:54:14,051 Start moving backlog card\n",
      "2024-11-04 15:54:15,378 Selected card Card(CardInfo(7, (243, 132, 168), 2463583764816, S, UserCardType.S))\n",
      "2024-11-04 15:54:15,680 Found at position (1597, 384)\n",
      "2024-11-04 15:54:15,992 Clicked on card\n",
      "2024-11-04 15:54:15,998 Action id: 0\n",
      "2024-11-04 15:54:17,000 Start new sprint\n",
      "2024-11-04 15:54:20,968 Action id: 18\n",
      "2024-11-04 15:54:21,970 Start moving backlog card\n",
      "2024-11-04 15:54:23,305 Selected card Card(CardInfo(10, (243, 132, 168), 2463583764816, S, UserCardType.S))\n"
     ]
    },
    {
     "ename": "IndexError",
     "evalue": "index 0 is out of bounds for axis 1 with size 0",
     "output_type": "error",
     "traceback": [
      "\u001b[1;31m---------------------------------------------------------------------------\u001b[0m",
      "\u001b[1;31mIndexError\u001b[0m                                Traceback (most recent call last)",
      "Cell \u001b[1;32mIn[8], line 12\u001b[0m\n\u001b[0;32m      9\u001b[0m logger\u001b[38;5;241m.\u001b[39minfo(\u001b[38;5;124mf\u001b[39m\u001b[38;5;124m'\u001b[39m\u001b[38;5;124mAction id: \u001b[39m\u001b[38;5;132;01m{\u001b[39;00maction\u001b[38;5;132;01m}\u001b[39;00m\u001b[38;5;124m'\u001b[39m)\n\u001b[0;32m     11\u001b[0m time\u001b[38;5;241m.\u001b[39msleep(\u001b[38;5;241m1\u001b[39m)\n\u001b[1;32m---> 12\u001b[0m \u001b[43mweb_controller\u001b[49m\u001b[38;5;241;43m.\u001b[39;49m\u001b[43mapply_web_action\u001b[49m\u001b[43m(\u001b[49m\u001b[43maction\u001b[49m\u001b[43m,\u001b[49m\u001b[43m \u001b[49m\u001b[43mdriver\u001b[49m\u001b[43m,\u001b[49m\u001b[43m \u001b[49m\u001b[43miframe\u001b[49m\u001b[43m,\u001b[49m\u001b[43m \u001b[49m\u001b[43menv\u001b[49m\u001b[43m)\u001b[49m\n\u001b[0;32m     14\u001b[0m \u001b[38;5;28;01mif\u001b[39;00m env\u001b[38;5;241m.\u001b[39mgame\u001b[38;5;241m.\u001b[39mcontext\u001b[38;5;241m.\u001b[39mcurrent_sprint \u001b[38;5;241m>\u001b[39m\u001b[38;5;241m=\u001b[39m \u001b[38;5;241m35\u001b[39m:\n\u001b[0;32m     15\u001b[0m     logger\u001b[38;5;241m.\u001b[39mwarning(\u001b[38;5;124m\"\u001b[39m\u001b[38;5;124mReached credit end!\u001b[39m\u001b[38;5;124m\"\u001b[39m)\n",
      "File \u001b[1;32mc:\\Users\\kruto\\OneDrive\\Рабочий стол\\forks\\product_owner_rl\\web_interaction\\..\\web_interaction\\web_controller.py:310\u001b[0m, in \u001b[0;36mWebController.apply_web_action\u001b[1;34m(self, action, driver, iframe, env)\u001b[0m\n\u001b[0;32m    307\u001b[0m action \u001b[38;5;241m-\u001b[39m\u001b[38;5;241m=\u001b[39m env\u001b[38;5;241m.\u001b[39muserstory_env\u001b[38;5;241m.\u001b[39mmax_action_num\n\u001b[0;32m    309\u001b[0m \u001b[38;5;28;01mif\u001b[39;00m action \u001b[38;5;241m<\u001b[39m env\u001b[38;5;241m.\u001b[39mbacklog_env\u001b[38;5;241m.\u001b[39mbacklog_max_action_num:\n\u001b[1;32m--> 310\u001b[0m     \u001b[38;5;28;43mself\u001b[39;49m\u001b[38;5;241;43m.\u001b[39;49m\u001b[43mapply_backlog_card_action\u001b[49m\u001b[43m(\u001b[49m\u001b[43maction\u001b[49m\u001b[43m,\u001b[49m\u001b[43m \u001b[49m\u001b[43mdriver\u001b[49m\u001b[43m,\u001b[49m\u001b[43m \u001b[49m\u001b[43miframe\u001b[49m\u001b[43m,\u001b[49m\u001b[43m \u001b[49m\u001b[43menv\u001b[49m\u001b[43m)\u001b[49m\n\u001b[0;32m    311\u001b[0m     \u001b[38;5;28;01mreturn\u001b[39;00m\n\u001b[0;32m    313\u001b[0m \u001b[38;5;28;01mraise\u001b[39;00m \u001b[38;5;167;01mException\u001b[39;00m(\u001b[38;5;124mf\u001b[39m\u001b[38;5;124m\"\u001b[39m\u001b[38;5;124mUnknown action: \u001b[39m\u001b[38;5;132;01m{\u001b[39;00maction\u001b[38;5;132;01m}\u001b[39;00m\u001b[38;5;124m\"\u001b[39m)\n",
      "File \u001b[1;32mc:\\Users\\kruto\\OneDrive\\Рабочий стол\\forks\\product_owner_rl\\web_interaction\\..\\web_interaction\\web_controller.py:147\u001b[0m, in \u001b[0;36mWebController.apply_backlog_card_action\u001b[1;34m(self, action, driver, iframe, env)\u001b[0m\n\u001b[0;32m    143\u001b[0m \u001b[38;5;28mself\u001b[39m\u001b[38;5;241m.\u001b[39mlogger\u001b[38;5;241m.\u001b[39minfo(\u001b[38;5;124mf\u001b[39m\u001b[38;5;124m\"\u001b[39m\u001b[38;5;124mSelected card \u001b[39m\u001b[38;5;132;01m{\u001b[39;00mcard\u001b[38;5;132;01m}\u001b[39;00m\u001b[38;5;124m\"\u001b[39m)\n\u001b[0;32m    145\u001b[0m screenshot \u001b[38;5;241m=\u001b[39m \u001b[38;5;28mself\u001b[39m\u001b[38;5;241m.\u001b[39mtake_screenshot(iframe)\n\u001b[0;32m    146\u001b[0m \u001b[38;5;28mself\u001b[39m\u001b[38;5;241m.\u001b[39mgame_coordinator\u001b[38;5;241m.\u001b[39mbacklog_cards \u001b[38;5;241m=\u001b[39m (\n\u001b[1;32m--> 147\u001b[0m     \u001b[38;5;28;43mself\u001b[39;49m\u001b[38;5;241;43m.\u001b[39;49m\u001b[43mgame_coordinator\u001b[49m\u001b[38;5;241;43m.\u001b[39;49m\u001b[43mimage_parser\u001b[49m\u001b[38;5;241;43m.\u001b[39;49m\u001b[43mread_backlog\u001b[49m\u001b[43m(\u001b[49m\u001b[43mscreenshot\u001b[49m\u001b[43m)\u001b[49m\n\u001b[0;32m    148\u001b[0m )\n\u001b[0;32m    150\u001b[0m position \u001b[38;5;241m=\u001b[39m \u001b[38;5;28mself\u001b[39m\u001b[38;5;241m.\u001b[39mgame_coordinator\u001b[38;5;241m.\u001b[39mfind_backlog_card_position(card\u001b[38;5;241m.\u001b[39minfo)\n\u001b[0;32m    151\u001b[0m \u001b[38;5;28mself\u001b[39m\u001b[38;5;241m.\u001b[39mlogger\u001b[38;5;241m.\u001b[39minfo(\u001b[38;5;124mf\u001b[39m\u001b[38;5;124m\"\u001b[39m\u001b[38;5;124mFound at position \u001b[39m\u001b[38;5;132;01m{\u001b[39;00mposition\u001b[38;5;132;01m}\u001b[39;00m\u001b[38;5;124m\"\u001b[39m)\n",
      "File \u001b[1;32mc:\\Users\\kruto\\OneDrive\\Рабочий стол\\forks\\product_owner_rl\\web_interaction\\..\\web_interaction\\image_parser.py:538\u001b[0m, in \u001b[0;36mGameImageParser.read_backlog\u001b[1;34m(self, image)\u001b[0m\n\u001b[0;32m    536\u001b[0m \u001b[38;5;28;01mdef\u001b[39;00m \u001b[38;5;21mread_backlog\u001b[39m(\u001b[38;5;28mself\u001b[39m, image: cv2\u001b[38;5;241m.\u001b[39mtyping\u001b[38;5;241m.\u001b[39mMatLike):\n\u001b[0;32m    537\u001b[0m     backlog_cards: List[BacklogCardImageInfo] \u001b[38;5;241m=\u001b[39m []\n\u001b[1;32m--> 538\u001b[0m     cards \u001b[38;5;241m=\u001b[39m \u001b[38;5;28;43mself\u001b[39;49m\u001b[38;5;241;43m.\u001b[39;49m\u001b[43mget_backlog_card_images\u001b[49m\u001b[43m(\u001b[49m\u001b[43mimage\u001b[49m\u001b[43m)\u001b[49m\n\u001b[0;32m    540\u001b[0m     \u001b[38;5;28;01mfor\u001b[39;00m card, position \u001b[38;5;129;01min\u001b[39;00m cards:\n\u001b[0;32m    541\u001b[0m         card_descripton \u001b[38;5;241m=\u001b[39m \u001b[38;5;28mself\u001b[39m\u001b[38;5;241m.\u001b[39mread_backlog_card_descripton(\n\u001b[0;32m    542\u001b[0m             card, position, image\u001b[38;5;241m.\u001b[39mshape\n\u001b[0;32m    543\u001b[0m         )\n",
      "File \u001b[1;32mc:\\Users\\kruto\\OneDrive\\Рабочий стол\\forks\\product_owner_rl\\web_interaction\\..\\web_interaction\\image_parser.py:509\u001b[0m, in \u001b[0;36mGameImageParser.get_backlog_card_images\u001b[1;34m(self, image)\u001b[0m\n\u001b[0;32m    507\u001b[0m cards \u001b[38;5;241m=\u001b[39m []\n\u001b[0;32m    508\u001b[0m \u001b[38;5;28;01mfor\u001b[39;00m row, position \u001b[38;5;129;01min\u001b[39;00m backlog_rows:\n\u001b[1;32m--> 509\u001b[0m     row_cards \u001b[38;5;241m=\u001b[39m \u001b[38;5;28;43mself\u001b[39;49m\u001b[38;5;241;43m.\u001b[39;49m\u001b[43msplit_row\u001b[49m\u001b[43m(\u001b[49m\u001b[43mrow\u001b[49m\u001b[43m,\u001b[49m\u001b[43m \u001b[49m\u001b[43mposition\u001b[49m\u001b[43m,\u001b[49m\u001b[43m \u001b[49m\u001b[43mimage\u001b[49m\u001b[38;5;241;43m.\u001b[39;49m\u001b[43mshape\u001b[49m\u001b[43m)\u001b[49m\n\u001b[0;32m    510\u001b[0m     cards\u001b[38;5;241m.\u001b[39mextend(row_cards)\n\u001b[0;32m    512\u001b[0m \u001b[38;5;28;01mreturn\u001b[39;00m cards\n",
      "File \u001b[1;32mc:\\Users\\kruto\\OneDrive\\Рабочий стол\\forks\\product_owner_rl\\web_interaction\\..\\web_interaction\\image_parser.py:498\u001b[0m, in \u001b[0;36mGameImageParser.split_row\u001b[1;34m(self, row, row_center, original_shape)\u001b[0m\n\u001b[0;32m    496\u001b[0m x, y \u001b[38;5;241m=\u001b[39m row_center\n\u001b[0;32m    497\u001b[0m left_center \u001b[38;5;241m=\u001b[39m (x \u001b[38;5;241m-\u001b[39m left\u001b[38;5;241m.\u001b[39mshape[\u001b[38;5;241m1\u001b[39m] \u001b[38;5;241m/\u001b[39m\u001b[38;5;241m/\u001b[39m \u001b[38;5;241m2\u001b[39m, y)\n\u001b[1;32m--> 498\u001b[0m \u001b[38;5;28;01mif\u001b[39;00m (\u001b[43mright\u001b[49m\u001b[43m[\u001b[49m\u001b[38;5;241;43m0\u001b[39;49m\u001b[43m,\u001b[49m\u001b[43m \u001b[49m\u001b[38;5;241;43m0\u001b[39;49m\u001b[43m]\u001b[49m \u001b[38;5;241m==\u001b[39m [\u001b[38;5;241m255\u001b[39m, \u001b[38;5;241m255\u001b[39m, \u001b[38;5;241m255\u001b[39m])\u001b[38;5;241m.\u001b[39mall():\n\u001b[0;32m    499\u001b[0m     \u001b[38;5;28;01mreturn\u001b[39;00m ([left, left_center],)\n\u001b[0;32m    500\u001b[0m right_center \u001b[38;5;241m=\u001b[39m (x \u001b[38;5;241m+\u001b[39m right\u001b[38;5;241m.\u001b[39mshape[\u001b[38;5;241m1\u001b[39m] \u001b[38;5;241m/\u001b[39m\u001b[38;5;241m/\u001b[39m \u001b[38;5;241m2\u001b[39m, y)\n",
      "\u001b[1;31mIndexError\u001b[0m: index 0 is out of bounds for axis 1 with size 0"
     ]
    }
   ],
   "source": [
    "while not game.context.done:\n",
    "    state = env.recalculate_state()\n",
    "    # print(state)\n",
    "\n",
    "    info = env.get_info()\n",
    "    # print(info)\n",
    "\n",
    "    action = agent.get_action(state, info)\n",
    "    logger.info(f'Action id: {action}')\n",
    "\n",
    "    time.sleep(1)\n",
    "    web_controller.apply_web_action(action, driver, iframe, env)\n",
    "\n",
    "    if env.game.context.current_sprint >= 35:\n",
    "        logger.warning(\"Reached credit end!\")\n",
    "        break"
   ]
  },
  {
   "cell_type": "code",
   "execution_count": null,
   "metadata": {},
   "outputs": [
    {
     "ename": "Exception",
     "evalue": "Break before empty sprinst",
     "output_type": "error",
     "traceback": [
      "\u001b[1;31m---------------------------------------------------------------------------\u001b[0m",
      "\u001b[1;31mException\u001b[0m                                 Traceback (most recent call last)",
      "Cell \u001b[1;32mIn[10], line 1\u001b[0m\n\u001b[1;32m----> 1\u001b[0m \u001b[38;5;28;01mraise\u001b[39;00m \u001b[38;5;167;01mException\u001b[39;00m(\u001b[38;5;124m'\u001b[39m\u001b[38;5;124mBreak before empty sprinst\u001b[39m\u001b[38;5;124m'\u001b[39m)\n",
      "\u001b[1;31mException\u001b[0m: Break before empty sprinst"
     ]
    }
   ],
   "source": [
    "raise Exception('Break before empty sprinst')"
   ]
  },
  {
   "cell_type": "code",
   "execution_count": null,
   "metadata": {},
   "outputs": [
    {
     "name": "stdout",
     "output_type": "stream",
     "text": [
      "2024-11-04 14:46:56,861 Sprint 11\n",
      "2024-11-04 14:46:56,861 Money 26000.0\n",
      "2024-11-04 14:46:56,862 Loyalty 4.02\n",
      "2024-11-04 14:46:56,862 Customers 0.02582\n",
      "2024-11-04 14:46:56,863 Credit 237000\n"
     ]
    }
   ],
   "source": [
    "log_game_state(game, logger)"
   ]
  },
  {
   "cell_type": "code",
   "execution_count": null,
   "metadata": {},
   "outputs": [],
   "source": [
    "while not game.context.done:\n",
    "    time.sleep(1)\n",
    "    apply_web_action(0, driver, iframe, env)"
   ]
  },
  {
   "cell_type": "code",
   "execution_count": null,
   "metadata": {},
   "outputs": [
    {
     "data": {
      "text/plain": [
       "{'height': 1028, 'width': 1920, 'x': 0, 'y': 0}"
      ]
     },
     "execution_count": 10,
     "metadata": {},
     "output_type": "execute_result"
    }
   ],
   "source": [
    "iframe.rect"
   ]
  },
  {
   "cell_type": "code",
   "execution_count": null,
   "metadata": {},
   "outputs": [
    {
     "ename": "Exception",
     "evalue": "Break before web driver exit",
     "output_type": "error",
     "traceback": [
      "\u001b[1;31m---------------------------------------------------------------------------\u001b[0m",
      "\u001b[1;31mException\u001b[0m                                 Traceback (most recent call last)",
      "Cell \u001b[1;32mIn[11], line 1\u001b[0m\n\u001b[1;32m----> 1\u001b[0m \u001b[38;5;28;01mraise\u001b[39;00m \u001b[38;5;167;01mException\u001b[39;00m(\u001b[38;5;124m'\u001b[39m\u001b[38;5;124mBreak before web driver exit\u001b[39m\u001b[38;5;124m'\u001b[39m)\n",
      "\u001b[1;31mException\u001b[0m: Break before web driver exit"
     ]
    }
   ],
   "source": [
    "raise Exception('Break before web driver exit')"
   ]
  },
  {
   "cell_type": "code",
   "execution_count": null,
   "metadata": {},
   "outputs": [
    {
     "data": {
      "text/plain": [
       "[BacklogCardImageInfo((54, 79, 234), 17, (1517, 384)),\n",
       " BacklogCardImageInfo((54, 79, 234), 9, (1598, 384)),\n",
       " BacklogCardImageInfo((54, 79, 234), 7, (1517, 471)),\n",
       " BacklogCardImageInfo((54, 79, 234), 5, (1598, 471)),\n",
       " BacklogCardImageInfo((84, 36, 195), 15, (1517, 558)),\n",
       " BacklogCardImageInfo((84, 36, 195), 11, (1598, 558)),\n",
       " BacklogCardImageInfo((84, 36, 195), 8, (1517, 645)),\n",
       " BacklogCardImageInfo((84, 36, 195), 4, (1598, 645))]"
      ]
     },
     "execution_count": 13,
     "metadata": {},
     "output_type": "execute_result"
    }
   ],
   "source": [
    "game_coordinator.backlog_cards"
   ]
  },
  {
   "cell_type": "code",
   "execution_count": null,
   "metadata": {},
   "outputs": [
    {
     "data": {
      "text/plain": [
       "[UserStoryCard(S, loyalty=0.065, customers=1.0,\n",
       " UserStoryCard(S, loyalty=0.06, customers=1.0]"
      ]
     },
     "execution_count": 14,
     "metadata": {},
     "output_type": "execute_result"
    }
   ],
   "source": [
    "game.userstories.release"
   ]
  },
  {
   "cell_type": "code",
   "execution_count": null,
   "metadata": {},
   "outputs": [
    {
     "name": "stdout",
     "output_type": "stream",
     "text": [
      "(54, 79, 234)\n",
      "(120, 79, 240)\n"
     ]
    }
   ],
   "source": [
    "for us in game.userstories.release:\n",
    "    print(us.info.color)"
   ]
  },
  {
   "cell_type": "code",
   "execution_count": null,
   "metadata": {},
   "outputs": [
    {
     "data": {
      "text/plain": [
       "[UserStoryImageInfo((120, 79, 240), 0.05, 2.0, (1556, 384)),\n",
       " UserStoryImageInfo((255, 211, 143), 0.06, 2.0, (1556, 471))]"
      ]
     },
     "execution_count": 9,
     "metadata": {},
     "output_type": "execute_result"
    }
   ],
   "source": [
    "game_coordinator.user_stories"
   ]
  },
  {
   "cell_type": "code",
   "execution_count": null,
   "metadata": {},
   "outputs": [],
   "source": [
    "image_parser.templates = image_parser._load_templates()"
   ]
  },
  {
   "cell_type": "code",
   "execution_count": null,
   "metadata": {},
   "outputs": [],
   "source": [
    "image = cv2.imread('game_state.png')\n",
    "\n",
    "game_coordinator.update_header_info(game, image)"
   ]
  },
  {
   "cell_type": "code",
   "execution_count": null,
   "metadata": {},
   "outputs": [
    {
     "data": {
      "text/plain": [
       "{'actions': [0, 3, 4, 5, 6, 7, 8, 9, 10]}"
      ]
     },
     "execution_count": 11,
     "metadata": {},
     "output_type": "execute_result"
    }
   ],
   "source": [
    "info"
   ]
  },
  {
   "cell_type": "code",
   "execution_count": null,
   "metadata": {},
   "outputs": [
    {
     "data": {
      "text/plain": [
       "array([3.40e+01, 3.79e+00, 1.54e-02, 2.82e+00, 3.00e-01, 2.00e+00,\n",
       "       1.00e+00, 0.00e+00, 0.00e+00, 1.30e+01, 1.00e+00, 0.00e+00,\n",
       "       0.00e+00, 1.00e+00, 1.00e+00, 0.00e+00, 0.00e+00, 0.00e+00,\n",
       "       0.00e+00, 0.00e+00, 0.00e+00, 0.00e+00, 0.00e+00, 0.00e+00,\n",
       "       0.00e+00, 0.00e+00, 0.00e+00, 0.00e+00, 0.00e+00, 0.00e+00,\n",
       "       0.00e+00, 0.00e+00, 0.00e+00, 0.00e+00, 0.00e+00, 0.00e+00,\n",
       "       0.00e+00, 0.00e+00, 0.00e+00, 0.00e+00, 0.00e+00, 0.00e+00,\n",
       "       0.00e+00, 0.00e+00, 0.00e+00, 0.00e+00, 0.00e+00, 0.00e+00,\n",
       "       0.00e+00, 0.00e+00, 0.00e+00, 0.00e+00, 0.00e+00, 0.00e+00,\n",
       "       0.00e+00, 0.00e+00, 0.00e+00, 0.00e+00, 0.00e+00, 0.00e+00,\n",
       "       0.00e+00, 0.00e+00, 0.00e+00, 0.00e+00, 0.00e+00, 0.00e+00,\n",
       "       0.00e+00, 0.00e+00, 0.00e+00, 0.00e+00, 0.00e+00, 0.00e+00,\n",
       "       0.00e+00, 0.00e+00, 0.00e+00, 0.00e+00, 0.00e+00, 0.00e+00,\n",
       "       0.00e+00, 0.00e+00, 0.00e+00, 0.00e+00, 0.00e+00, 0.00e+00,\n",
       "       0.00e+00, 0.00e+00, 0.00e+00, 0.00e+00, 0.00e+00, 0.00e+00,\n",
       "       0.00e+00, 0.00e+00, 0.00e+00, 0.00e+00, 0.00e+00, 0.00e+00,\n",
       "       0.00e+00, 0.00e+00, 0.00e+00, 0.00e+00, 0.00e+00, 0.00e+00,\n",
       "       0.00e+00, 0.00e+00, 0.00e+00, 0.00e+00, 0.00e+00, 0.00e+00,\n",
       "       0.00e+00, 0.00e+00, 0.00e+00, 0.00e+00, 0.00e+00, 0.00e+00,\n",
       "       0.00e+00, 0.00e+00, 0.00e+00, 0.00e+00, 0.00e+00], dtype=float32)"
      ]
     },
     "execution_count": 33,
     "metadata": {},
     "output_type": "execute_result"
    }
   ],
   "source": [
    "state"
   ]
  },
  {
   "cell_type": "code",
   "execution_count": null,
   "metadata": {},
   "outputs": [
    {
     "data": {
      "text/plain": [
       "11"
      ]
     },
     "execution_count": 25,
     "metadata": {},
     "output_type": "execute_result"
    }
   ],
   "source": [
    "env.game.context.current_sprint"
   ]
  },
  {
   "cell_type": "code",
   "execution_count": null,
   "metadata": {},
   "outputs": [],
   "source": [
    "driver.quit()"
   ]
  }
 ],
 "metadata": {
  "kernelspec": {
   "display_name": "Python 3",
   "language": "python",
   "name": "python3"
  },
  "language_info": {
   "codemirror_mode": {
    "name": "ipython",
    "version": 3
   },
   "file_extension": ".py",
   "mimetype": "text/x-python",
   "name": "python",
   "nbconvert_exporter": "python",
   "pygments_lexer": "ipython3",
   "version": "3.11.9"
  }
 },
 "nbformat": 4,
 "nbformat_minor": 2
}
