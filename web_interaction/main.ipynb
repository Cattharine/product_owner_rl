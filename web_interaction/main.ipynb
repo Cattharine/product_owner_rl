{
 "cells": [
  {
   "cell_type": "code",
   "execution_count": 1,
   "metadata": {},
   "outputs": [],
   "source": [
    "from selenium import webdriver\n",
    "from selenium.webdriver import ActionChains\n",
    "from selenium.webdriver.common.by import By\n",
    "from selenium.webdriver.remote.webelement import WebElement\n",
    "\n",
    "import cv2\n",
    "import os\n",
    "import time\n",
    "\n",
    "import numpy as np\n",
    "import matplotlib.pyplot as plt"
   ]
  },
  {
   "cell_type": "code",
   "execution_count": 2,
   "metadata": {},
   "outputs": [],
   "source": [
    "import sys\n",
    "sys.path.insert(0, '..')\n",
    "\n",
    "from web_interaction.main import open_game, start_game, wait_loading, insert_user_stories_from_image\n",
    "from web_interaction.main import fill_game_main_info_from_image\n",
    "from web_interaction.main import apply_decompose_action, apply_user_story_action\n",
    "from game.game import ProductOwnerGame\n",
    "from game.userstory_card.userstory_card_info import UserStoryCardInfo\n",
    "from environment.backlog_env import BacklogEnv\n",
    "from environment.environment import ProductOwnerEnv\n",
    "from environment.reward_sytem.base_reward_system import BaseRewardSystem\n",
    "from environment.userstory_env import UserstoryEnv\n",
    "import image_parser\n",
    "\n",
    "from pipeline.study_agent import load_dqn_agent\n",
    "from single_color_storage import SingleColorStorage"
   ]
  },
  {
   "cell_type": "code",
   "execution_count": 3,
   "metadata": {},
   "outputs": [],
   "source": [
    "driver = open_game()\n",
    "\n",
    "iframe = driver.find_element(by=By.ID, value='game_drop')\n",
    "height = iframe.rect[\"height\"]  # 540\n",
    "width = iframe.rect[\"width\"]  # 960\n",
    "\n",
    "wait_loading(iframe)\n",
    "\n",
    "start_game(driver, iframe)"
   ]
  },
  {
   "cell_type": "code",
   "execution_count": 4,
   "metadata": {},
   "outputs": [],
   "source": [
    "iframe.screenshot('iframe.png')\n",
    "\n",
    "image = cv2.imread('iframe.png')"
   ]
  },
  {
   "cell_type": "code",
   "execution_count": 5,
   "metadata": {},
   "outputs": [],
   "source": [
    "game = ProductOwnerGame()\n",
    "context = game.context\n",
    "\n",
    "context.is_new_game = False\n",
    "\n",
    "available_developers_count = 2\n",
    "current_rooms_counter = 1\n",
    "blank_sprint_counter = 0"
   ]
  },
  {
   "cell_type": "code",
   "execution_count": 6,
   "metadata": {},
   "outputs": [
    {
     "data": {
      "text/plain": [
       "[S l:0.045 c:2.0]"
      ]
     },
     "execution_count": 6,
     "metadata": {},
     "output_type": "execute_result"
    }
   ],
   "source": [
    "insert_user_stories_from_image(game, image)\n",
    "\n",
    "game.userstories.stories_list"
   ]
  },
  {
   "cell_type": "code",
   "execution_count": 7,
   "metadata": {},
   "outputs": [
    {
     "name": "stdout",
     "output_type": "stream",
     "text": [
      "Sprint 4.0\n",
      "Sprint hours 0.0\n",
      "Money 33000.0\n",
      "Loyalty 4.0\n",
      "Customers 25.0\n",
      "Credit 273000.0\n"
     ]
    }
   ],
   "source": [
    "fill_game_main_info_from_image(game, image)\n",
    "\n",
    "print('Sprint', game.context.current_sprint)\n",
    "print('Sprint hours', game.context.current_sprint_hours)\n",
    "print('Money', game.context.get_money())\n",
    "print('Loyalty', game.context.get_loyalty())\n",
    "print('Customers', game.context.customers)\n",
    "print('Credit', game.context.credit)"
   ]
  },
  {
   "cell_type": "code",
   "execution_count": 8,
   "metadata": {},
   "outputs": [],
   "source": [
    "userstory_env = UserstoryEnv(2, 0, 0)\n",
    "backlog_env = BacklogEnv(6, 0, 0, 0, 0, 0)\n",
    "reward_system = BaseRewardSystem(config={})\n",
    "env = ProductOwnerEnv(userstory_env, backlog_env, with_info=True, reward_system=reward_system)\n",
    "env.game = game"
   ]
  },
  {
   "cell_type": "code",
   "execution_count": 9,
   "metadata": {},
   "outputs": [],
   "source": [
    "agent = load_dqn_agent('../models/credit_start_model.pt')"
   ]
  },
  {
   "cell_type": "code",
   "execution_count": 17,
   "metadata": {},
   "outputs": [],
   "source": [
    "from game.backlog_card.backlog_card import Card\n",
    "from game.backlog_card.card_info import CardInfo\n",
    "from web_interaction.main import click_on_card, select_backlog_board, click_board_button\n",
    "\n",
    "\n",
    "def find_backlog_card_position(card: Card, image: cv2.typing.MatLike):\n",
    "    card: CardInfo = card.info\n",
    "    backlog_cards = image_parser.get_backlog(image)\n",
    "    for color, hours, position in backlog_cards:\n",
    "        if color != card.color:\n",
    "            continue\n",
    "        if hours != card.hours:\n",
    "            continue\n",
    "        return position\n",
    "\n",
    "\n",
    "def apply_backlog_card_action(\n",
    "    action: int, driver, iframe: WebElement, env: ProductOwnerEnv\n",
    "):\n",
    "    print(\"Start moving backlog card\")\n",
    "    select_backlog_board(driver, iframe, width, height)\n",
    "\n",
    "    filename = \"backlog_board.png\"\n",
    "    iframe.screenshot(filename)\n",
    "    backlog_board_image = cv2.imread(filename)\n",
    "    # os.remove(filename)\n",
    "\n",
    "    card = env.backlog_env.get_card(action)\n",
    "    print('Selected card', card)\n",
    "    position = find_backlog_card_position(card, backlog_board_image)\n",
    "    print('Found at position', position)\n",
    "\n",
    "    click_on_card(driver, iframe, *position)\n",
    "\n",
    "    print('Clicked on card')\n",
    "\n",
    "    env._perform_action_backlog_card(action)\n",
    "\n",
    "\n",
    "def apply_start_sprint_action(driver, iframe: WebElement, width: int, height: int, env: ProductOwnerEnv):\n",
    "    print('Start new sprint')\n",
    "\n",
    "    select_backlog_board(driver, iframe, width, height)\n",
    "\n",
    "    time.sleep(5)\n",
    "    \n",
    "    click_board_button(driver, iframe, width, height)\n",
    "\n",
    "    env._perform_start_sprint_action()\n",
    "\n",
    "    time.sleep(2)\n",
    "\n",
    "    filename = 'game_state.png'\n",
    "    iframe.screenshot(filename)\n",
    "    game_image = cv2.imread(filename)\n",
    "    # os.remove(filename)\n",
    "\n",
    "    fill_game_main_info_from_image(env.game, game_image)\n",
    "\n",
    "\n",
    "def apply_web_action(action: int, driver, iframe: WebElement, env: ProductOwnerEnv):\n",
    "    if action == 0:  # start sprint\n",
    "\n",
    "        apply_start_sprint_action(driver, iframe, width, height, env)\n",
    "\n",
    "        return\n",
    "\n",
    "    if action == 1:  # decompose\n",
    "\n",
    "        apply_decompose_action(driver, iframe, width, height, env)\n",
    "\n",
    "        return\n",
    "\n",
    "\n",
    "    if action >= env.meta_action_dim:\n",
    "\n",
    "        action -= env.meta_action_dim\n",
    "\n",
    "\n",
    "    if action < env.userstory_env.max_action_num:\n",
    "\n",
    "        apply_user_story_action(action, driver, iframe, env)\n",
    "\n",
    "        return\n",
    "\n",
    "\n",
    "    action -= env.userstory_env.max_action_num\n",
    "\n",
    "    if action < env.backlog_env.backlog_max_action_num:\n",
    "\n",
    "        apply_backlog_card_action(action, driver, iframe, env)\n",
    "\n",
    "\n",
    "    raise Exception(f\"Unknown action: {action}\")"
   ]
  },
  {
   "cell_type": "code",
   "execution_count": 15,
   "metadata": {},
   "outputs": [
    {
     "name": "stdout",
     "output_type": "stream",
     "text": [
      "[ 4.     0.33  25.     4.     2.73   2.     1.     2.     2.     0.\n",
      "  1.     0.     0.     1.     0.     0.     0.     0.     0.     0.\n",
      "  0.     0.     0.     0.     0.     0.     0.     8.     8.     1.\n",
      "  0.     0.045  2.     3.     8.     8.     1.     0.     0.045  2.\n",
      "  3.     8.     8.     1.     0.     0.045  2.     3.     9.     9.\n",
      "  1.     0.     0.045  2.     3.     8.     8.     1.     0.     0.045\n",
      "  2.     3.     7.     7.     1.     0.     0.045  2.     3.   ]\n",
      "{'actions': [0, 9, 10, 11, 12, 13, 14]}\n",
      "12\n"
     ]
    }
   ],
   "source": [
    "state = env._get_state()\n",
    "print(state)\n",
    "\n",
    "info = env.get_info()\n",
    "print(info)\n",
    "\n",
    "action = agent.get_action(state, info)\n",
    "print(action)"
   ]
  },
  {
   "cell_type": "code",
   "execution_count": 18,
   "metadata": {},
   "outputs": [
    {
     "name": "stdout",
     "output_type": "stream",
     "text": [
      "Start moving backlog card\n",
      "Selected card <game.backlog_card.backlog_card.Card object at 0x000002249CDC3FD0>\n"
     ]
    },
    {
     "data": {
      "image/png": "[encoded data removed]",
      "text/plain": [
       "<Figure size 640x480 with 1 Axes>"
      ]
     },
     "metadata": {},
     "output_type": "display_data"
    },
    {
     "name": "stdout",
     "output_type": "stream",
     "text": [
      "Found at position (725, 183)\n",
      "Clicked on card\n"
     ]
    },
    {
     "ename": "Exception",
     "evalue": "Unknown action: 3",
     "output_type": "error",
     "traceback": [
      "\u001b[1;31m---------------------------------------------------------------------------\u001b[0m",
      "\u001b[1;31mException\u001b[0m                                 Traceback (most recent call last)",
      "Cell \u001b[1;32mIn[18], line 2\u001b[0m\n\u001b[0;32m      1\u001b[0m time\u001b[38;5;241m.\u001b[39msleep(\u001b[38;5;241m2\u001b[39m)\n\u001b[1;32m----> 2\u001b[0m \u001b[43mapply_web_action\u001b[49m\u001b[43m(\u001b[49m\u001b[43maction\u001b[49m\u001b[43m,\u001b[49m\u001b[43m \u001b[49m\u001b[43mdriver\u001b[49m\u001b[43m,\u001b[49m\u001b[43m \u001b[49m\u001b[43miframe\u001b[49m\u001b[43m,\u001b[49m\u001b[43m \u001b[49m\u001b[43menv\u001b[49m\u001b[43m)\u001b[49m\n",
      "Cell \u001b[1;32mIn[17], line 94\u001b[0m, in \u001b[0;36mapply_web_action\u001b[1;34m(action, driver, iframe, env)\u001b[0m\n\u001b[0;32m     89\u001b[0m \u001b[38;5;28;01mif\u001b[39;00m action \u001b[38;5;241m<\u001b[39m env\u001b[38;5;241m.\u001b[39mbacklog_env\u001b[38;5;241m.\u001b[39mbacklog_max_action_num:\n\u001b[0;32m     91\u001b[0m     apply_backlog_card_action(action, driver, iframe, env)\n\u001b[1;32m---> 94\u001b[0m \u001b[38;5;28;01mraise\u001b[39;00m \u001b[38;5;167;01mException\u001b[39;00m(\u001b[38;5;124mf\u001b[39m\u001b[38;5;124m\"\u001b[39m\u001b[38;5;124mUnknown action: \u001b[39m\u001b[38;5;132;01m{\u001b[39;00maction\u001b[38;5;132;01m}\u001b[39;00m\u001b[38;5;124m\"\u001b[39m)\n",
      "\u001b[1;31mException\u001b[0m: Unknown action: 3"
     ]
    }
   ],
   "source": [
    "time.sleep(2)\n",
    "apply_web_action(action, driver, iframe, env)"
   ]
  },
  {
   "cell_type": "code",
   "execution_count": 13,
   "metadata": {},
   "outputs": [
    {
     "data": {
      "text/plain": [
       "{'height': 540, 'width': 960, 'x': 29.600000381469727, 'y': 20}"
      ]
     },
     "execution_count": 13,
     "metadata": {},
     "output_type": "execute_result"
    }
   ],
   "source": [
    "iframe.rect"
   ]
  },
  {
   "cell_type": "code",
   "execution_count": 33,
   "metadata": {},
   "outputs": [],
   "source": [
    "driver.quit()"
   ]
  }
 ],
 "metadata": {
  "kernelspec": {
   "display_name": ".venv",
   "language": "python",
   "name": "python3"
  },
  "language_info": {
   "codemirror_mode": {
    "name": "ipython",
    "version": 3
   },
   "file_extension": ".py",
   "mimetype": "text/x-python",
   "name": "python",
   "nbconvert_exporter": "python",
   "pygments_lexer": "ipython3",
   "version": "3.9.13"
  }
 },
 "nbformat": 4,
 "nbformat_minor": 2
}
