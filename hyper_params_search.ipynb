{
 "cells": [
  {
   "cell_type": "code",
   "execution_count": 1,
   "metadata": {},
   "outputs": [
    {
     "name": "stderr",
     "output_type": "stream",
     "text": [
      "c:\\Users\\kruto\\Desktop\\RL_Product\\product_owner_rl\\.venv\\lib\\site-packages\\tqdm\\auto.py:21: TqdmWarning: IProgress not found. Please update jupyter and ipywidgets. See https://ipywidgets.readthedocs.io/en/stable/user_install.html\n",
      "  from .autonotebook import tqdm as notebook_tqdm\n"
     ]
    }
   ],
   "source": [
    "import os\n",
    "import optuna\n",
    "\n",
    "import numpy as np\n",
    "\n",
    "from algorithms import DoubleDQN\n",
    "from environment import CreditPayerEnv\n",
    "from pipeline import MetricsStudy\n",
    "\n",
    "os.makedirs(\"figures\", exist_ok=True)"
   ]
  },
  {
   "cell_type": "code",
   "execution_count": 2,
   "metadata": {},
   "outputs": [],
   "source": [
    "def eval_trajectory(env: CreditPayerEnv, agent: DoubleDQN, trajectory_max_len: int):\n",
    "    total_reward = 0\n",
    "    state = env.reset()\n",
    "    for i in range(trajectory_max_len):\n",
    "        action = agent.get_action(state)\n",
    "\n",
    "        state, reward, done, _ = env.step(action)\n",
    "\n",
    "        total_reward += reward\n",
    "\n",
    "        if done:\n",
    "            break\n",
    "\n",
    "    return total_reward"
   ]
  },
  {
   "cell_type": "code",
   "execution_count": 3,
   "metadata": {},
   "outputs": [],
   "source": [
    "def eval_model(\n",
    "    env: CreditPayerEnv, agent: DoubleDQN, trajectory_max_len: int, repeat_count: int\n",
    "):\n",
    "    rewards = []\n",
    "    for i in range(repeat_count):\n",
    "        reward = eval_trajectory(env, agent, trajectory_max_len)\n",
    "        rewards.append(reward)\n",
    "\n",
    "    return np.mean(rewards)"
   ]
  },
  {
   "cell_type": "code",
   "execution_count": 4,
   "metadata": {},
   "outputs": [],
   "source": [
    "def double_objective(trial: optuna.Trial):\n",
    "    env = CreditPayerEnv()\n",
    "    state_dim = env.state_dim\n",
    "    action_n = env.action_n\n",
    "\n",
    "    episode_n = 50\n",
    "    trajectory_max_len = 100\n",
    "\n",
    "    epsilon_decrease = 1 / episode_n / trajectory_max_len\n",
    "\n",
    "    gamma = trial.suggest_float(\"gamma\", 0.95, 1)\n",
    "    tau = trial.suggest_float(\"tau\", 0.001, 0.05)\n",
    "\n",
    "    batch_size = trial.suggest_int('batch_size', 64, 128)\n",
    "\n",
    "    agent = DoubleDQN(\n",
    "        state_dim,\n",
    "        action_n,\n",
    "        gamma=gamma,\n",
    "        lr=0.001,\n",
    "        tau=tau,\n",
    "        batch_size=batch_size,\n",
    "        epsilon_decrease=epsilon_decrease,\n",
    "        epsilon_min=0,\n",
    "    )\n",
    "    study = MetricsStudy(env, agent, trajectory_max_len)\n",
    "\n",
    "    study.study_agent(episode_n=50)\n",
    "\n",
    "    agent.epsilon_min = 0\n",
    "    agent.epsilon = 0\n",
    "\n",
    "    return eval_model(env, agent, trajectory_max_len, repeat_count=10)"
   ]
  },
  {
   "cell_type": "code",
   "execution_count": 5,
   "metadata": {},
   "outputs": [
    {
     "name": "stderr",
     "output_type": "stream",
     "text": [
      "[I 2024-01-03 10:39:28,610] A new study created in memory with name: no-name-d916820f-3b14-42f1-9f1d-8ccb7de2dd51\n",
      "[I 2024-01-03 10:39:50,043] Trial 0 finished with value: -96.9 and parameters: {'gamma': 0.930864622296778, 'tau': 0.03242799563442478, 'batch_size': 65}. Best is trial 0 with value: -96.9.\n",
      "[I 2024-01-03 10:40:11,715] Trial 1 finished with value: -439.7 and parameters: {'gamma': 0.9147129969432642, 'tau': 0.02051491453381674, 'batch_size': 64}. Best is trial 0 with value: -96.9.\n",
      "[I 2024-01-03 10:40:33,529] Trial 2 finished with value: -22.6 and parameters: {'gamma': 0.917928679913425, 'tau': 0.027950888740676333, 'batch_size': 68}. Best is trial 2 with value: -22.6.\n",
      "[I 2024-01-03 10:40:57,942] Trial 3 finished with value: -60.5 and parameters: {'gamma': 0.9906986834242006, 'tau': 0.08425960082978606, 'batch_size': 66}. Best is trial 2 with value: -22.6.\n",
      "[I 2024-01-03 10:41:20,792] Trial 4 finished with value: -8.4 and parameters: {'gamma': 0.9025759187773467, 'tau': 0.028672731514765848, 'batch_size': 62}. Best is trial 4 with value: -8.4.\n",
      "[I 2024-01-03 10:41:44,841] Trial 5 finished with value: -1000.0 and parameters: {'gamma': 0.9976686445748134, 'tau': 0.0852327994512308, 'batch_size': 67}. Best is trial 4 with value: -8.4.\n",
      "[I 2024-01-03 10:42:08,698] Trial 6 finished with value: -56.3 and parameters: {'gamma': 0.9289709657583808, 'tau': 0.05874555156737387, 'batch_size': 61}. Best is trial 4 with value: -8.4.\n",
      "[I 2024-01-03 10:42:29,857] Trial 7 finished with value: -22.1 and parameters: {'gamma': 0.9181769175701622, 'tau': 0.011536632673865482, 'batch_size': 70}. Best is trial 4 with value: -8.4.\n",
      "[I 2024-01-03 10:42:53,136] Trial 8 finished with value: -668.4 and parameters: {'gamma': 0.9681631527021042, 'tau': 0.03698821061821376, 'batch_size': 68}. Best is trial 4 with value: -8.4.\n",
      "[I 2024-01-03 10:43:13,702] Trial 9 finished with value: -49.3 and parameters: {'gamma': 0.9771820811746319, 'tau': 0.03325976768916703, 'batch_size': 60}. Best is trial 4 with value: -8.4.\n",
      "[I 2024-01-03 10:43:34,548] Trial 10 finished with value: -32.4 and parameters: {'gamma': 0.9012703662716811, 'tau': 0.0034972651520453688, 'batch_size': 63}. Best is trial 4 with value: -8.4.\n",
      "[I 2024-01-03 10:43:57,102] Trial 11 finished with value: -54.1 and parameters: {'gamma': 0.9495422400718605, 'tau': 0.005549714771591063, 'batch_size': 70}. Best is trial 4 with value: -8.4.\n",
      "[I 2024-01-03 10:44:21,945] Trial 12 finished with value: -124.7 and parameters: {'gamma': 0.9011382983626322, 'tau': 0.05708404212585193, 'batch_size': 62}. Best is trial 4 with value: -8.4.\n",
      "[I 2024-01-03 10:44:49,042] Trial 13 finished with value: -126.1 and parameters: {'gamma': 0.9428437815758437, 'tau': 0.014447321451366105, 'batch_size': 70}. Best is trial 4 with value: -8.4.\n",
      "[I 2024-01-03 10:45:12,270] Trial 14 finished with value: -349.1 and parameters: {'gamma': 0.9162383850441151, 'tau': 0.045087341662715504, 'batch_size': 63}. Best is trial 4 with value: -8.4.\n",
      "[I 2024-01-03 10:45:33,009] Trial 15 finished with value: -86.1 and parameters: {'gamma': 0.933798531587331, 'tau': 0.016879376441213748, 'batch_size': 60}. Best is trial 4 with value: -8.4.\n",
      "[I 2024-01-03 10:45:55,438] Trial 16 finished with value: -626.1 and parameters: {'gamma': 0.9104161746323894, 'tau': 0.06616771558494161, 'batch_size': 65}. Best is trial 4 with value: -8.4.\n",
      "[I 2024-01-03 10:46:18,495] Trial 17 finished with value: -43.8 and parameters: {'gamma': 0.9639250453233821, 'tau': 0.044495430213463194, 'batch_size': 62}. Best is trial 4 with value: -8.4.\n",
      "[I 2024-01-03 10:46:40,668] Trial 18 finished with value: -70.7 and parameters: {'gamma': 0.9233301831340421, 'tau': 0.02232365992532923, 'batch_size': 69}. Best is trial 4 with value: -8.4.\n",
      "[I 2024-01-03 10:47:02,059] Trial 19 finished with value: -48.6 and parameters: {'gamma': 0.9384593981585599, 'tau': 0.007454382906099309, 'batch_size': 66}. Best is trial 4 with value: -8.4.\n",
      "[I 2024-01-03 10:47:23,646] Trial 20 finished with value: -30.8 and parameters: {'gamma': 0.9057791859757068, 'tau': 0.09621805553443573, 'batch_size': 64}. Best is trial 4 with value: -8.4.\n",
      "[I 2024-01-03 10:47:47,040] Trial 21 finished with value: -35.4 and parameters: {'gamma': 0.9219824308235385, 'tau': 0.02764761058159026, 'batch_size': 69}. Best is trial 4 with value: -8.4.\n",
      "[I 2024-01-03 10:48:07,673] Trial 22 finished with value: -131.0 and parameters: {'gamma': 0.9200257761914638, 'tau': 0.014954320316533529, 'batch_size': 69}. Best is trial 4 with value: -8.4.\n",
      "[I 2024-01-03 10:48:30,455] Trial 23 finished with value: -84.4 and parameters: {'gamma': 0.9081501984609348, 'tau': 0.04074418800761502, 'batch_size': 68}. Best is trial 4 with value: -8.4.\n",
      "[I 2024-01-03 10:48:53,499] Trial 24 finished with value: -188.9 and parameters: {'gamma': 0.9541399449996394, 'tau': 0.023936780528070654, 'batch_size': 67}. Best is trial 4 with value: -8.4.\n",
      "[I 2024-01-03 10:49:17,040] Trial 25 finished with value: -61.3 and parameters: {'gamma': 0.9118510134871086, 'tau': 0.050694177639484014, 'batch_size': 70}. Best is trial 4 with value: -8.4.\n",
      "[I 2024-01-03 10:49:38,519] Trial 26 finished with value: -57.5 and parameters: {'gamma': 0.9254443291763697, 'tau': 0.011804082250721666, 'batch_size': 68}. Best is trial 4 with value: -8.4.\n",
      "[I 2024-01-03 10:50:02,396] Trial 27 finished with value: -32.8 and parameters: {'gamma': 0.9408135177282791, 'tau': 0.028586477818236394, 'batch_size': 67}. Best is trial 4 with value: -8.4.\n",
      "[I 2024-01-03 10:50:23,700] Trial 28 finished with value: -55.1 and parameters: {'gamma': 0.9012356666705421, 'tau': 0.002337496227204439, 'batch_size': 69}. Best is trial 4 with value: -8.4.\n",
      "[I 2024-01-03 10:50:45,787] Trial 29 finished with value: -628.6 and parameters: {'gamma': 0.9326216819290046, 'tau': 0.032189646398120525, 'batch_size': 66}. Best is trial 4 with value: -8.4.\n",
      "[I 2024-01-03 10:51:08,033] Trial 30 finished with value: -42.1 and parameters: {'gamma': 0.9163276590085974, 'tau': 0.010860035868322064, 'batch_size': 61}. Best is trial 4 with value: -8.4.\n",
      "[I 2024-01-03 10:51:30,997] Trial 31 finished with value: -67.0 and parameters: {'gamma': 0.9071295835767024, 'tau': 0.09182849948453023, 'batch_size': 63}. Best is trial 4 with value: -8.4.\n",
      "[I 2024-01-03 10:51:53,662] Trial 32 finished with value: -219.1 and parameters: {'gamma': 0.9083020350721303, 'tau': 0.07596285293534896, 'batch_size': 64}. Best is trial 4 with value: -8.4.\n",
      "[I 2024-01-03 10:52:15,742] Trial 33 finished with value: -80.0 and parameters: {'gamma': 0.9164610939018076, 'tau': 0.09549877581179018, 'batch_size': 64}. Best is trial 4 with value: -8.4.\n",
      "[I 2024-01-03 10:52:38,009] Trial 34 finished with value: -126.0 and parameters: {'gamma': 0.9054454801531272, 'tau': 0.0765174480493716, 'batch_size': 65}. Best is trial 4 with value: -8.4.\n",
      "[I 2024-01-03 10:53:01,064] Trial 35 finished with value: -381.6563374666667 and parameters: {'gamma': 0.9271571821248089, 'tau': 0.019648216685886427, 'batch_size': 62}. Best is trial 4 with value: -8.4.\n",
      "[I 2024-01-03 10:53:24,395] Trial 36 finished with value: -61.0 and parameters: {'gamma': 0.9143420453971741, 'tau': 0.06924205564020955, 'batch_size': 64}. Best is trial 4 with value: -8.4.\n",
      "[I 2024-01-03 10:53:46,601] Trial 37 finished with value: -49.0 and parameters: {'gamma': 0.9202744064520066, 'tau': 0.03751549329921302, 'batch_size': 61}. Best is trial 4 with value: -8.4.\n",
      "[I 2024-01-03 10:54:09,074] Trial 38 finished with value: -51.3 and parameters: {'gamma': 0.9026032061316309, 'tau': 0.05180406485346932, 'batch_size': 65}. Best is trial 4 with value: -8.4.\n",
      "[I 2024-01-03 10:54:31,431] Trial 39 finished with value: -64.8 and parameters: {'gamma': 0.9783867475933924, 'tau': 0.025669738261741622, 'batch_size': 66}. Best is trial 4 with value: -8.4.\n",
      "[I 2024-01-03 10:54:53,650] Trial 40 finished with value: -184.4 and parameters: {'gamma': 0.9119363535202207, 'tau': 0.03197147559433938, 'batch_size': 67}. Best is trial 4 with value: -8.4.\n",
      "[I 2024-01-03 10:55:15,488] Trial 41 finished with value: -217.0 and parameters: {'gamma': 0.9007138820923798, 'tau': 0.0014180555018925966, 'batch_size': 63}. Best is trial 4 with value: -8.4.\n",
      "[I 2024-01-03 10:55:35,868] Trial 42 finished with value: -25.0 and parameters: {'gamma': 0.9057382328384378, 'tau': 0.0083356906352621, 'batch_size': 63}. Best is trial 4 with value: -8.4.\n",
      "[I 2024-01-03 10:55:57,636] Trial 43 finished with value: -33.9 and parameters: {'gamma': 0.9055316232073778, 'tau': 0.007257991570699454, 'batch_size': 62}. Best is trial 4 with value: -8.4.\n",
      "[I 2024-01-03 10:56:20,387] Trial 44 finished with value: -45.2 and parameters: {'gamma': 0.9298242193476461, 'tau': 0.01948718529911294, 'batch_size': 63}. Best is trial 4 with value: -8.4.\n",
      "[I 2024-01-03 10:56:41,816] Trial 45 finished with value: -46.0 and parameters: {'gamma': 0.9123333078052556, 'tau': 0.010972954000813169, 'batch_size': 65}. Best is trial 4 with value: -8.4.\n",
      "[I 2024-01-03 10:57:03,981] Trial 46 finished with value: -45.0 and parameters: {'gamma': 0.9054680202857175, 'tau': 0.058387784892043965, 'batch_size': 61}. Best is trial 4 with value: -8.4.\n",
      "[I 2024-01-03 10:57:26,569] Trial 47 finished with value: -32.1 and parameters: {'gamma': 0.9182056155355764, 'tau': 0.09961990704087337, 'batch_size': 70}. Best is trial 4 with value: -8.4.\n",
      "[I 2024-01-03 10:57:50,475] Trial 48 finished with value: -21.7 and parameters: {'gamma': 0.9245442011126435, 'tau': 0.03638134572334333, 'batch_size': 64}. Best is trial 4 with value: -8.4.\n",
      "[I 2024-01-03 10:58:12,938] Trial 49 finished with value: -43.0 and parameters: {'gamma': 0.9357018650588773, 'tau': 0.039079930559163596, 'batch_size': 63}. Best is trial 4 with value: -8.4.\n",
      "[I 2024-01-03 10:58:34,449] Trial 50 finished with value: -61.7 and parameters: {'gamma': 0.945985495603335, 'tau': 0.0436087527792785, 'batch_size': 62}. Best is trial 4 with value: -8.4.\n",
      "[I 2024-01-03 10:58:56,512] Trial 51 finished with value: -55.4 and parameters: {'gamma': 0.9228816162059259, 'tau': 0.03348627723550857, 'batch_size': 64}. Best is trial 4 with value: -8.4.\n",
      "[I 2024-01-03 10:59:18,960] Trial 52 finished with value: -63.7 and parameters: {'gamma': 0.9116257968134057, 'tau': 0.01741775195257746, 'batch_size': 64}. Best is trial 4 with value: -8.4.\n",
      "[I 2024-01-03 10:59:39,867] Trial 53 finished with value: -59.0 and parameters: {'gamma': 0.9279313804205346, 'tau': 0.02128676131043016, 'batch_size': 68}. Best is trial 4 with value: -8.4.\n",
      "[I 2024-01-03 11:00:02,468] Trial 54 finished with value: -84.2 and parameters: {'gamma': 0.9041274999857782, 'tau': 0.028127373588951024, 'batch_size': 63}. Best is trial 4 with value: -8.4.\n",
      "[I 2024-01-03 11:00:24,892] Trial 55 finished with value: -28.4 and parameters: {'gamma': 0.9100827099094069, 'tau': 0.05430893890137914, 'batch_size': 64}. Best is trial 4 with value: -8.4.\n",
      "[I 2024-01-03 11:00:47,640] Trial 56 finished with value: -67.9 and parameters: {'gamma': 0.9188498991949091, 'tau': 0.062188996501612345, 'batch_size': 69}. Best is trial 4 with value: -8.4.\n",
      "[I 2024-01-03 11:01:11,735] Trial 57 finished with value: -40.6 and parameters: {'gamma': 0.9095039495681477, 'tau': 0.050237421755363554, 'batch_size': 65}. Best is trial 4 with value: -8.4.\n",
      "[I 2024-01-03 11:01:36,357] Trial 58 finished with value: -978.0 and parameters: {'gamma': 0.9997307324892855, 'tau': 0.04716376747209183, 'batch_size': 60}. Best is trial 4 with value: -8.4.\n",
      "[I 2024-01-03 11:01:58,840] Trial 59 finished with value: -125.5 and parameters: {'gamma': 0.9148906360218877, 'tau': 0.01401618127196267, 'batch_size': 62}. Best is trial 4 with value: -8.4.\n",
      "[I 2024-01-03 11:02:21,924] Trial 60 finished with value: -36.8 and parameters: {'gamma': 0.9248406049292602, 'tau': 0.05507577270421151, 'batch_size': 63}. Best is trial 4 with value: -8.4.\n",
      "[I 2024-01-03 11:02:45,823] Trial 61 finished with value: -690.0 and parameters: {'gamma': 0.9568375093693119, 'tau': 0.08211898545874008, 'batch_size': 64}. Best is trial 4 with value: -8.4.\n",
      "[I 2024-01-03 11:03:08,301] Trial 62 finished with value: -105.9 and parameters: {'gamma': 0.9089136128784702, 'tau': 0.03404122285954963, 'batch_size': 64}. Best is trial 4 with value: -8.4.\n",
      "[I 2024-01-03 11:03:29,003] Trial 63 finished with value: -46.2 and parameters: {'gamma': 0.9140526350339478, 'tau': 0.0049651378365654, 'batch_size': 65}. Best is trial 4 with value: -8.4.\n",
      "[I 2024-01-03 11:03:50,716] Trial 64 finished with value: -55.2 and parameters: {'gamma': 0.9032134470035893, 'tau': 0.029719137654038313, 'batch_size': 64}. Best is trial 4 with value: -8.4.\n",
      "[I 2024-01-03 11:04:14,727] Trial 65 finished with value: -31.3 and parameters: {'gamma': 0.9000171778811015, 'tau': 0.022826699543941186, 'batch_size': 63}. Best is trial 4 with value: -8.4.\n",
      "[I 2024-01-03 11:04:38,368] Trial 66 finished with value: -26.2 and parameters: {'gamma': 0.9218236522439819, 'tau': 0.04173356187761191, 'batch_size': 65}. Best is trial 4 with value: -8.4.\n",
      "[I 2024-01-03 11:05:01,340] Trial 67 finished with value: -56.9 and parameters: {'gamma': 0.9221278088372272, 'tau': 0.04112087215120857, 'batch_size': 66}. Best is trial 4 with value: -8.4.\n",
      "[I 2024-01-03 11:05:25,632] Trial 68 finished with value: -35.6 and parameters: {'gamma': 0.9345634175637805, 'tau': 0.047361184592818344, 'batch_size': 67}. Best is trial 4 with value: -8.4.\n",
      "[I 2024-01-03 11:05:49,295] Trial 69 finished with value: -30.7 and parameters: {'gamma': 0.9182383972980706, 'tau': 0.03661258117110813, 'batch_size': 66}. Best is trial 4 with value: -8.4.\n",
      "[I 2024-01-03 11:06:13,586] Trial 70 finished with value: -24.5 and parameters: {'gamma': 0.930671532244143, 'tau': 0.042839757948328866, 'batch_size': 70}. Best is trial 4 with value: -8.4.\n",
      "[I 2024-01-03 11:06:37,831] Trial 71 finished with value: -59.3 and parameters: {'gamma': 0.9308604404287613, 'tau': 0.04185547409440195, 'batch_size': 70}. Best is trial 4 with value: -8.4.\n",
      "[I 2024-01-03 11:07:04,347] Trial 72 finished with value: -196.8 and parameters: {'gamma': 0.9260046919756465, 'tau': 0.05377300770541, 'batch_size': 69}. Best is trial 4 with value: -8.4.\n",
      "[I 2024-01-03 11:07:31,063] Trial 73 finished with value: -34.1 and parameters: {'gamma': 0.91712082119313, 'tau': 0.04738827573713004, 'batch_size': 70}. Best is trial 4 with value: -8.4.\n",
      "[I 2024-01-03 11:07:55,630] Trial 74 finished with value: -71.8 and parameters: {'gamma': 0.9384555809902145, 'tau': 0.03703528993935007, 'batch_size': 70}. Best is trial 4 with value: -8.4.\n",
      "[I 2024-01-03 11:08:19,818] Trial 75 finished with value: -44.3 and parameters: {'gamma': 0.9209571274579992, 'tau': 0.00851416036937588, 'batch_size': 65}. Best is trial 4 with value: -8.4.\n",
      "[I 2024-01-03 11:08:43,854] Trial 76 finished with value: -48.7 and parameters: {'gamma': 0.9138052095702642, 'tau': 0.024959842069927587, 'batch_size': 69}. Best is trial 4 with value: -8.4.\n",
      "[I 2024-01-03 11:09:09,988] Trial 77 finished with value: -38.4 and parameters: {'gamma': 0.9094684080687534, 'tau': 0.03025681999815091, 'batch_size': 68}. Best is trial 4 with value: -8.4.\n",
      "[I 2024-01-03 11:09:35,254] Trial 78 finished with value: -63.9 and parameters: {'gamma': 0.923784471525409, 'tau': 0.06291690520449898, 'batch_size': 64}. Best is trial 4 with value: -8.4.\n",
      "[I 2024-01-03 11:10:00,073] Trial 79 finished with value: -314.3 and parameters: {'gamma': 0.9282097492516808, 'tau': 0.035031910279696, 'batch_size': 62}. Best is trial 4 with value: -8.4.\n",
      "[I 2024-01-03 11:10:22,535] Trial 80 finished with value: -301.7 and parameters: {'gamma': 0.9068688711403196, 'tau': 0.02649960420142731, 'batch_size': 70}. Best is trial 4 with value: -8.4.\n",
      "[I 2024-01-03 11:10:46,513] Trial 81 finished with value: -30.6 and parameters: {'gamma': 0.9197327820206578, 'tau': 0.04345826085368402, 'batch_size': 66}. Best is trial 4 with value: -8.4.\n",
      "[I 2024-01-03 11:11:10,162] Trial 82 finished with value: -61.3 and parameters: {'gamma': 0.9217558638472244, 'tau': 0.044295504059222744, 'batch_size': 67}. Best is trial 4 with value: -8.4.\n",
      "[I 2024-01-03 11:11:34,538] Trial 83 finished with value: -35.0 and parameters: {'gamma': 0.9328115000271197, 'tau': 0.038741440604314024, 'batch_size': 65}. Best is trial 4 with value: -8.4.\n",
      "[I 2024-01-03 11:12:00,199] Trial 84 finished with value: -72.2 and parameters: {'gamma': 0.9942323268330344, 'tau': 0.040536264903562914, 'batch_size': 68}. Best is trial 4 with value: -8.4.\n",
      "[I 2024-01-03 11:12:25,336] Trial 85 finished with value: -68.9 and parameters: {'gamma': 0.9158859181359651, 'tau': 0.049544382422628555, 'batch_size': 68}. Best is trial 4 with value: -8.4.\n",
      "[I 2024-01-03 11:12:49,103] Trial 86 finished with value: -601.7 and parameters: {'gamma': 0.9193575346588815, 'tau': 0.04369436700489765, 'batch_size': 61}. Best is trial 4 with value: -8.4.\n",
      "[I 2024-01-03 11:13:10,564] Trial 87 finished with value: -47.4 and parameters: {'gamma': 0.9807643300959554, 'tau': 0.016353348400218168, 'batch_size': 69}. Best is trial 4 with value: -8.4.\n",
      "[I 2024-01-03 11:13:34,334] Trial 88 finished with value: -62.6 and parameters: {'gamma': 0.9114708818326074, 'tau': 0.032073108399841954, 'batch_size': 64}. Best is trial 4 with value: -8.4.\n",
      "[I 2024-01-03 11:13:56,720] Trial 89 finished with value: -35.5 and parameters: {'gamma': 0.9068095722360728, 'tau': 0.05445648708118878, 'batch_size': 63}. Best is trial 4 with value: -8.4.\n",
      "[I 2024-01-03 11:14:21,712] Trial 90 finished with value: -97.3 and parameters: {'gamma': 0.9259947421679046, 'tau': 0.035394174066510534, 'batch_size': 65}. Best is trial 4 with value: -8.4.\n",
      "[I 2024-01-03 11:14:45,293] Trial 91 finished with value: -38.7 and parameters: {'gamma': 0.9189460672513682, 'tau': 0.03686336454836095, 'batch_size': 66}. Best is trial 4 with value: -8.4.\n",
      "[I 2024-01-03 11:15:09,633] Trial 92 finished with value: 2.8 and parameters: {'gamma': 0.9171561919787107, 'tau': 0.046132622379041546, 'batch_size': 66}. Best is trial 92 with value: 2.8.\n",
      "[I 2024-01-03 11:15:32,277] Trial 93 finished with value: -62.7 and parameters: {'gamma': 0.9138898998297594, 'tau': 0.047484556432746836, 'batch_size': 67}. Best is trial 92 with value: 2.8.\n",
      "[I 2024-01-03 11:15:56,848] Trial 94 finished with value: -50.1 and parameters: {'gamma': 0.9028206576821876, 'tau': 0.05229584039636111, 'batch_size': 66}. Best is trial 92 with value: 2.8.\n",
      "[I 2024-01-03 11:16:21,401] Trial 95 finished with value: -36.1 and parameters: {'gamma': 0.9168205321128079, 'tau': 0.01304423041732316, 'batch_size': 65}. Best is trial 92 with value: 2.8.\n",
      "[I 2024-01-03 11:16:44,718] Trial 96 finished with value: -81.1 and parameters: {'gamma': 0.9237120595304987, 'tau': 0.04248241556500235, 'batch_size': 66}. Best is trial 92 with value: 2.8.\n",
      "[I 2024-01-03 11:17:10,248] Trial 97 finished with value: -136.0 and parameters: {'gamma': 0.9300043562762591, 'tau': 0.045629426503580234, 'batch_size': 70}. Best is trial 92 with value: 2.8.\n",
      "[I 2024-01-03 11:17:42,819] Trial 98 finished with value: -40.6 and parameters: {'gamma': 0.91056773365137, 'tau': 0.03941292184714641, 'batch_size': 62}. Best is trial 92 with value: 2.8.\n",
      "[I 2024-01-03 11:18:15,830] Trial 99 finished with value: -44.9 and parameters: {'gamma': 0.9130839918903056, 'tau': 0.0592031441492397, 'batch_size': 63}. Best is trial 92 with value: 2.8.\n"
     ]
    },
    {
     "name": "stdout",
     "output_type": "stream",
     "text": [
      "Reward: 2.8\n",
      "Best hyperparameters: {'gamma': 0.9171561919787107, 'tau': 0.046132622379041546, 'batch_size': 66}\n"
     ]
    }
   ],
   "source": [
    "double_study = optuna.create_study(direction=\"maximize\")\n",
    "double_study.optimize(double_objective, n_trials=100)\n",
    "\n",
    "trial = double_study.best_trial\n",
    "\n",
    "print(\"Reward: {}\".format(trial.value))\n",
    "print(\"Best hyperparameters: {}\".format(trial.params))"
   ]
  },
  {
   "cell_type": "code",
   "execution_count": 9,
   "metadata": {},
   "outputs": [
    {
     "data": {
      "application/vnd.plotly.v1+json": {
       "config": {
        "plotlyServerURL": "https://plot.ly"
       },
       "data": [
        {
         "mode": "markers",
         "name": "Objective Value",
         "type": "scatter",
         "x": [
          0,
          1,
          2,
          3,
          4,
          5,
          6,
          7,
          8,
          9,
          10,
          11,
          12,
          13,
          14,
          15,
          16,
          17,
          18,
          19,
          20,
          21,
          22,
          23,
          24,
          25,
          26,
          27,
          28,
          29,
          30,
          31,
          32,
          33,
          34,
          35,
          36,
          37,
          38,
          39,
          40,
          41,
          42,
          43,
          44,
          45,
          46,
          47,
          48,
          49,
          50,
          51,
          52,
          53,
          54,
          55,
          56,
          57,
          58,
          59,
          60,
          61,
          62,
          63,
          64,
          65,
          66,
          67,
          68,
          69,
          70,
          71,
          72,
          73,
          74,
          75,
          76,
          77,
          78,
          79,
          80,
          81,
          82,
          83,
          84,
          85,
          86,
          87,
          88,
          89,
          90,
          91,
          92,
          93,
          94,
          95,
          96,
          97,
          98,
          99
         ],
         "y": [
          -96.9,
          -439.7,
          -22.6,
          -60.5,
          -8.4,
          -1000,
          -56.3,
          -22.1,
          -668.4,
          -49.3,
          -32.4,
          -54.1,
          -124.7,
          -126.1,
          -349.1,
          -86.1,
          -626.1,
          -43.8,
          -70.7,
          -48.6,
          -30.8,
          -35.4,
          -131,
          -84.4,
          -188.9,
          -61.3,
          -57.5,
          -32.8,
          -55.1,
          -628.6,
          -42.1,
          -67,
          -219.1,
          -80,
          -126,
          -381.6563374666667,
          -61,
          -49,
          -51.3,
          -64.8,
          -184.4,
          -217,
          -25,
          -33.9,
          -45.2,
          -46,
          -45,
          -32.1,
          -21.7,
          -43,
          -61.7,
          -55.4,
          -63.7,
          -59,
          -84.2,
          -28.4,
          -67.9,
          -40.6,
          -978,
          -125.5,
          -36.8,
          -690,
          -105.9,
          -46.2,
          -55.2,
          -31.3,
          -26.2,
          -56.9,
          -35.6,
          -30.7,
          -24.5,
          -59.3,
          -196.8,
          -34.1,
          -71.8,
          -44.3,
          -48.7,
          -38.4,
          -63.9,
          -314.3,
          -301.7,
          -30.6,
          -61.3,
          -35,
          -72.2,
          -68.9,
          -601.7,
          -47.4,
          -62.6,
          -35.5,
          -97.3,
          -38.7,
          2.8,
          -62.7,
          -50.1,
          -36.1,
          -81.1,
          -136,
          -40.6,
          -44.9
         ]
        },
        {
         "mode": "lines",
         "name": "Best Value",
         "type": "scatter",
         "x": [
          0,
          1,
          2,
          3,
          4,
          5,
          6,
          7,
          8,
          9,
          10,
          11,
          12,
          13,
          14,
          15,
          16,
          17,
          18,
          19,
          20,
          21,
          22,
          23,
          24,
          25,
          26,
          27,
          28,
          29,
          30,
          31,
          32,
          33,
          34,
          35,
          36,
          37,
          38,
          39,
          40,
          41,
          42,
          43,
          44,
          45,
          46,
          47,
          48,
          49,
          50,
          51,
          52,
          53,
          54,
          55,
          56,
          57,
          58,
          59,
          60,
          61,
          62,
          63,
          64,
          65,
          66,
          67,
          68,
          69,
          70,
          71,
          72,
          73,
          74,
          75,
          76,
          77,
          78,
          79,
          80,
          81,
          82,
          83,
          84,
          85,
          86,
          87,
          88,
          89,
          90,
          91,
          92,
          93,
          94,
          95,
          96,
          97,
          98,
          99
         ],
         "y": [
          -96.9,
          -96.9,
          -22.6,
          -22.6,
          -8.4,
          -8.4,
          -8.4,
          -8.4,
          -8.4,
          -8.4,
          -8.4,
          -8.4,
          -8.4,
          -8.4,
          -8.4,
          -8.4,
          -8.4,
          -8.4,
          -8.4,
          -8.4,
          -8.4,
          -8.4,
          -8.4,
          -8.4,
          -8.4,
          -8.4,
          -8.4,
          -8.4,
          -8.4,
          -8.4,
          -8.4,
          -8.4,
          -8.4,
          -8.4,
          -8.4,
          -8.4,
          -8.4,
          -8.4,
          -8.4,
          -8.4,
          -8.4,
          -8.4,
          -8.4,
          -8.4,
          -8.4,
          -8.4,
          -8.4,
          -8.4,
          -8.4,
          -8.4,
          -8.4,
          -8.4,
          -8.4,
          -8.4,
          -8.4,
          -8.4,
          -8.4,
          -8.4,
          -8.4,
          -8.4,
          -8.4,
          -8.4,
          -8.4,
          -8.4,
          -8.4,
          -8.4,
          -8.4,
          -8.4,
          -8.4,
          -8.4,
          -8.4,
          -8.4,
          -8.4,
          -8.4,
          -8.4,
          -8.4,
          -8.4,
          -8.4,
          -8.4,
          -8.4,
          -8.4,
          -8.4,
          -8.4,
          -8.4,
          -8.4,
          -8.4,
          -8.4,
          -8.4,
          -8.4,
          -8.4,
          -8.4,
          -8.4,
          2.8,
          2.8,
          2.8,
          2.8,
          2.8,
          2.8,
          2.8,
          2.8
         ]
        },
        {
         "marker": {
          "color": "#cccccc"
         },
         "mode": "markers",
         "name": "Infeasible Trial",
         "showlegend": false,
         "type": "scatter",
         "x": [],
         "y": []
        }
       ],
       "layout": {
        "template": {
         "data": {
          "bar": [
           {
            "error_x": {
             "color": "#2a3f5f"
            },
            "error_y": {
             "color": "#2a3f5f"
            },
            "marker": {
             "line": {
              "color": "#E5ECF6",
              "width": 0.5
             },
             "pattern": {
              "fillmode": "overlay",
              "size": 10,
              "solidity": 0.2
             }
            },
            "type": "bar"
           }
          ],
          "barpolar": [
           {
            "marker": {
             "line": {
              "color": "#E5ECF6",
              "width": 0.5
             },
             "pattern": {
              "fillmode": "overlay",
              "size": 10,
              "solidity": 0.2
             }
            },
            "type": "barpolar"
           }
          ],
          "carpet": [
           {
            "aaxis": {
             "endlinecolor": "#2a3f5f",
             "gridcolor": "white",
             "linecolor": "white",
             "minorgridcolor": "white",
             "startlinecolor": "#2a3f5f"
            },
            "baxis": {
             "endlinecolor": "#2a3f5f",
             "gridcolor": "white",
             "linecolor": "white",
             "minorgridcolor": "white",
             "startlinecolor": "#2a3f5f"
            },
            "type": "carpet"
           }
          ],
          "choropleth": [
           {
            "colorbar": {
             "outlinewidth": 0,
             "ticks": ""
            },
            "type": "choropleth"
           }
          ],
          "contour": [
           {
            "colorbar": {
             "outlinewidth": 0,
             "ticks": ""
            },
            "colorscale": [
             [
              0,
              "#0d0887"
             ],
             [
              0.1111111111111111,
              "#46039f"
             ],
             [
              0.2222222222222222,
              "#7201a8"
             ],
             [
              0.3333333333333333,
              "#9c179e"
             ],
             [
              0.4444444444444444,
              "#bd3786"
             ],
             [
              0.5555555555555556,
              "#d8576b"
             ],
             [
              0.6666666666666666,
              "#ed7953"
             ],
             [
              0.7777777777777778,
              "#fb9f3a"
             ],
             [
              0.8888888888888888,
              "#fdca26"
             ],
             [
              1,
              "#f0f921"
             ]
            ],
            "type": "contour"
           }
          ],
          "contourcarpet": [
           {
            "colorbar": {
             "outlinewidth": 0,
             "ticks": ""
            },
            "type": "contourcarpet"
           }
          ],
          "heatmap": [
           {
            "colorbar": {
             "outlinewidth": 0,
             "ticks": ""
            },
            "colorscale": [
             [
              0,
              "#0d0887"
             ],
             [
              0.1111111111111111,
              "#46039f"
             ],
             [
              0.2222222222222222,
              "#7201a8"
             ],
             [
              0.3333333333333333,
              "#9c179e"
             ],
             [
              0.4444444444444444,
              "#bd3786"
             ],
             [
              0.5555555555555556,
              "#d8576b"
             ],
             [
              0.6666666666666666,
              "#ed7953"
             ],
             [
              0.7777777777777778,
              "#fb9f3a"
             ],
             [
              0.8888888888888888,
              "#fdca26"
             ],
             [
              1,
              "#f0f921"
             ]
            ],
            "type": "heatmap"
           }
          ],
          "heatmapgl": [
           {
            "colorbar": {
             "outlinewidth": 0,
             "ticks": ""
            },
            "colorscale": [
             [
              0,
              "#0d0887"
             ],
             [
              0.1111111111111111,
              "#46039f"
             ],
             [
              0.2222222222222222,
              "#7201a8"
             ],
             [
              0.3333333333333333,
              "#9c179e"
             ],
             [
              0.4444444444444444,
              "#bd3786"
             ],
             [
              0.5555555555555556,
              "#d8576b"
             ],
             [
              0.6666666666666666,
              "#ed7953"
             ],
             [
              0.7777777777777778,
              "#fb9f3a"
             ],
             [
              0.8888888888888888,
              "#fdca26"
             ],
             [
              1,
              "#f0f921"
             ]
            ],
            "type": "heatmapgl"
           }
          ],
          "histogram": [
           {
            "marker": {
             "pattern": {
              "fillmode": "overlay",
              "size": 10,
              "solidity": 0.2
             }
            },
            "type": "histogram"
           }
          ],
          "histogram2d": [
           {
            "colorbar": {
             "outlinewidth": 0,
             "ticks": ""
            },
            "colorscale": [
             [
              0,
              "#0d0887"
             ],
             [
              0.1111111111111111,
              "#46039f"
             ],
             [
              0.2222222222222222,
              "#7201a8"
             ],
             [
              0.3333333333333333,
              "#9c179e"
             ],
             [
              0.4444444444444444,
              "#bd3786"
             ],
             [
              0.5555555555555556,
              "#d8576b"
             ],
             [
              0.6666666666666666,
              "#ed7953"
             ],
             [
              0.7777777777777778,
              "#fb9f3a"
             ],
             [
              0.8888888888888888,
              "#fdca26"
             ],
             [
              1,
              "#f0f921"
             ]
            ],
            "type": "histogram2d"
           }
          ],
          "histogram2dcontour": [
           {
            "colorbar": {
             "outlinewidth": 0,
             "ticks": ""
            },
            "colorscale": [
             [
              0,
              "#0d0887"
             ],
             [
              0.1111111111111111,
              "#46039f"
             ],
             [
              0.2222222222222222,
              "#7201a8"
             ],
             [
              0.3333333333333333,
              "#9c179e"
             ],
             [
              0.4444444444444444,
              "#bd3786"
             ],
             [
              0.5555555555555556,
              "#d8576b"
             ],
             [
              0.6666666666666666,
              "#ed7953"
             ],
             [
              0.7777777777777778,
              "#fb9f3a"
             ],
             [
              0.8888888888888888,
              "#fdca26"
             ],
             [
              1,
              "#f0f921"
             ]
            ],
            "type": "histogram2dcontour"
           }
          ],
          "mesh3d": [
           {
            "colorbar": {
             "outlinewidth": 0,
             "ticks": ""
            },
            "type": "mesh3d"
           }
          ],
          "parcoords": [
           {
            "line": {
             "colorbar": {
              "outlinewidth": 0,
              "ticks": ""
             }
            },
            "type": "parcoords"
           }
          ],
          "pie": [
           {
            "automargin": true,
            "type": "pie"
           }
          ],
          "scatter": [
           {
            "fillpattern": {
             "fillmode": "overlay",
             "size": 10,
             "solidity": 0.2
            },
            "type": "scatter"
           }
          ],
          "scatter3d": [
           {
            "line": {
             "colorbar": {
              "outlinewidth": 0,
              "ticks": ""
             }
            },
            "marker": {
             "colorbar": {
              "outlinewidth": 0,
              "ticks": ""
             }
            },
            "type": "scatter3d"
           }
          ],
          "scattercarpet": [
           {
            "marker": {
             "colorbar": {
              "outlinewidth": 0,
              "ticks": ""
             }
            },
            "type": "scattercarpet"
           }
          ],
          "scattergeo": [
           {
            "marker": {
             "colorbar": {
              "outlinewidth": 0,
              "ticks": ""
             }
            },
            "type": "scattergeo"
           }
          ],
          "scattergl": [
           {
            "marker": {
             "colorbar": {
              "outlinewidth": 0,
              "ticks": ""
             }
            },
            "type": "scattergl"
           }
          ],
          "scattermapbox": [
           {
            "marker": {
             "colorbar": {
              "outlinewidth": 0,
              "ticks": ""
             }
            },
            "type": "scattermapbox"
           }
          ],
          "scatterpolar": [
           {
            "marker": {
             "colorbar": {
              "outlinewidth": 0,
              "ticks": ""
             }
            },
            "type": "scatterpolar"
           }
          ],
          "scatterpolargl": [
           {
            "marker": {
             "colorbar": {
              "outlinewidth": 0,
              "ticks": ""
             }
            },
            "type": "scatterpolargl"
           }
          ],
          "scatterternary": [
           {
            "marker": {
             "colorbar": {
              "outlinewidth": 0,
              "ticks": ""
             }
            },
            "type": "scatterternary"
           }
          ],
          "surface": [
           {
            "colorbar": {
             "outlinewidth": 0,
             "ticks": ""
            },
            "colorscale": [
             [
              0,
              "#0d0887"
             ],
             [
              0.1111111111111111,
              "#46039f"
             ],
             [
              0.2222222222222222,
              "#7201a8"
             ],
             [
              0.3333333333333333,
              "#9c179e"
             ],
             [
              0.4444444444444444,
              "#bd3786"
             ],
             [
              0.5555555555555556,
              "#d8576b"
             ],
             [
              0.6666666666666666,
              "#ed7953"
             ],
             [
              0.7777777777777778,
              "#fb9f3a"
             ],
             [
              0.8888888888888888,
              "#fdca26"
             ],
             [
              1,
              "#f0f921"
             ]
            ],
            "type": "surface"
           }
          ],
          "table": [
           {
            "cells": {
             "fill": {
              "color": "#EBF0F8"
             },
             "line": {
              "color": "white"
             }
            },
            "header": {
             "fill": {
              "color": "#C8D4E3"
             },
             "line": {
              "color": "white"
             }
            },
            "type": "table"
           }
          ]
         },
         "layout": {
          "annotationdefaults": {
           "arrowcolor": "#2a3f5f",
           "arrowhead": 0,
           "arrowwidth": 1
          },
          "autotypenumbers": "strict",
          "coloraxis": {
           "colorbar": {
            "outlinewidth": 0,
            "ticks": ""
           }
          },
          "colorscale": {
           "diverging": [
            [
             0,
             "#8e0152"
            ],
            [
             0.1,
             "#c51b7d"
            ],
            [
             0.2,
             "#de77ae"
            ],
            [
             0.3,
             "#f1b6da"
            ],
            [
             0.4,
             "#fde0ef"
            ],
            [
             0.5,
             "#f7f7f7"
            ],
            [
             0.6,
             "#e6f5d0"
            ],
            [
             0.7,
             "#b8e186"
            ],
            [
             0.8,
             "#7fbc41"
            ],
            [
             0.9,
             "#4d9221"
            ],
            [
             1,
             "#276419"
            ]
           ],
           "sequential": [
            [
             0,
             "#0d0887"
            ],
            [
             0.1111111111111111,
             "#46039f"
            ],
            [
             0.2222222222222222,
             "#7201a8"
            ],
            [
             0.3333333333333333,
             "#9c179e"
            ],
            [
             0.4444444444444444,
             "#bd3786"
            ],
            [
             0.5555555555555556,
             "#d8576b"
            ],
            [
             0.6666666666666666,
             "#ed7953"
            ],
            [
             0.7777777777777778,
             "#fb9f3a"
            ],
            [
             0.8888888888888888,
             "#fdca26"
            ],
            [
             1,
             "#f0f921"
            ]
           ],
           "sequentialminus": [
            [
             0,
             "#0d0887"
            ],
            [
             0.1111111111111111,
             "#46039f"
            ],
            [
             0.2222222222222222,
             "#7201a8"
            ],
            [
             0.3333333333333333,
             "#9c179e"
            ],
            [
             0.4444444444444444,
             "#bd3786"
            ],
            [
             0.5555555555555556,
             "#d8576b"
            ],
            [
             0.6666666666666666,
             "#ed7953"
            ],
            [
             0.7777777777777778,
             "#fb9f3a"
            ],
            [
             0.8888888888888888,
             "#fdca26"
            ],
            [
             1,
             "#f0f921"
            ]
           ]
          },
          "colorway": [
           "#636efa",
           "#EF553B",
           "#00cc96",
           "#ab63fa",
           "#FFA15A",
           "#19d3f3",
           "#FF6692",
           "#B6E880",
           "#FF97FF",
           "#FECB52"
          ],
          "font": {
           "color": "#2a3f5f"
          },
          "geo": {
           "bgcolor": "white",
           "lakecolor": "white",
           "landcolor": "#E5ECF6",
           "showlakes": true,
           "showland": true,
           "subunitcolor": "white"
          },
          "hoverlabel": {
           "align": "left"
          },
          "hovermode": "closest",
          "mapbox": {
           "style": "light"
          },
          "paper_bgcolor": "white",
          "plot_bgcolor": "#E5ECF6",
          "polar": {
           "angularaxis": {
            "gridcolor": "white",
            "linecolor": "white",
            "ticks": ""
           },
           "bgcolor": "#E5ECF6",
           "radialaxis": {
            "gridcolor": "white",
            "linecolor": "white",
            "ticks": ""
           }
          },
          "scene": {
           "xaxis": {
            "backgroundcolor": "#E5ECF6",
            "gridcolor": "white",
            "gridwidth": 2,
            "linecolor": "white",
            "showbackground": true,
            "ticks": "",
            "zerolinecolor": "white"
           },
           "yaxis": {
            "backgroundcolor": "#E5ECF6",
            "gridcolor": "white",
            "gridwidth": 2,
            "linecolor": "white",
            "showbackground": true,
            "ticks": "",
            "zerolinecolor": "white"
           },
           "zaxis": {
            "backgroundcolor": "#E5ECF6",
            "gridcolor": "white",
            "gridwidth": 2,
            "linecolor": "white",
            "showbackground": true,
            "ticks": "",
            "zerolinecolor": "white"
           }
          },
          "shapedefaults": {
           "line": {
            "color": "#2a3f5f"
           }
          },
          "ternary": {
           "aaxis": {
            "gridcolor": "white",
            "linecolor": "white",
            "ticks": ""
           },
           "baxis": {
            "gridcolor": "white",
            "linecolor": "white",
            "ticks": ""
           },
           "bgcolor": "#E5ECF6",
           "caxis": {
            "gridcolor": "white",
            "linecolor": "white",
            "ticks": ""
           }
          },
          "title": {
           "x": 0.05
          },
          "xaxis": {
           "automargin": true,
           "gridcolor": "white",
           "linecolor": "white",
           "ticks": "",
           "title": {
            "standoff": 15
           },
           "zerolinecolor": "white",
           "zerolinewidth": 2
          },
          "yaxis": {
           "automargin": true,
           "gridcolor": "white",
           "linecolor": "white",
           "ticks": "",
           "title": {
            "standoff": 15
           },
           "zerolinecolor": "white",
           "zerolinewidth": 2
          }
         }
        },
        "title": {
         "text": "Optimization History Plot"
        },
        "xaxis": {
         "title": {
          "text": "Trial"
         }
        },
        "yaxis": {
         "title": {
          "text": "Objective Value"
         }
        }
       }
      }
     },
     "metadata": {},
     "output_type": "display_data"
    }
   ],
   "source": [
    "fig = optuna.visualization.plot_optimization_history(double_study)\n",
    "fig.write_html('figures/optimization_history.html')\n",
    "fig.write_image('figures/optimization_history.png')\n",
    "fig"
   ]
  },
  {
   "cell_type": "code",
   "execution_count": 10,
   "metadata": {},
   "outputs": [
    {
     "data": {
      "application/vnd.plotly.v1+json": {
       "config": {
        "plotlyServerURL": "https://plot.ly"
       },
       "data": [
        {
         "marker": {
          "color": [
           0,
           1,
           2,
           3,
           4,
           5,
           6,
           7,
           8,
           9,
           10,
           11,
           12,
           13,
           14,
           15,
           16,
           17,
           18,
           19,
           20,
           21,
           22,
           23,
           24,
           25,
           26,
           27,
           28,
           29,
           30,
           31,
           32,
           33,
           34,
           35,
           36,
           37,
           38,
           39,
           40,
           41,
           42,
           43,
           44,
           45,
           46,
           47,
           48,
           49,
           50,
           51,
           52,
           53,
           54,
           55,
           56,
           57,
           58,
           59,
           60,
           61,
           62,
           63,
           64,
           65,
           66,
           67,
           68,
           69,
           70,
           71,
           72,
           73,
           74,
           75,
           76,
           77,
           78,
           79,
           80,
           81,
           82,
           83,
           84,
           85,
           86,
           87,
           88,
           89,
           90,
           91,
           92,
           93,
           94,
           95,
           96,
           97,
           98,
           99
          ],
          "colorbar": {
           "title": {
            "text": "Trial"
           },
           "x": 1,
           "xpad": 40
          },
          "colorscale": [
           [
            0,
            "rgb(247,251,255)"
           ],
           [
            0.125,
            "rgb(222,235,247)"
           ],
           [
            0.25,
            "rgb(198,219,239)"
           ],
           [
            0.375,
            "rgb(158,202,225)"
           ],
           [
            0.5,
            "rgb(107,174,214)"
           ],
           [
            0.625,
            "rgb(66,146,198)"
           ],
           [
            0.75,
            "rgb(33,113,181)"
           ],
           [
            0.875,
            "rgb(8,81,156)"
           ],
           [
            1,
            "rgb(8,48,107)"
           ]
          ],
          "line": {
           "color": "Grey",
           "width": 0.5
          },
          "showscale": true
         },
         "mode": "markers",
         "name": "Feasible Trial",
         "showlegend": false,
         "type": "scatter",
         "x": [
          65,
          64,
          68,
          66,
          62,
          67,
          61,
          70,
          68,
          60,
          63,
          70,
          62,
          70,
          63,
          60,
          65,
          62,
          69,
          66,
          64,
          69,
          69,
          68,
          67,
          70,
          68,
          67,
          69,
          66,
          61,
          63,
          64,
          64,
          65,
          62,
          64,
          61,
          65,
          66,
          67,
          63,
          63,
          62,
          63,
          65,
          61,
          70,
          64,
          63,
          62,
          64,
          64,
          68,
          63,
          64,
          69,
          65,
          60,
          62,
          63,
          64,
          64,
          65,
          64,
          63,
          65,
          66,
          67,
          66,
          70,
          70,
          69,
          70,
          70,
          65,
          69,
          68,
          64,
          62,
          70,
          66,
          67,
          65,
          68,
          68,
          61,
          69,
          64,
          63,
          65,
          66,
          66,
          67,
          66,
          65,
          66,
          70,
          62,
          63
         ],
         "xaxis": "x",
         "y": [
          -96.9,
          -439.7,
          -22.6,
          -60.5,
          -8.4,
          -1000,
          -56.3,
          -22.1,
          -668.4,
          -49.3,
          -32.4,
          -54.1,
          -124.7,
          -126.1,
          -349.1,
          -86.1,
          -626.1,
          -43.8,
          -70.7,
          -48.6,
          -30.8,
          -35.4,
          -131,
          -84.4,
          -188.9,
          -61.3,
          -57.5,
          -32.8,
          -55.1,
          -628.6,
          -42.1,
          -67,
          -219.1,
          -80,
          -126,
          -381.6563374666667,
          -61,
          -49,
          -51.3,
          -64.8,
          -184.4,
          -217,
          -25,
          -33.9,
          -45.2,
          -46,
          -45,
          -32.1,
          -21.7,
          -43,
          -61.7,
          -55.4,
          -63.7,
          -59,
          -84.2,
          -28.4,
          -67.9,
          -40.6,
          -978,
          -125.5,
          -36.8,
          -690,
          -105.9,
          -46.2,
          -55.2,
          -31.3,
          -26.2,
          -56.9,
          -35.6,
          -30.7,
          -24.5,
          -59.3,
          -196.8,
          -34.1,
          -71.8,
          -44.3,
          -48.7,
          -38.4,
          -63.9,
          -314.3,
          -301.7,
          -30.6,
          -61.3,
          -35,
          -72.2,
          -68.9,
          -601.7,
          -47.4,
          -62.6,
          -35.5,
          -97.3,
          -38.7,
          2.8,
          -62.7,
          -50.1,
          -36.1,
          -81.1,
          -136,
          -40.6,
          -44.9
         ],
         "yaxis": "y"
        },
        {
         "marker": {
          "color": [
           0,
           1,
           2,
           3,
           4,
           5,
           6,
           7,
           8,
           9,
           10,
           11,
           12,
           13,
           14,
           15,
           16,
           17,
           18,
           19,
           20,
           21,
           22,
           23,
           24,
           25,
           26,
           27,
           28,
           29,
           30,
           31,
           32,
           33,
           34,
           35,
           36,
           37,
           38,
           39,
           40,
           41,
           42,
           43,
           44,
           45,
           46,
           47,
           48,
           49,
           50,
           51,
           52,
           53,
           54,
           55,
           56,
           57,
           58,
           59,
           60,
           61,
           62,
           63,
           64,
           65,
           66,
           67,
           68,
           69,
           70,
           71,
           72,
           73,
           74,
           75,
           76,
           77,
           78,
           79,
           80,
           81,
           82,
           83,
           84,
           85,
           86,
           87,
           88,
           89,
           90,
           91,
           92,
           93,
           94,
           95,
           96,
           97,
           98,
           99
          ],
          "colorbar": {
           "title": {
            "text": "Trial"
           },
           "x": 1,
           "xpad": 40
          },
          "colorscale": [
           [
            0,
            "rgb(247,251,255)"
           ],
           [
            0.125,
            "rgb(222,235,247)"
           ],
           [
            0.25,
            "rgb(198,219,239)"
           ],
           [
            0.375,
            "rgb(158,202,225)"
           ],
           [
            0.5,
            "rgb(107,174,214)"
           ],
           [
            0.625,
            "rgb(66,146,198)"
           ],
           [
            0.75,
            "rgb(33,113,181)"
           ],
           [
            0.875,
            "rgb(8,81,156)"
           ],
           [
            1,
            "rgb(8,48,107)"
           ]
          ],
          "line": {
           "color": "Grey",
           "width": 0.5
          },
          "showscale": false
         },
         "mode": "markers",
         "name": "Feasible Trial",
         "showlegend": false,
         "type": "scatter",
         "x": [
          0.930864622296778,
          0.9147129969432642,
          0.917928679913425,
          0.9906986834242006,
          0.9025759187773467,
          0.9976686445748134,
          0.9289709657583808,
          0.9181769175701622,
          0.9681631527021042,
          0.9771820811746319,
          0.9012703662716811,
          0.9495422400718605,
          0.9011382983626322,
          0.9428437815758437,
          0.9162383850441151,
          0.933798531587331,
          0.9104161746323894,
          0.9639250453233821,
          0.9233301831340421,
          0.9384593981585599,
          0.9057791859757068,
          0.9219824308235385,
          0.9200257761914638,
          0.9081501984609348,
          0.9541399449996394,
          0.9118510134871086,
          0.9254443291763697,
          0.9408135177282791,
          0.9012356666705421,
          0.9326216819290046,
          0.9163276590085974,
          0.9071295835767024,
          0.9083020350721303,
          0.9164610939018076,
          0.9054454801531272,
          0.9271571821248089,
          0.9143420453971741,
          0.9202744064520066,
          0.9026032061316309,
          0.9783867475933924,
          0.9119363535202207,
          0.9007138820923798,
          0.9057382328384378,
          0.9055316232073778,
          0.9298242193476461,
          0.9123333078052556,
          0.9054680202857175,
          0.9182056155355764,
          0.9245442011126435,
          0.9357018650588773,
          0.945985495603335,
          0.9228816162059259,
          0.9116257968134057,
          0.9279313804205346,
          0.9041274999857782,
          0.9100827099094069,
          0.9188498991949091,
          0.9095039495681477,
          0.9997307324892855,
          0.9148906360218877,
          0.9248406049292602,
          0.9568375093693119,
          0.9089136128784702,
          0.9140526350339478,
          0.9032134470035893,
          0.9000171778811015,
          0.9218236522439819,
          0.9221278088372272,
          0.9345634175637805,
          0.9182383972980706,
          0.930671532244143,
          0.9308604404287613,
          0.9260046919756465,
          0.91712082119313,
          0.9384555809902145,
          0.9209571274579992,
          0.9138052095702642,
          0.9094684080687534,
          0.923784471525409,
          0.9282097492516808,
          0.9068688711403196,
          0.9197327820206578,
          0.9217558638472244,
          0.9328115000271197,
          0.9942323268330344,
          0.9158859181359651,
          0.9193575346588815,
          0.9807643300959554,
          0.9114708818326074,
          0.9068095722360728,
          0.9259947421679046,
          0.9189460672513682,
          0.9171561919787107,
          0.9138898998297594,
          0.9028206576821876,
          0.9168205321128079,
          0.9237120595304987,
          0.9300043562762591,
          0.91056773365137,
          0.9130839918903056
         ],
         "xaxis": "x2",
         "y": [
          -96.9,
          -439.7,
          -22.6,
          -60.5,
          -8.4,
          -1000,
          -56.3,
          -22.1,
          -668.4,
          -49.3,
          -32.4,
          -54.1,
          -124.7,
          -126.1,
          -349.1,
          -86.1,
          -626.1,
          -43.8,
          -70.7,
          -48.6,
          -30.8,
          -35.4,
          -131,
          -84.4,
          -188.9,
          -61.3,
          -57.5,
          -32.8,
          -55.1,
          -628.6,
          -42.1,
          -67,
          -219.1,
          -80,
          -126,
          -381.6563374666667,
          -61,
          -49,
          -51.3,
          -64.8,
          -184.4,
          -217,
          -25,
          -33.9,
          -45.2,
          -46,
          -45,
          -32.1,
          -21.7,
          -43,
          -61.7,
          -55.4,
          -63.7,
          -59,
          -84.2,
          -28.4,
          -67.9,
          -40.6,
          -978,
          -125.5,
          -36.8,
          -690,
          -105.9,
          -46.2,
          -55.2,
          -31.3,
          -26.2,
          -56.9,
          -35.6,
          -30.7,
          -24.5,
          -59.3,
          -196.8,
          -34.1,
          -71.8,
          -44.3,
          -48.7,
          -38.4,
          -63.9,
          -314.3,
          -301.7,
          -30.6,
          -61.3,
          -35,
          -72.2,
          -68.9,
          -601.7,
          -47.4,
          -62.6,
          -35.5,
          -97.3,
          -38.7,
          2.8,
          -62.7,
          -50.1,
          -36.1,
          -81.1,
          -136,
          -40.6,
          -44.9
         ],
         "yaxis": "y2"
        },
        {
         "marker": {
          "color": [
           0,
           1,
           2,
           3,
           4,
           5,
           6,
           7,
           8,
           9,
           10,
           11,
           12,
           13,
           14,
           15,
           16,
           17,
           18,
           19,
           20,
           21,
           22,
           23,
           24,
           25,
           26,
           27,
           28,
           29,
           30,
           31,
           32,
           33,
           34,
           35,
           36,
           37,
           38,
           39,
           40,
           41,
           42,
           43,
           44,
           45,
           46,
           47,
           48,
           49,
           50,
           51,
           52,
           53,
           54,
           55,
           56,
           57,
           58,
           59,
           60,
           61,
           62,
           63,
           64,
           65,
           66,
           67,
           68,
           69,
           70,
           71,
           72,
           73,
           74,
           75,
           76,
           77,
           78,
           79,
           80,
           81,
           82,
           83,
           84,
           85,
           86,
           87,
           88,
           89,
           90,
           91,
           92,
           93,
           94,
           95,
           96,
           97,
           98,
           99
          ],
          "colorbar": {
           "title": {
            "text": "Trial"
           },
           "x": 1,
           "xpad": 40
          },
          "colorscale": [
           [
            0,
            "rgb(247,251,255)"
           ],
           [
            0.125,
            "rgb(222,235,247)"
           ],
           [
            0.25,
            "rgb(198,219,239)"
           ],
           [
            0.375,
            "rgb(158,202,225)"
           ],
           [
            0.5,
            "rgb(107,174,214)"
           ],
           [
            0.625,
            "rgb(66,146,198)"
           ],
           [
            0.75,
            "rgb(33,113,181)"
           ],
           [
            0.875,
            "rgb(8,81,156)"
           ],
           [
            1,
            "rgb(8,48,107)"
           ]
          ],
          "line": {
           "color": "Grey",
           "width": 0.5
          },
          "showscale": false
         },
         "mode": "markers",
         "name": "Feasible Trial",
         "showlegend": false,
         "type": "scatter",
         "x": [
          0.03242799563442478,
          0.02051491453381674,
          0.027950888740676333,
          0.08425960082978606,
          0.028672731514765848,
          0.0852327994512308,
          0.05874555156737387,
          0.011536632673865482,
          0.03698821061821376,
          0.03325976768916703,
          0.0034972651520453688,
          0.005549714771591063,
          0.05708404212585193,
          0.014447321451366105,
          0.045087341662715504,
          0.016879376441213748,
          0.06616771558494161,
          0.044495430213463194,
          0.02232365992532923,
          0.007454382906099309,
          0.09621805553443573,
          0.02764761058159026,
          0.014954320316533529,
          0.04074418800761502,
          0.023936780528070654,
          0.050694177639484014,
          0.011804082250721666,
          0.028586477818236394,
          0.002337496227204439,
          0.032189646398120525,
          0.010860035868322064,
          0.09182849948453023,
          0.07596285293534896,
          0.09549877581179018,
          0.0765174480493716,
          0.019648216685886427,
          0.06924205564020955,
          0.03751549329921302,
          0.05180406485346932,
          0.025669738261741622,
          0.03197147559433938,
          0.0014180555018925966,
          0.0083356906352621,
          0.007257991570699454,
          0.01948718529911294,
          0.010972954000813169,
          0.058387784892043965,
          0.09961990704087337,
          0.03638134572334333,
          0.039079930559163596,
          0.0436087527792785,
          0.03348627723550857,
          0.01741775195257746,
          0.02128676131043016,
          0.028127373588951024,
          0.05430893890137914,
          0.062188996501612345,
          0.050237421755363554,
          0.04716376747209183,
          0.01401618127196267,
          0.05507577270421151,
          0.08211898545874008,
          0.03404122285954963,
          0.0049651378365654,
          0.029719137654038313,
          0.022826699543941186,
          0.04173356187761191,
          0.04112087215120857,
          0.047361184592818344,
          0.03661258117110813,
          0.042839757948328866,
          0.04185547409440195,
          0.05377300770541,
          0.04738827573713004,
          0.03703528993935007,
          0.00851416036937588,
          0.024959842069927587,
          0.03025681999815091,
          0.06291690520449898,
          0.035031910279696,
          0.02649960420142731,
          0.04345826085368402,
          0.044295504059222744,
          0.038741440604314024,
          0.040536264903562914,
          0.049544382422628555,
          0.04369436700489765,
          0.016353348400218168,
          0.032073108399841954,
          0.05445648708118878,
          0.035394174066510534,
          0.03686336454836095,
          0.046132622379041546,
          0.047484556432746836,
          0.05229584039636111,
          0.01304423041732316,
          0.04248241556500235,
          0.045629426503580234,
          0.03941292184714641,
          0.0592031441492397
         ],
         "xaxis": "x3",
         "y": [
          -96.9,
          -439.7,
          -22.6,
          -60.5,
          -8.4,
          -1000,
          -56.3,
          -22.1,
          -668.4,
          -49.3,
          -32.4,
          -54.1,
          -124.7,
          -126.1,
          -349.1,
          -86.1,
          -626.1,
          -43.8,
          -70.7,
          -48.6,
          -30.8,
          -35.4,
          -131,
          -84.4,
          -188.9,
          -61.3,
          -57.5,
          -32.8,
          -55.1,
          -628.6,
          -42.1,
          -67,
          -219.1,
          -80,
          -126,
          -381.6563374666667,
          -61,
          -49,
          -51.3,
          -64.8,
          -184.4,
          -217,
          -25,
          -33.9,
          -45.2,
          -46,
          -45,
          -32.1,
          -21.7,
          -43,
          -61.7,
          -55.4,
          -63.7,
          -59,
          -84.2,
          -28.4,
          -67.9,
          -40.6,
          -978,
          -125.5,
          -36.8,
          -690,
          -105.9,
          -46.2,
          -55.2,
          -31.3,
          -26.2,
          -56.9,
          -35.6,
          -30.7,
          -24.5,
          -59.3,
          -196.8,
          -34.1,
          -71.8,
          -44.3,
          -48.7,
          -38.4,
          -63.9,
          -314.3,
          -301.7,
          -30.6,
          -61.3,
          -35,
          -72.2,
          -68.9,
          -601.7,
          -47.4,
          -62.6,
          -35.5,
          -97.3,
          -38.7,
          2.8,
          -62.7,
          -50.1,
          -36.1,
          -81.1,
          -136,
          -40.6,
          -44.9
         ],
         "yaxis": "y3"
        }
       ],
       "layout": {
        "template": {
         "data": {
          "bar": [
           {
            "error_x": {
             "color": "#2a3f5f"
            },
            "error_y": {
             "color": "#2a3f5f"
            },
            "marker": {
             "line": {
              "color": "#E5ECF6",
              "width": 0.5
             },
             "pattern": {
              "fillmode": "overlay",
              "size": 10,
              "solidity": 0.2
             }
            },
            "type": "bar"
           }
          ],
          "barpolar": [
           {
            "marker": {
             "line": {
              "color": "#E5ECF6",
              "width": 0.5
             },
             "pattern": {
              "fillmode": "overlay",
              "size": 10,
              "solidity": 0.2
             }
            },
            "type": "barpolar"
           }
          ],
          "carpet": [
           {
            "aaxis": {
             "endlinecolor": "#2a3f5f",
             "gridcolor": "white",
             "linecolor": "white",
             "minorgridcolor": "white",
             "startlinecolor": "#2a3f5f"
            },
            "baxis": {
             "endlinecolor": "#2a3f5f",
             "gridcolor": "white",
             "linecolor": "white",
             "minorgridcolor": "white",
             "startlinecolor": "#2a3f5f"
            },
            "type": "carpet"
           }
          ],
          "choropleth": [
           {
            "colorbar": {
             "outlinewidth": 0,
             "ticks": ""
            },
            "type": "choropleth"
           }
          ],
          "contour": [
           {
            "colorbar": {
             "outlinewidth": 0,
             "ticks": ""
            },
            "colorscale": [
             [
              0,
              "#0d0887"
             ],
             [
              0.1111111111111111,
              "#46039f"
             ],
             [
              0.2222222222222222,
              "#7201a8"
             ],
             [
              0.3333333333333333,
              "#9c179e"
             ],
             [
              0.4444444444444444,
              "#bd3786"
             ],
             [
              0.5555555555555556,
              "#d8576b"
             ],
             [
              0.6666666666666666,
              "#ed7953"
             ],
             [
              0.7777777777777778,
              "#fb9f3a"
             ],
             [
              0.8888888888888888,
              "#fdca26"
             ],
             [
              1,
              "#f0f921"
             ]
            ],
            "type": "contour"
           }
          ],
          "contourcarpet": [
           {
            "colorbar": {
             "outlinewidth": 0,
             "ticks": ""
            },
            "type": "contourcarpet"
           }
          ],
          "heatmap": [
           {
            "colorbar": {
             "outlinewidth": 0,
             "ticks": ""
            },
            "colorscale": [
             [
              0,
              "#0d0887"
             ],
             [
              0.1111111111111111,
              "#46039f"
             ],
             [
              0.2222222222222222,
              "#7201a8"
             ],
             [
              0.3333333333333333,
              "#9c179e"
             ],
             [
              0.4444444444444444,
              "#bd3786"
             ],
             [
              0.5555555555555556,
              "#d8576b"
             ],
             [
              0.6666666666666666,
              "#ed7953"
             ],
             [
              0.7777777777777778,
              "#fb9f3a"
             ],
             [
              0.8888888888888888,
              "#fdca26"
             ],
             [
              1,
              "#f0f921"
             ]
            ],
            "type": "heatmap"
           }
          ],
          "heatmapgl": [
           {
            "colorbar": {
             "outlinewidth": 0,
             "ticks": ""
            },
            "colorscale": [
             [
              0,
              "#0d0887"
             ],
             [
              0.1111111111111111,
              "#46039f"
             ],
             [
              0.2222222222222222,
              "#7201a8"
             ],
             [
              0.3333333333333333,
              "#9c179e"
             ],
             [
              0.4444444444444444,
              "#bd3786"
             ],
             [
              0.5555555555555556,
              "#d8576b"
             ],
             [
              0.6666666666666666,
              "#ed7953"
             ],
             [
              0.7777777777777778,
              "#fb9f3a"
             ],
             [
              0.8888888888888888,
              "#fdca26"
             ],
             [
              1,
              "#f0f921"
             ]
            ],
            "type": "heatmapgl"
           }
          ],
          "histogram": [
           {
            "marker": {
             "pattern": {
              "fillmode": "overlay",
              "size": 10,
              "solidity": 0.2
             }
            },
            "type": "histogram"
           }
          ],
          "histogram2d": [
           {
            "colorbar": {
             "outlinewidth": 0,
             "ticks": ""
            },
            "colorscale": [
             [
              0,
              "#0d0887"
             ],
             [
              0.1111111111111111,
              "#46039f"
             ],
             [
              0.2222222222222222,
              "#7201a8"
             ],
             [
              0.3333333333333333,
              "#9c179e"
             ],
             [
              0.4444444444444444,
              "#bd3786"
             ],
             [
              0.5555555555555556,
              "#d8576b"
             ],
             [
              0.6666666666666666,
              "#ed7953"
             ],
             [
              0.7777777777777778,
              "#fb9f3a"
             ],
             [
              0.8888888888888888,
              "#fdca26"
             ],
             [
              1,
              "#f0f921"
             ]
            ],
            "type": "histogram2d"
           }
          ],
          "histogram2dcontour": [
           {
            "colorbar": {
             "outlinewidth": 0,
             "ticks": ""
            },
            "colorscale": [
             [
              0,
              "#0d0887"
             ],
             [
              0.1111111111111111,
              "#46039f"
             ],
             [
              0.2222222222222222,
              "#7201a8"
             ],
             [
              0.3333333333333333,
              "#9c179e"
             ],
             [
              0.4444444444444444,
              "#bd3786"
             ],
             [
              0.5555555555555556,
              "#d8576b"
             ],
             [
              0.6666666666666666,
              "#ed7953"
             ],
             [
              0.7777777777777778,
              "#fb9f3a"
             ],
             [
              0.8888888888888888,
              "#fdca26"
             ],
             [
              1,
              "#f0f921"
             ]
            ],
            "type": "histogram2dcontour"
           }
          ],
          "mesh3d": [
           {
            "colorbar": {
             "outlinewidth": 0,
             "ticks": ""
            },
            "type": "mesh3d"
           }
          ],
          "parcoords": [
           {
            "line": {
             "colorbar": {
              "outlinewidth": 0,
              "ticks": ""
             }
            },
            "type": "parcoords"
           }
          ],
          "pie": [
           {
            "automargin": true,
            "type": "pie"
           }
          ],
          "scatter": [
           {
            "fillpattern": {
             "fillmode": "overlay",
             "size": 10,
             "solidity": 0.2
            },
            "type": "scatter"
           }
          ],
          "scatter3d": [
           {
            "line": {
             "colorbar": {
              "outlinewidth": 0,
              "ticks": ""
             }
            },
            "marker": {
             "colorbar": {
              "outlinewidth": 0,
              "ticks": ""
             }
            },
            "type": "scatter3d"
           }
          ],
          "scattercarpet": [
           {
            "marker": {
             "colorbar": {
              "outlinewidth": 0,
              "ticks": ""
             }
            },
            "type": "scattercarpet"
           }
          ],
          "scattergeo": [
           {
            "marker": {
             "colorbar": {
              "outlinewidth": 0,
              "ticks": ""
             }
            },
            "type": "scattergeo"
           }
          ],
          "scattergl": [
           {
            "marker": {
             "colorbar": {
              "outlinewidth": 0,
              "ticks": ""
             }
            },
            "type": "scattergl"
           }
          ],
          "scattermapbox": [
           {
            "marker": {
             "colorbar": {
              "outlinewidth": 0,
              "ticks": ""
             }
            },
            "type": "scattermapbox"
           }
          ],
          "scatterpolar": [
           {
            "marker": {
             "colorbar": {
              "outlinewidth": 0,
              "ticks": ""
             }
            },
            "type": "scatterpolar"
           }
          ],
          "scatterpolargl": [
           {
            "marker": {
             "colorbar": {
              "outlinewidth": 0,
              "ticks": ""
             }
            },
            "type": "scatterpolargl"
           }
          ],
          "scatterternary": [
           {
            "marker": {
             "colorbar": {
              "outlinewidth": 0,
              "ticks": ""
             }
            },
            "type": "scatterternary"
           }
          ],
          "surface": [
           {
            "colorbar": {
             "outlinewidth": 0,
             "ticks": ""
            },
            "colorscale": [
             [
              0,
              "#0d0887"
             ],
             [
              0.1111111111111111,
              "#46039f"
             ],
             [
              0.2222222222222222,
              "#7201a8"
             ],
             [
              0.3333333333333333,
              "#9c179e"
             ],
             [
              0.4444444444444444,
              "#bd3786"
             ],
             [
              0.5555555555555556,
              "#d8576b"
             ],
             [
              0.6666666666666666,
              "#ed7953"
             ],
             [
              0.7777777777777778,
              "#fb9f3a"
             ],
             [
              0.8888888888888888,
              "#fdca26"
             ],
             [
              1,
              "#f0f921"
             ]
            ],
            "type": "surface"
           }
          ],
          "table": [
           {
            "cells": {
             "fill": {
              "color": "#EBF0F8"
             },
             "line": {
              "color": "white"
             }
            },
            "header": {
             "fill": {
              "color": "#C8D4E3"
             },
             "line": {
              "color": "white"
             }
            },
            "type": "table"
           }
          ]
         },
         "layout": {
          "annotationdefaults": {
           "arrowcolor": "#2a3f5f",
           "arrowhead": 0,
           "arrowwidth": 1
          },
          "autotypenumbers": "strict",
          "coloraxis": {
           "colorbar": {
            "outlinewidth": 0,
            "ticks": ""
           }
          },
          "colorscale": {
           "diverging": [
            [
             0,
             "#8e0152"
            ],
            [
             0.1,
             "#c51b7d"
            ],
            [
             0.2,
             "#de77ae"
            ],
            [
             0.3,
             "#f1b6da"
            ],
            [
             0.4,
             "#fde0ef"
            ],
            [
             0.5,
             "#f7f7f7"
            ],
            [
             0.6,
             "#e6f5d0"
            ],
            [
             0.7,
             "#b8e186"
            ],
            [
             0.8,
             "#7fbc41"
            ],
            [
             0.9,
             "#4d9221"
            ],
            [
             1,
             "#276419"
            ]
           ],
           "sequential": [
            [
             0,
             "#0d0887"
            ],
            [
             0.1111111111111111,
             "#46039f"
            ],
            [
             0.2222222222222222,
             "#7201a8"
            ],
            [
             0.3333333333333333,
             "#9c179e"
            ],
            [
             0.4444444444444444,
             "#bd3786"
            ],
            [
             0.5555555555555556,
             "#d8576b"
            ],
            [
             0.6666666666666666,
             "#ed7953"
            ],
            [
             0.7777777777777778,
             "#fb9f3a"
            ],
            [
             0.8888888888888888,
             "#fdca26"
            ],
            [
             1,
             "#f0f921"
            ]
           ],
           "sequentialminus": [
            [
             0,
             "#0d0887"
            ],
            [
             0.1111111111111111,
             "#46039f"
            ],
            [
             0.2222222222222222,
             "#7201a8"
            ],
            [
             0.3333333333333333,
             "#9c179e"
            ],
            [
             0.4444444444444444,
             "#bd3786"
            ],
            [
             0.5555555555555556,
             "#d8576b"
            ],
            [
             0.6666666666666666,
             "#ed7953"
            ],
            [
             0.7777777777777778,
             "#fb9f3a"
            ],
            [
             0.8888888888888888,
             "#fdca26"
            ],
            [
             1,
             "#f0f921"
            ]
           ]
          },
          "colorway": [
           "#636efa",
           "#EF553B",
           "#00cc96",
           "#ab63fa",
           "#FFA15A",
           "#19d3f3",
           "#FF6692",
           "#B6E880",
           "#FF97FF",
           "#FECB52"
          ],
          "font": {
           "color": "#2a3f5f"
          },
          "geo": {
           "bgcolor": "white",
           "lakecolor": "white",
           "landcolor": "#E5ECF6",
           "showlakes": true,
           "showland": true,
           "subunitcolor": "white"
          },
          "hoverlabel": {
           "align": "left"
          },
          "hovermode": "closest",
          "mapbox": {
           "style": "light"
          },
          "paper_bgcolor": "white",
          "plot_bgcolor": "#E5ECF6",
          "polar": {
           "angularaxis": {
            "gridcolor": "white",
            "linecolor": "white",
            "ticks": ""
           },
           "bgcolor": "#E5ECF6",
           "radialaxis": {
            "gridcolor": "white",
            "linecolor": "white",
            "ticks": ""
           }
          },
          "scene": {
           "xaxis": {
            "backgroundcolor": "#E5ECF6",
            "gridcolor": "white",
            "gridwidth": 2,
            "linecolor": "white",
            "showbackground": true,
            "ticks": "",
            "zerolinecolor": "white"
           },
           "yaxis": {
            "backgroundcolor": "#E5ECF6",
            "gridcolor": "white",
            "gridwidth": 2,
            "linecolor": "white",
            "showbackground": true,
            "ticks": "",
            "zerolinecolor": "white"
           },
           "zaxis": {
            "backgroundcolor": "#E5ECF6",
            "gridcolor": "white",
            "gridwidth": 2,
            "linecolor": "white",
            "showbackground": true,
            "ticks": "",
            "zerolinecolor": "white"
           }
          },
          "shapedefaults": {
           "line": {
            "color": "#2a3f5f"
           }
          },
          "ternary": {
           "aaxis": {
            "gridcolor": "white",
            "linecolor": "white",
            "ticks": ""
           },
           "baxis": {
            "gridcolor": "white",
            "linecolor": "white",
            "ticks": ""
           },
           "bgcolor": "#E5ECF6",
           "caxis": {
            "gridcolor": "white",
            "linecolor": "white",
            "ticks": ""
           }
          },
          "title": {
           "x": 0.05
          },
          "xaxis": {
           "automargin": true,
           "gridcolor": "white",
           "linecolor": "white",
           "ticks": "",
           "title": {
            "standoff": 15
           },
           "zerolinecolor": "white",
           "zerolinewidth": 2
          },
          "yaxis": {
           "automargin": true,
           "gridcolor": "white",
           "linecolor": "white",
           "ticks": "",
           "title": {
            "standoff": 15
           },
           "zerolinecolor": "white",
           "zerolinewidth": 2
          }
         }
        },
        "title": {
         "text": "Slice Plot"
        },
        "xaxis": {
         "anchor": "y",
         "domain": [
          0,
          0.2888888888888889
         ],
         "title": {
          "text": "batch_size"
         }
        },
        "xaxis2": {
         "anchor": "y2",
         "domain": [
          0.35555555555555557,
          0.6444444444444445
         ],
         "title": {
          "text": "gamma"
         }
        },
        "xaxis3": {
         "anchor": "y3",
         "domain": [
          0.7111111111111111,
          1
         ],
         "title": {
          "text": "tau"
         }
        },
        "yaxis": {
         "anchor": "x",
         "domain": [
          0,
          1
         ],
         "title": {
          "text": "Objective Value"
         }
        },
        "yaxis2": {
         "anchor": "x2",
         "domain": [
          0,
          1
         ],
         "matches": "y",
         "showticklabels": false
        },
        "yaxis3": {
         "anchor": "x3",
         "domain": [
          0,
          1
         ],
         "matches": "y",
         "showticklabels": false
        }
       }
      }
     },
     "metadata": {},
     "output_type": "display_data"
    }
   ],
   "source": [
    "fig = optuna.visualization.plot_slice(double_study)\n",
    "fig.write_html('figures/slice.html')\n",
    "fig.write_image('figures/slice.png')\n",
    "fig"
   ]
  }
 ],
 "metadata": {
  "kernelspec": {
   "display_name": ".venv",
   "language": "python",
   "name": "python3"
  },
  "language_info": {
   "codemirror_mode": {
    "name": "ipython",
    "version": 3
   },
   "file_extension": ".py",
   "mimetype": "text/x-python",
   "name": "python",
   "nbconvert_exporter": "python",
   "pygments_lexer": "ipython3",
   "version": "3.9.13"
  }
 },
 "nbformat": 4,
 "nbformat_minor": 2
}
